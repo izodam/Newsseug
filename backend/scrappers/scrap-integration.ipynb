{
 "cells": [
  {
   "cell_type": "markdown",
   "metadata": {},
   "source": [
    "## 동아일보"
   ]
  },
  {
   "cell_type": "code",
   "execution_count": 5,
   "metadata": {},
   "outputs": [
    {
     "name": "stderr",
     "output_type": "stream",
     "text": [
      "INFO:root:category (base_url): 정치 (https://www.donga.com/news/Politics)\n",
      "DEBUG:urllib3.connectionpool:Starting new HTTPS connection (1): www.donga.com:443\n",
      "DEBUG:urllib3.connectionpool:https://www.donga.com:443 \"GET /news/Politics HTTP/11\" 200 None\n",
      "DEBUG:root:Scraping article: https://www.donga.com/news/Society/article/all/20241008/130175675/1\n",
      "DEBUG:urllib3.connectionpool:Starting new HTTPS connection (1): www.donga.com:443\n",
      "DEBUG:urllib3.connectionpool:https://www.donga.com:443 \"GET /news/Society/article/all/20241008/130175675/1 HTTP/11\" 200 None\n",
      "INFO:root:page_category: 사회\n",
      "INFO:root:category: 정치\n",
      "INFO:root:https://www.donga.com/news/Society/article/all/20241008/130175675/1 는 해당 카테고리가 아니어서 생략합니다. \n",
      "ERROR:root:result is None\n",
      "DEBUG:root:Scraping article: https://www.donga.com/news/Politics/article/all/20241008/130175850/1\n",
      "DEBUG:urllib3.connectionpool:Starting new HTTPS connection (1): www.donga.com:443\n",
      "DEBUG:urllib3.connectionpool:https://www.donga.com:443 \"GET /news/Politics/article/all/20241008/130175850/1 HTTP/11\" 200 None\n",
      "INFO:root:page_category: 정치\n",
      "INFO:root:category: 정치\n",
      "INFO:root:Article saved to ./donga/politics/2024-10-08-1\\source-2024-10-08-1.json\n",
      "DEBUG:root:Scraping article: https://www.donga.com/news/Politics/article/all/20241008/130175904/1\n",
      "DEBUG:urllib3.connectionpool:Starting new HTTPS connection (1): www.donga.com:443\n",
      "DEBUG:urllib3.connectionpool:https://www.donga.com:443 \"GET /news/Politics/article/all/20241008/130175904/1 HTTP/11\" 200 None\n"
     ]
    },
    {
     "name": "stdout",
     "output_type": "stream",
     "text": [
      "{'title': '명태균·김대남, 10일 행안위 국감 증인 불출석 통보…“검찰 수사 중”', 'source_url': 'https://www.donga.com/news/Politics/article/all/20241008/130175850/1', 'content': '국회 행정안전위원회가 국정감사 증인으로 채택한 명태균 씨와 김대남 전 SGI서울보증 상근감사위원이 8일 불출석 의사를 밝혔다. 명 씨는 윤석열 대통령의 부인 김건희 여사 ‘공천 개입 의혹’의 핵심 관련자다. 김 전 감사는 대통령실 비서관 직무대리 출신으로, 국민의힘 전당대회를 앞두고 당권주자였던 한동훈 대표에 대한 공격을 사주했다는 의혹을 받고 있다.\\n행안위에 따르면 명 씨와 김 전 감사는 이날 국회에 국감 불출석 이유서를 제출했다. 명 씨는 이유서에 “국정감사 및 조사에 관한 법률에 의거하여 검찰 수사 중이라 출석이 어렵다”고 밝혔다. 김 전 감사는 형사소송법과 국회 증감법(국회에서의 증언‧감정 등에 관한 법)에 따라 불출석한다고 이유서를 냈다.\\n앞서 행안위는 더불어민주당 주도로 김 여사의 4월 총선 공천 개입 의혹을 살펴보겠다며 김 전 감사와 명 씨, 명 씨에게 공천 청탁을 했다는 의혹을 받는 국민의힘 김영선 전 의원 등을 10일 열리는 중앙선거관리위원회 대상 국감에 증인으로 부르기로 했다.\\n명 씨가 연루된 김 전 의원의 공천 청탁 의혹에 대해선 창원지검 형사4부가 수사를 진행하고 있다. 고위공직자범죄수사처도 시민단체 ‘사법정의 바로세우기 시민행동’이 윤 대통령 부부와 명 씨 등을 공천 개입 의혹과 관련해 직권남용 권리행사방해·공직선거법 위반·청탁금지법 위반 혐의로 고발한 사건을 수사하고 있다.\\n또 김 전 감사는 ‘김 여사가 (공천관리위원이던) 국민의힘 이철규 의원을 통해 4월 총선 공천에 개입했다’는 취지의 주장을 편 녹취록이 공개돼 이 의원으로부터 허위사실 유포 및 명예훼손 혐의로 고소를 당했다.', 'category': 'politics', 'source_created_at': '2024-10-08T15:19:00+09:00', 'press_id': 2, 'press_name': '동아일보'}\n"
     ]
    },
    {
     "name": "stderr",
     "output_type": "stream",
     "text": [
      "INFO:root:page_category: 정치\n",
      "INFO:root:category: 정치\n",
      "INFO:root:Article saved to ./donga/politics/2024-10-08-2\\source-2024-10-08-2.json\n",
      "DEBUG:root:Scraping article: https://www.donga.com/news/Politics/article/all/20241008/130175986/1\n",
      "DEBUG:urllib3.connectionpool:Starting new HTTPS connection (1): www.donga.com:443\n",
      "DEBUG:urllib3.connectionpool:https://www.donga.com:443 \"GET /news/Politics/article/all/20241008/130175986/1 HTTP/11\" 200 None\n",
      "INFO:root:page_category: 정치\n"
     ]
    },
    {
     "name": "stdout",
     "output_type": "stream",
     "text": [
      "{'title': '김영호 “北, 회색지대 도발 가능성…인명 피해시 강경 대응”', 'source_url': 'https://www.donga.com/news/Politics/article/all/20241008/130175904/1', 'content': '김영호 통일부 장관은 8일 북한의 쓰레기 풍선 살포가 빈번한 것과 관련해 “회색지대 도발을 단행할 가능성이 점점 높아지고 있다”면서 우리의 인명 피해가 발생할 시 “강경하게 대응해야 한다”라고 강조했다.\\n김 장관은 이날 오전 국회에서 열린 외교통일위원회 국정감사에서 윤상현 국민의힘 의원의 북한의 쓰레기 및 오물풍선 살포와 관련한 질의에 “시간이 갈수록 숫자도 많아지고 낙하 지점도 자기들이 의도하는 대로 보내고 있다”면서 이같이 말했다.\\n이날 윤 의원은 “결국 북한이 원하는 것은 풍선에 기폭장치까지 넣어 풍향이니, 거리니, 무게니 이런 것을 전부 데이터로 축적하려는 것”이라며 “비대칭적 군사 위협 요인으로 활용하기 위해 하나의 실험을 진행하는 것”이라고 주장했다.\\n김 장관은 우리가 쓰레기 풍선 살포에 대해 군사적 조치를 취할 수 있는 명확한 ‘레드라인’을 설정해 북한에 알려야 한다는 윤 의원의 요구에 “(풍선에) 화학물질을 넣어서 보내거나 우리 국민의 인명 피해가 날 경우는 명백한 도발”이라면서 “우리 정부가 적절하게, 강하게 대응해야 한다”라고 강조했다.\\n(서울=뉴스1)', 'category': 'politics', 'source_created_at': '2024-10-08T15:18:00+09:00', 'press_id': 2, 'press_name': '동아일보'}\n"
     ]
    },
    {
     "name": "stderr",
     "output_type": "stream",
     "text": [
      "INFO:root:category: 정치\n",
      "INFO:root:Article saved to ./donga/politics/2024-10-08-3\\source-2024-10-08-3.json\n",
      "DEBUG:root:Scraping article: https://www.donga.com/news/Politics/article/all/20241008/130176145/1\n",
      "DEBUG:urllib3.connectionpool:Starting new HTTPS connection (1): www.donga.com:443\n",
      "DEBUG:urllib3.connectionpool:https://www.donga.com:443 \"GET /news/Politics/article/all/20241008/130176145/1 HTTP/11\" 200 None\n",
      "INFO:root:page_category: 정치\n"
     ]
    },
    {
     "name": "stdout",
     "output_type": "stream",
     "text": [
      "{'title': '“北 의주비행장 군사시설로 복원…코로나19 이후 3년 반 만”', 'source_url': 'https://www.donga.com/news/Politics/article/all/20241008/130175986/1', 'content': '38노스 보도…“폭격기 30여 대 비행장에 계류 확인”\\n북한 평안북도의 의주비행장이 ‘코로나19 방역 거점’에서 군사시설로 복원된 정황이 발견됐다고 미국의 북한 전문 매체 38노스가 8일 보도했다.\\n38노스는 민간 위성 서비스 ‘플래닛랩스’가 지난 4일 촬영한 위성사진을 통해 북한이 보유한 일류신(IL)-28 중거리 폭격기 30여 대가 비행장의 정비 구역(에이프런)에 계류된 모습을 포착했다.\\n위성사진에서는 5대의 항공기가 남동쪽 경계선에, 16대가 북동쪽 경계선에 그리고 9대가 극동쪽 경계선에 위치한 것이 확인됐다.\\n북한은 지난 2021년 12월 신종 코로나바이러스 감염증(코로나19) 팬데믹을 계기로 비행장을 검역 센터로 전환해 중국에서 들어오는 물품을 검역하는 데 활용했다. 그러다 올해 초부터 이곳에 격리된 화물이 크게 줄었고 지난 8월에는 화물 컨테이너가 모두 사라지고 비행장 복원 작업이 시작된 것이 확인됐다.\\n(서울=뉴스1)', 'category': 'politics', 'source_created_at': '2024-10-08T15:22:00+09:00', 'press_id': 2, 'press_name': '동아일보'}\n"
     ]
    },
    {
     "name": "stderr",
     "output_type": "stream",
     "text": [
      "INFO:root:category: 정치\n",
      "INFO:root:Article saved to ./donga/politics/2024-10-08-4\\source-2024-10-08-4.json\n"
     ]
    },
    {
     "name": "stdout",
     "output_type": "stream",
     "text": [
      "{'title': '숙대 총장 “김건희 여사 논문 심사, 공정·투명하게 진행 중”', 'source_url': 'https://www.donga.com/news/Politics/article/all/20241008/130176145/1', 'content': '교육위 국정감사…野, 김건희 논문표절 문제 ‘질타’\\n‘석사논문 검증’ 공약한 숙대 총장 “절차 진행 중”\\n이주호 “표절률만으로 표절 판정 단정 신중해야”\\n이주호 사회부총리 겸 교육부 장관은 표절 의혹이 있는 숙명여대의 김건희 여사 논문 연구윤리 심사에 외압을 행사하지 않게 하겠냐는 지적에 “당연하다”고 8일 답했다. 심사 의지를 밝힌 숙대 신임 총장도 절차가 진행되고 있다고 했다.\\n이 부총리는 이날 오후 국회 교육위원회가 가진 교육부 등에 대한 국정감사에 출석해 이같이 답변했다.\\n진선미 더불어민주당 의원은 윤석열 대통령 부부의 체코 순방 기간 현지 언론이 김 여사 관련 논란을 보도한 걸 두고 “교육부 장관 책임도 막중하다”고 했다.\\n진 의원은 “대한민국이 표방하는 인재들이 논문을 쓰고 학위를 따서 석·박사를 받아 전 세계에서 활동한다”며 “이런 문제가 공개적으로 만천 하에 논의되고 있는게 현재진행형이라는 건 문제”라고 했다.\\n그러면서 “(김 여사의) 석사학위 논문 표절 심사가 진행될 것인데 교육부 장관은 심사가 공정히 처리되도록 외압을 행사 않도록 하겠나”라고 물었다.\\n이 부총리는 “당연하다”며 “정부는 거듭 이야기합니다만 대학이나 학계의 이 문제(연구윤리 검증)는 자율에 맡기는 것이 원칙”이라고 답했다.\\n진 의원은 참고인으로 출석한 문시연 숙대 총장을 호출해 “(김 여사 논문을) 다시 심사한다고 했는데 공정하고 투명하게 해주겠나”라고 했다.\\n이에 문 총장은 “그렇게 진행되고 있다”고 답했다.\\n문 총장은 앞서 숙대 총장 선거에 출마하면서 김 여사 석사 논문 표절 의혹에 대한 진상 규명을 공약했다. 지난 6월 학내 총장후보자 토론회에서는 ‘지연된 정의는 정의가 아니다’라며 의지를 밝힌 것으로 전해졌다.\\n이날 야권에서는 김 여사의 과거 논문에 대한 연구부정 의혹에 대한 맹공을 이어갔다.\\n김준혁 민주당 의원은 국민대에서 발행한 김 여사의 박사학위 논문을 검증 프로그램 ‘카피킬러’로 검증해 보니 표절률이 29%가 나왔다고 주장했다.\\n이를 두고 이 부총리는 “사실 표절에 대한 다양한, 여러 가지 기준이 있으니 신중해야 할 듯(하다)”고 했다.\\n윤석열 정부 들어 교육부가 ‘연구윤리 확보를 위한 지침’을 고쳐 ‘공공의 이익 달성을 이유로 검증이 필요하다고 판단되면 교육부가 표절 의혹 논문을 검증할 수 있다’는 조문을 뺀 점도 지적됐다.\\n이 부총리는 “제가 보고 받기론 대학의 자율성 침해, 규제법정주의 위반 우려로 자체 규제심의위원회 심의 결과에 따라서 빠진 것으로 알고 있다‘고 해명했다.\\n한편 이날 국회 교육위는 김 여사 논문 표절 의혹과 관련해 김지용 학교법인 국민학원(국민대) 이사장, 설민신 한경국립대 교수와 장윤금 전 숙대 총장을 증인으로 출석 요구했으나 3명 모두 출석하지 않았다.\\n[세종=뉴시스]', 'category': 'politics', 'source_created_at': '2024-10-08T15:51:00+09:00', 'press_id': 2, 'press_name': '동아일보'}\n"
     ]
    },
    {
     "name": "stderr",
     "output_type": "stream",
     "text": [
      "INFO:root:category (base_url): 경제 (https://www.donga.com/news/Economy)\n",
      "DEBUG:urllib3.connectionpool:Starting new HTTPS connection (1): www.donga.com:443\n",
      "DEBUG:urllib3.connectionpool:https://www.donga.com:443 \"GET /news/Economy HTTP/11\" 200 None\n",
      "DEBUG:root:Scraping article: https://www.donga.com/news/Economy/article/all/20241008/130175763/1\n",
      "DEBUG:urllib3.connectionpool:Starting new HTTPS connection (1): www.donga.com:443\n",
      "DEBUG:urllib3.connectionpool:https://www.donga.com:443 \"GET /news/Economy/article/all/20241008/130175763/1 HTTP/11\" 200 None\n",
      "INFO:root:page_category: 경제\n",
      "INFO:root:category: 경제\n",
      "INFO:root:Article saved to ./donga/economy/2024-10-08-1\\source-2024-10-08-1.json\n",
      "DEBUG:root:Scraping article: https://www.donga.com/news/Society/article/all/20241008/130175993/1\n",
      "DEBUG:urllib3.connectionpool:Starting new HTTPS connection (1): www.donga.com:443\n",
      "DEBUG:urllib3.connectionpool:https://www.donga.com:443 \"GET /news/Society/article/all/20241008/130175993/1 HTTP/11\" 200 None\n",
      "INFO:root:page_category: 사회\n",
      "INFO:root:category: 경제\n",
      "INFO:root:https://www.donga.com/news/Society/article/all/20241008/130175993/1 는 해당 카테고리가 아니어서 생략합니다. \n",
      "ERROR:root:result is None\n",
      "DEBUG:root:Scraping article: https://www.donga.com/news/Economy/article/all/20241008/130175715/1\n",
      "DEBUG:urllib3.connectionpool:Starting new HTTPS connection (1): www.donga.com:443\n"
     ]
    },
    {
     "name": "stdout",
     "output_type": "stream",
     "text": [
      "{'title': '‘자연과 예술이 만난다’… 제1회 숲숲영화제, 월출산 도갑사서 12일 개막', 'source_url': 'https://www.donga.com/news/Economy/article/all/20241008/130175763/1', 'content': '자연·예술과 하나 되는 특별한 영화제, 전남 영암서 열린다\\n2024년 제1회 숲숲영화제가 오는 12일부터 11월 2일까지 전라남도 영암 월출산 도갑사에서 열린다. 올해 첫 개최 되는 숲숲영화제는 고즈넉한 사찰을 배경으로, 자연 속에서 영화를 감상하고 다양한 체험을 즐길 수 있는 독특한 영화제로 기획됐다.\\n이번 영화제는 영화 상영 외에도 다양한 체험 프로그램을 통해 자연과 전통문화를 함께 경험할 기회를 제공한다. 사찰 음식을 맛볼 수 있는 특별 체험, 온 가족이 함께하는 환상의 매직쇼, 갤러리 기획전 및 나비 날리기 이벤트 등 다채로운 프로그램이 마련돼 관객들의 기대를 모으고 있다.\\n숲숲영화제는 현재 얼리버드(사전신청자) 참가자를 모집 중이며 총 15명의 참가자를 선착순으로 모집한다고 한다. 얼리버드로 선정된 참가자는 영화제 기간 중 1박의 숙소와 비건 도시락을 포함한 3식을 제공 받는다. 자연과 예술이 어우러진 특별한 경험을 원하는 이들에게는 매력적인 기회가 될 것으로 기대된다.\\n숲숲영화제 관계자는 “자연 속에서 예술을 즐길 수 있는 특별한 시간을 마련했다. 관객들이 편안하게 휴식을 취하며 색다른 경험을 할 수 있을 것”이라고 전했다.', 'category': 'economy', 'source_created_at': '2024-10-08T15:05:00+09:00', 'press_id': 2, 'press_name': '동아일보'}\n"
     ]
    },
    {
     "name": "stderr",
     "output_type": "stream",
     "text": [
      "DEBUG:urllib3.connectionpool:https://www.donga.com:443 \"GET /news/Economy/article/all/20241008/130175715/1 HTTP/11\" 200 None\n",
      "INFO:root:page_category: 경제\n",
      "INFO:root:category: 경제\n",
      "INFO:root:Article saved to ./donga/economy/2024-10-08-2\\source-2024-10-08-2.json\n",
      "DEBUG:root:Scraping article: https://www.donga.com/news/Economy/article/all/20241008/130176167/1\n",
      "DEBUG:urllib3.connectionpool:Starting new HTTPS connection (1): www.donga.com:443\n",
      "DEBUG:urllib3.connectionpool:https://www.donga.com:443 \"GET /news/Economy/article/all/20241008/130176167/1 HTTP/11\" 200 None\n",
      "INFO:root:page_category: 경제\n",
      "INFO:root:category: 경제\n",
      "INFO:root:Article saved to ./donga/economy/2024-10-08-3\\source-2024-10-08-3.json\n",
      "DEBUG:root:Scraping article: https://www.donga.com/news/Economy/article/all/20241008/130176339/1\n",
      "DEBUG:urllib3.connectionpool:Starting new HTTPS connection (1): www.donga.com:443\n"
     ]
    },
    {
     "name": "stdout",
     "output_type": "stream",
     "text": [
      "{'title': '‘金배추’ 값 떨어지나…정부 “출하 늘고 마트 할인 지원, 하순부터 안정화”', 'source_url': 'https://www.donga.com/news/Economy/article/all/20241008/130175715/1', 'content': '정부가 최근 폭등했던 배추 가격이 이달 하순에는 안정세로 돌아설 것이라고 전망했다.\\n농림축산식품부는 8일 ‘배추 등 농산물 수급 안정 대책 추진방안’을 통해 이달 중순부터 배추 출하 지역이 늘어나면서 수급이 안정될 것이라고 설명했다. 수급이 정상화되기 전까지는 가을 배추의 조기출하 유도와 수입 배추 공급, 대형마트 할인행사 등을 통해 가격을 안정화하겠다고 밝혔다.\\n농식품부는 도매시장에서 김치 및 외식업체 등의 공급 부족 문제를 해소하기 위해 정부와 민간에서 수입한 배추 4000여t을 집중적으로 공급하기로 했다. 소매시장에서는 소비자들의 부담을 완화하기 위해 9일까지 대형마트에서 최대 40%의 할인 혜택을 받을 수 있도록 지원하고 필요하면 할인 기간을 연장하기로 했다.\\n농식품부는 최근 배추값이 이상 급등하자 주산지의 기온 변화와 강수, 병해충 발생 상황 등을 주시하고 있다. 배추 도매가격은 지난달 중순 포기당 9500원대까지 치솟은 이후 하락세로 돌아서 이날 상품(上品) 기준 포기당 7900원대로 내려왔다. 박순연 농식품부 유통소비정책관은 “10일부터 배추 출하 지역이 확대되면 가격이 내림세로 전환되고, 이달 하순에는 출하 물량이 많이 늘어 소비자 부담이 완화될 것으로 보인다”고 말했다.', 'category': 'economy', 'source_created_at': '2024-10-08T16:05:00+09:00', 'press_id': 2, 'press_name': '동아일보'}\n",
      "{'title': 'LH, ‘명예의인상’에 호우피해 현장서 이웃 구한 이용구·권선필 씨 선정', 'source_url': 'https://www.donga.com/news/Economy/article/all/20241008/130176167/1', 'content': 'LH, 임직원 급여 공제로 마련한 ‘LH나눔기금’으로 우리 사회 의인 발굴·포상\\n지난 7월 호우피해 현장에서 인명구조에 적극 나선 이용구 씨와 권선필씨가 LH로부터 ‘LH명예의인(義人)상’을 수상했다.\\nLH는 2024년 제1호, 2호 ’LH 명예의인‘으로 이용구씨와 권선필씨를 선정하고 ‘LH명예의인상’과 포상금 500만원을 수여했다고 8일 밝혔다.\\n‘LH명예의인상’은 2023년 임직원 급여공제로 마련된 나눔기금을 활용한 것으로, 재난·주거안전 관련 위험한 상황에 타의 모범이 된 우리 사회 숨은 의인에게 수여되는 상이다.\\n지난 7월 집중호우로 대전 충남 지역 비 피해가 심각하던 무렵 이용구씨는 본인이 거주하던 충남 논산 신양2리 마을이 침수되자 물에 뛰어들어 이웃을 구해냈다.\\n권선필 씨는 대전 서구의 한 마을에서 자신의 1인용 카약을 타고 물바다에 고립된 이웃 주민들을 구해낸 공로를 인정받았다.\\n조경숙 LH 경영관리본부장은 “집중호우 등 위험한 상황에서 이웃의 소중한 생명을 구하기 위해 살신성인의 자세로 위험을 무릅쓴 시민 영웅들의 헌신이 우리 사회에 확산되고 기억되길 바란다”라고 말했다.', 'category': 'economy', 'source_created_at': '2024-10-08T16:19:00+09:00', 'press_id': 2, 'press_name': '동아일보'}\n"
     ]
    },
    {
     "name": "stderr",
     "output_type": "stream",
     "text": [
      "DEBUG:urllib3.connectionpool:https://www.donga.com:443 \"GET /news/Economy/article/all/20241008/130176339/1 HTTP/11\" 200 None\n",
      "INFO:root:page_category: 경제\n",
      "INFO:root:category: 경제\n",
      "INFO:root:Article saved to ./donga/economy/2024-10-08-4\\source-2024-10-08-4.json\n"
     ]
    },
    {
     "name": "stdout",
     "output_type": "stream",
     "text": [
      "{'title': '코스피, 2600선 밑으로…삼성전자, 6만원 턱걸이 [마감시황]', 'source_url': 'https://www.donga.com/news/Economy/article/all/20241008/130176339/1', 'content': '코스피가 외국인과 기관의 동반 매도세에 다시 2600선 밑으로 밀려났다. 3분기 부진한 잠정 실적을 공개한 삼성전자는 1%대 약세를 기록했다.\\n8일 코스피는 전일 대비 16.02포인트(0.61%) 내린 2594.36에 마감했다. 지수는 전날 종가 기준 2600포인트를 회복했지만 이날 삼성전자의 3분기 잠정 실적 부진, 외국인 수급 이탈 등 각종 재료에 주목하며 재차 2500선으로 미끄러졌다.\\n이경민 대신증권 연구원은 “장 전 발표된 삼성전자 잠정실적이 다소 실망스러운 수준으로 발표됐다”면서도 “그나마 삼성전자 실적에 대한 시장 기대감이 크지 않았던 만큼 낙폭은 제한되며 주가는 6만원선을 간신히 지켜냈다”고 설명했다.\\n이 연구원은 “삼성전자 필두로 반도체 업종 하락하며 지수 하락을 부추겼다”면서 “전일 미국 증시가 하락한 것 역시 지수 하락 원인”이라고 말했다.\\n이날 유가증권시장에서 외국인과 기관은 각각 3752억원, 3493억원을 순매도했다. 반면 개인은 6917억원을 사들였다.\\n업종별로는 통신업(-2.63%), 섬유의복(-1.90%), 음식료품(-1.79%), 화학(-1.30%), 전기전자(-1.04%), 유통업(-1.03%), 보험(-1.03%), 기계(-0.94%) 등이 부진했다. 반면 건설업(1.15%), 서비스업(0.13%), 의약품(0.04%) 등은 올랐다.\\n시가총액 상위 종목들은 엇갈렸다. 대장주 삼성전자는 700원(1.15%) 6만300원에, SK하이닉스는 6900원(3.73%) 하락한 17만8000원에 거래를 마쳤다. 그외 현대차, 셀트리온, 기아, POSCO홀딩스, 신한지주, 삼성물산 등이 하락했지만 LG에너지솔루션(3.93%), KB금융(2.41%) 등은 강세를 보였다.\\n코스닥 지수는 2.77포인트(0.35%) 내린 778.24에 마감했다.\\n코스닥 시총 상위 종목 중에서는 리가켐바이오(4.45%), 알테오젠(2.64%) 등의 강세가 돋보였다. 반면 삼천당제약(-5.94%), 실리콘투(-4.79%), HPSP(-3.57%), HLB(-3.53%) 등은 부진했다.\\n[서울=뉴시스]', 'category': 'economy', 'source_created_at': '2024-10-08T16:05:00+09:00', 'press_id': 2, 'press_name': '동아일보'}\n"
     ]
    },
    {
     "name": "stderr",
     "output_type": "stream",
     "text": [
      "INFO:root:category (base_url): 국제 (https://www.donga.com/news/Inter)\n",
      "DEBUG:urllib3.connectionpool:Starting new HTTPS connection (1): www.donga.com:443\n",
      "DEBUG:urllib3.connectionpool:https://www.donga.com:443 \"GET /news/Inter HTTP/11\" 200 None\n",
      "DEBUG:root:Scraping article: https://www.donga.com/news/Inter/article/all/20241008/130174544/2\n",
      "DEBUG:urllib3.connectionpool:Starting new HTTPS connection (1): www.donga.com:443\n",
      "DEBUG:urllib3.connectionpool:https://www.donga.com:443 \"GET /news/Inter/article/all/20241008/130174544/2 HTTP/11\" 200 None\n",
      "INFO:root:page_category: 국제\n",
      "INFO:root:category: 국제\n",
      "INFO:root:Article saved to ./donga/world/2024-10-08-1\\source-2024-10-08-1.json\n",
      "DEBUG:root:Scraping article: https://www.donga.com/news/It/article/all/20241008/130174699/1\n",
      "DEBUG:urllib3.connectionpool:Starting new HTTPS connection (1): www.donga.com:443\n",
      "DEBUG:urllib3.connectionpool:https://www.donga.com:443 \"GET /news/It/article/all/20241008/130174699/1 HTTP/11\" 200 None\n",
      "INFO:root:page_category: IT/의학\n",
      "INFO:root:category: 국제\n",
      "INFO:root:https://www.donga.com/news/It/article/all/20241008/130174699/1 는 해당 카테고리가 아니어서 생략합니다. \n",
      "ERROR:root:result is None\n",
      "DEBUG:root:Scraping article: https://www.donga.com/news/Inter/article/all/20241008/130174713/1\n",
      "DEBUG:urllib3.connectionpool:Starting new HTTPS connection (1): www.donga.com:443\n"
     ]
    },
    {
     "name": "stdout",
     "output_type": "stream",
     "text": [
      "{'title': '“안돼! 돌아와”…골프 대회 중 골프공 물고 도망간 강아지 (영상)', 'source_url': 'https://www.donga.com/news/Inter/article/all/20241008/130174544/2', 'content': '유럽프로골프투어의 한 대회에서 강아지가 축구선수 개러스 베일이 친 공을 물고 도망가는 일이 벌어졌다.\\n6일(현지시간) 영국의 텔레그래프 등에 따르면 이 상황은 전날 스코틀랜드 커누스티 링크스에서 열린 DP월드투어 알프레드 던힐 링크스 챔피언십 3라운드에서 있었다.\\n손흥민과 프리미어리그(EPL)에서 같이 뛰었던 베일은 그린 주변 둔덕에서 칩샷(공을 많이 띄우지 않고 낮게 굴려서 홀에 붙이는 샷)을 홀 3m에 안착시켰다.\\n베일이 칩샷을 날리자 그린에 난입한 강아지 한 마리가 ‘공놀이’ 상황으로 인식해 공을 물어 주인에게 돌아갔다.\\n주변에 있던 사람들은 크게 웃으며 “안돼!”, “돌아와”라고 소리질렀다.\\n다행히 골프 규정상 원래 공이 떨어진 자리에 다른 공을 놓고 경기를 재개할 수 있어서 베일은 경기를 이어갈 수 있었다. 베일은 이날 19언더파로 경기를 마쳤다.\\n누리꾼들은 “주인이 베일의 승리를 원치 않아 일부러 시킨 것 아니냐”, “너무 귀엽다”, “주인이 엄청 당황한게 보인다”, “이런 이벤트 하나씩 있어야 골프가 재미있다” 등의 반응을 보였다.\\n다만 일부 누리꾼들은 강아지가 목줄을 하지 않은 점을 지적하며 “펫티켓(펫+에티켓)이 부족하다”는 반응을 보이기도 했다.\\n던힐 링크스 챔피언십은 스코틀랜드의 세인트앤드루스 올드 코스, 커누스티, 킹스 반스 3개 코스를 번갈아 돌며 프로와 아마추어가 함께 경기하는 대회다. 유명 운동선수와 프로선수들이 경기를 하는 장면이 연출되기도 한다.', 'category': 'world', 'source_created_at': '2024-10-08T11:41:00+09:00', 'press_id': 2, 'press_name': '동아일보'}\n"
     ]
    },
    {
     "name": "stderr",
     "output_type": "stream",
     "text": [
      "DEBUG:urllib3.connectionpool:https://www.donga.com:443 \"GET /news/Inter/article/all/20241008/130174713/1 HTTP/11\" 200 None\n",
      "INFO:root:page_category: 국제\n",
      "INFO:root:category: 국제\n",
      "INFO:root:Article saved to ./donga/world/2024-10-08-2\\source-2024-10-08-2.json\n",
      "DEBUG:root:Scraping article: https://www.donga.com/news/Inter/article/all/20241008/130175385/1\n",
      "DEBUG:urllib3.connectionpool:Starting new HTTPS connection (1): www.donga.com:443\n",
      "DEBUG:urllib3.connectionpool:https://www.donga.com:443 \"GET /news/Inter/article/all/20241008/130175385/1 HTTP/11\" 200 None\n",
      "INFO:root:page_category: 국제\n",
      "INFO:root:category: 국제\n"
     ]
    },
    {
     "name": "stdout",
     "output_type": "stream",
     "text": [
      "{'title': '해리스, 허리케인 구호 전화 안 받은 디샌티스 직격…“이기적이고 무책임”', 'source_url': 'https://www.donga.com/news/Inter/article/all/20241008/130174713/1', 'content': '허리케인으로 비상사태 걸린 상황서 공방전 가열\\n미국 민주당 대선후보인 카멀라 해리스 부통령은 7일(현지시각) 허리케인 구호 관련 전화를 받지 않은 론 디샌티스 플로리다 주지사가 “정치적인 게임”을 하고 있다고 비난했다고 미 정치 매체 폴리티코가 보도했다.\\n보도에 따르면 해리스 후보는 이날 뉴욕으로 가기 전 기자들에게 “비상사태로 위기가 정점에 있는 이 상황에서 정치적인 게임을 하는 것은 완전히 무책임하고 이기적이며 정치적인 술수에 불과하다”고 지적했다.\\n앞서 NBC뉴스는 이날 익명의 디샌티스 주지사 보좌관을 인용, 주지사가 허리케인 피해 복구에 관한 해리스 후보의 전화를 받지 않았다고 보도했다.\\n디샌티스 주지사는 관련 보도를 봤다면서도 해리스 후보가 자신에게 연락한 사실을 몰랐다고 주장했다.\\n그는 “그녀(해리스 후보)가 전화를 걸었다는 사실을 몰랐다. 누구한테 전화했는지 잘 모르겠다. 그들은 나에게 전화하지 않았다”며 정치 게임을 하고 있다는 해리스 후보의 발언을 반박했다.\\n허리케인 ‘헐린’이 미국을 강타하면서 최소 200명이 사망하고 수백만 명이 정전으로 고통을 받았다. 플로리다주는 헐린으로 막대한 피해가 발생한 데 이어 또 다른 허리케인 ‘밀턴’이 북상하면서 비상이 걸렸다. 5등급으로 격상된 밀턴은 9일 오전 8시께 플로리다를 관통한 뒤 대서양 쪽으로 빠져나갈 것으로 예보됐다.\\n백악관과 디샌티스 주지사가 허리케인 수습을 놓고 대립하는 것은 이번이 처음이 아니다.\\n조 바이든 대통령이 지난주 허리케인 헐린 피해 상황을 점검하기 위해 플로리다주를 방문했을 때 디샌티스 주지사는 다른 지역에서 기자회견을 열어 대통령을 무시했다는 논란을 일으켰다.\\n디샌티스 주지사는 지난해 8월 말 허리케인 이달리아가 플로리다를 강타했을 때도 바이든 대통령을 영접하지 않았다고 폴리티코는 전했다. 바이든 대통령은 당시 전용기 에어포스원을 타고 질 바이든 여사와 함께 플로리다를 방문했다.\\n[서울=뉴시스]', 'category': 'world', 'source_created_at': '2024-10-08T12:19:00+09:00', 'press_id': 2, 'press_name': '동아일보'}\n"
     ]
    },
    {
     "name": "stderr",
     "output_type": "stream",
     "text": [
      "INFO:root:Article saved to ./donga/world/2024-10-08-3\\source-2024-10-08-3.json\n",
      "DEBUG:root:Scraping article: https://www.donga.com/news/Society/article/all/20241008/130175506/2\n",
      "DEBUG:urllib3.connectionpool:Starting new HTTPS connection (1): www.donga.com:443\n",
      "DEBUG:urllib3.connectionpool:https://www.donga.com:443 \"GET /news/Society/article/all/20241008/130175506/2 HTTP/11\" 200 None\n",
      "INFO:root:page_category: 사회\n",
      "INFO:root:category: 국제\n",
      "INFO:root:https://www.donga.com/news/Society/article/all/20241008/130175506/2 는 해당 카테고리가 아니어서 생략합니다. \n",
      "ERROR:root:result is None\n",
      "DEBUG:root:Scraping article: https://www.donga.com/news/Politics/article/all/20241008/130175430/2\n",
      "DEBUG:urllib3.connectionpool:Starting new HTTPS connection (1): www.donga.com:443\n"
     ]
    },
    {
     "name": "stdout",
     "output_type": "stream",
     "text": [
      "{'title': '스위프트, 세계에서 가장 부유한 여성 뮤지션 등극', 'source_url': 'https://www.donga.com/news/Inter/article/all/20241008/130175385/1', 'content': '세계적인 팝스타 테일러 스위프트가 세계에서 가장 부유한 여성 뮤지션으로 등극했다.\\n6일(현지시각) 미국 경제지 포브스는 스위프트가 순자산 16억 달러(약 2조1558억원)를 기록하며 전 세계 여성 뮤지션 가운데 최고 자산가가 됐다고 밝혔다.\\n스위프트는 14억 달러(약 1조8880억원)의 순자산을 보유한 리한나를 앞지르고 단숨에 1위에 올랐다. 전체 뮤지션 중에서는 전체 뮤지션 중에서는 1위인 제이지(Jay Z)에 이어 2위다.\\n지난해 10월 억만장자로 등극해 리한나를 바짝 추격하던 스위프트는 종전 1위였던 리한나를 이번에 처음으로 추월했다.\\n다만 ‘역대 가장 부유한 여성 뮤지션’ 타이틀은 한때 17억7000만 달러(약 2조3879억원)를 보유했던 리한나가 유지하고 있다.\\n포브스는 스위프트를 “음반과 공연만으로 억만장자가 된 최초의 인물”이라고 평가하며 그의 ‘에라스 투어’(Eras Tour)와 음반 수익이 자산 순위를 견인했다고 분석했다.\\n매체에 따르면 스위프트는 로열티와 투어 수익으로 6억 달러(약 8096억원), 음반 카탈로그로 6억 달러를 벌어들였다. 스포티파이 로열티로만 1억 달러(약 1349억원)의 수입을 올린 것으로 알려졌다.\\n1억2500만 달러(약 1686억원) 상당의 부동산도 자산에 포함됐다.\\n한편 8억5000만 달러(약 1조1475억원)의 자산을 보유한 마돈나가 리한나의 뒤를 이었다. 비욘세도 7억6000만 달러(약 1조260억원)의 자산을 기록하며 차례대로 이름을 올렸다.\\n[서울=뉴시스]', 'category': 'world', 'source_created_at': '2024-10-08T14:04:00+09:00', 'press_id': 2, 'press_name': '동아일보'}\n"
     ]
    },
    {
     "name": "stderr",
     "output_type": "stream",
     "text": [
      "DEBUG:urllib3.connectionpool:https://www.donga.com:443 \"GET /news/Politics/article/all/20241008/130175430/2 HTTP/11\" 200 None\n",
      "INFO:root:page_category: 정치\n",
      "INFO:root:category: 국제\n",
      "INFO:root:https://www.donga.com/news/Politics/article/all/20241008/130175430/2 는 해당 카테고리가 아니어서 생략합니다. \n",
      "ERROR:root:result is None\n",
      "DEBUG:root:Scraping article: https://www.donga.com/news/Inter/article/all/20241008/130175641/2\n",
      "DEBUG:urllib3.connectionpool:Starting new HTTPS connection (1): www.donga.com:443\n",
      "DEBUG:urllib3.connectionpool:https://www.donga.com:443 \"GET /news/Inter/article/all/20241008/130175641/2 HTTP/11\" 200 None\n",
      "INFO:root:page_category: 국제\n",
      "INFO:root:category: 국제\n",
      "INFO:root:Article saved to ./donga/world/2024-10-08-4\\source-2024-10-08-4.json\n"
     ]
    },
    {
     "name": "stdout",
     "output_type": "stream",
     "text": [
      "{'title': '“잃을 게 너무 많아”…악명높은 中 ‘996 근무제’ 겪은 영국인', 'source_url': 'https://www.donga.com/news/Inter/article/all/20241008/130175641/2', 'content': '중국 게임사에서 근무했던 영국 남성이 중국의 악명 높은 ‘996 근무제’(오전 9시~오후 9시 주 6일 근무) 경험담을 털어놨다.\\n6일(현지시간) 홍콩 사우스차이나모닝포스트(SCMP)와 비즈니스인사이더(BI)에 따르면 영국 요크셔 출신 잭 포스다이크(28)는 2022년 중국 광저우에 있는 게임사 넷이즈에 입사했다. 그는 2년간 초과 근무가 없는 번역 업무를 했다. 그러던 중 회사 제안으로 올해 1월부터 게임 디자인 직무를 맡게 됐다. 4월부터는 업무량이 급격히 증가했다.\\n포스다이크가 속한 팀은 마감일을 맞추기 위해 주당 80시간 이상 일하기도 했다. 포스다이크는 “매일 오전 10시에 근무를 시작했다. 4월에는 평균 퇴근 시간이 밤 10시 이후였고, 자정까지 일한 적도 있다”며 “토요일 근무를 3주 연속으로 하기도 했다”고 말했다. 그러면서 초과 근무가 필수는 아니었지만, 팀원들을 실망하게 하고 싶지 않았고 프로젝트가 지연되는 게 싫었다고 밝혔다.\\n초과 근무로 인해 포스다이크는 집에 오면 잠자기에 바빴다. 모든 끼니를 회사에서 먹다 보니 아내와 같이 식사할 시간도 없었다.\\n그는 소셜미디어에 수척해진 자신의 사진과 함께 “왜 이 직무를 수락했을까”라는 자조적인 글을 올렸다. 이 글은 26만5000회 이상 조회되는 등 중국 현지에서도 많은 누리꾼의 공감을 샀다.\\n포스다이크는 현재 넷이즈의 일자리 감축으로 직장을 잃어 하얼빈으로 이사한 뒤 쉬고 있는 것으로 알려졌다. 그는 “내 꿈은 여전히 중국에서 게임을 만드는 것이지만, 996 근무제를 다시 할 수 있을진 모르겠다. 잃을 것이 너무 많기 때문”이라고 전했다.\\n중국 정보기술(IT) 업계에서는 996 근무제로 인한 과로사가 잇따라 발생한 바 있다. 2022년 7월 저장성 항저우에 있는 인터넷 업체에서 근무하던 20대는 사흘 연속 새벽까지 근무한 뒤 과로로 쓰러져 숨졌다. 중국판 유튜브 ‘비리비리’와 메신저 업체 ‘웨이신’, 동영상 공유 플랫폼 틱톡의 모회사인 ‘바이트댄스’ 직원이 잇따라 사망하기도 했다.', 'category': 'world', 'source_created_at': '2024-10-08T14:40:00+09:00', 'press_id': 2, 'press_name': '동아일보'}\n"
     ]
    },
    {
     "name": "stderr",
     "output_type": "stream",
     "text": [
      "INFO:root:category (base_url): 사회_사건 (https://www.donga.com/news/Society/Event)\n",
      "DEBUG:urllib3.connectionpool:Starting new HTTPS connection (1): www.donga.com:443\n",
      "DEBUG:urllib3.connectionpool:https://www.donga.com:443 \"GET /news/Society/Event HTTP/11\" 200 None\n",
      "DEBUG:root:Scraping article: https://www.donga.com/news/Society/article/all/20241008/130176392/2\n",
      "DEBUG:urllib3.connectionpool:Starting new HTTPS connection (1): www.donga.com:443\n",
      "DEBUG:urllib3.connectionpool:https://www.donga.com:443 \"GET /news/Society/article/all/20241008/130176392/2 HTTP/11\" 200 None\n",
      "INFO:root:page_category: 사회\n",
      "INFO:root:category: 사회_사건\n",
      "INFO:root:Article saved to ./donga/accident/2024-10-08-1\\source-2024-10-08-1.json\n",
      "DEBUG:root:Scraping article: https://www.donga.com/news/Society/article/all/20241008/130176008/2\n",
      "DEBUG:urllib3.connectionpool:Starting new HTTPS connection (1): www.donga.com:443\n",
      "DEBUG:urllib3.connectionpool:https://www.donga.com:443 \"GET /news/Society/article/all/20241008/130176008/2 HTTP/11\" 200 None\n"
     ]
    },
    {
     "name": "stdout",
     "output_type": "stream",
     "text": [
      "{'title': '소주 7병 마시고 어학 수업…‘무자격’ 미국인 강사 징역 7년', 'source_url': 'https://www.donga.com/news/Society/article/all/20241008/130176392/2', 'content': '소주 7병을 마신 상태에서 어학원 수업을 진행하다 5세 여아를 성추행한 무자격 미국인 강사가 중형을 선고받았다.\\n8일 법조계에 따르면 부산지법 형사7부(부장판사 신헌기)는 성폭력 범죄 특별법 위반(13세 미만 강제추행)과 출입국관리법 위반 혐의 기소된 미국인 A 씨에게 징역 7년을 선고했다. 또 아동·청소년·장애인 관련 기관에 5년간 취업제한도 명령했다.\\nA 씨는 지난 5월 22일 부산 동래구 한 어학원에서 술을 마시고 영어 수업을 하다가 5세 여아를 수차례 강제 추행한 혐의로 기소됐다.\\n재판부는 “아동 보호가 필요한 곳에서 어린 학생을 상대로 범행해 죄질이 좋지 않다”며 “국내 양형 기준은 국적이나 인종에 차별을 두지 않기 때문에 우리나라 양형기준에 따라서 형을 결정했다”며 판시했다.\\n지난 3월 관광비자로 입국한 A 씨는 취업 활동을 할 수 있는 자격도 없이 어학원에서 영어 강사로 근무한 혐의도 받는다.\\nA 씨 측은 재판 과정에서 혐의를 모두 인정하면서도 “알코올 중독 증세가 있었고 개인의 불우한 사정을 참작해 달라”며 선처를 호소했다.\\n검찰은 지난 8월 20일에 열린 결심 공판에서 A 씨에게 징역 10년을 구형한 바 있다.', 'category': 'accident', 'source_created_at': '2024-10-08T16:16:00+09:00', 'press_id': 2, 'press_name': '동아일보'}\n"
     ]
    },
    {
     "name": "stderr",
     "output_type": "stream",
     "text": [
      "INFO:root:page_category: 사회\n",
      "INFO:root:category: 사회_사건\n",
      "INFO:root:Article saved to ./donga/accident/2024-10-08-2\\source-2024-10-08-2.json\n",
      "DEBUG:root:Scraping article: https://www.donga.com/news/Society/article/all/20241008/130175608/1\n",
      "DEBUG:urllib3.connectionpool:Starting new HTTPS connection (1): www.donga.com:443\n",
      "DEBUG:urllib3.connectionpool:https://www.donga.com:443 \"GET /news/Society/article/all/20241008/130175608/1 HTTP/11\" 200 None\n",
      "INFO:root:page_category: 사회\n",
      "INFO:root:category: 사회_사건\n",
      "INFO:root:Article saved to ./donga/accident/2024-10-08-3\\source-2024-10-08-3.json\n",
      "DEBUG:root:Scraping article: https://www.donga.com/news/Society/article/all/20241008/130174875/1\n",
      "DEBUG:urllib3.connectionpool:Starting new HTTPS connection (1): www.donga.com:443\n"
     ]
    },
    {
     "name": "stdout",
     "output_type": "stream",
     "text": [
      "{'title': '“4년간 지옥이었다”…학창시절 왕따 고백한 성시경과 박서준', 'source_url': 'https://www.donga.com/news/Society/article/all/20241008/130176008/2', 'content': '가수 성시경(45)과 배우 박서준(35)이 학창 시절 따돌림을 당했다고 털어놨다.\\n유튜브 채널 ‘성시경’에는 지난 7일 ‘처음 만난 서준이한테 반해버렸습니다’라는 제목의 영상이 게재됐다.\\n영상에서 박서준은 “어릴 때는 진짜 소심하고 낯가림도 엄청 심했다. 너무 쑥스러워서 식당에서 주문도 못 했다”며 “그런 성격이 너무 싫었던 건 중학교 3학년 때였다. 어디 가서 말도 못 하고 제 자신이 너무 바보 같았다”고 말문을 열었다.\\n이에 성시경은 “허우대도 멀쩡하고 키도 컸을 텐데 친구들 사이에서 왕따는 없지 않았나”고 물었고, 박서준은 “초등학교 땐 왕따도 좀 당했다. 중학교 때도 자연스럽게 조용한 부류 중 한 명이었다”고 말했다.\\n성시경은 “요즘 왕따 논란이 많다. 나도 처음 얘기하는데 (초등학교) 1학년 때부터 4학년 때까지 지옥이었다”며 “(가해자들이) ‘끝나고 남아’라고 하는데 난 누굴 때리는 성격도 아니고 싸움도 싫었다. 근데 지나고 나니까 누굴 때린 거보다 다행인 거 같다”고 말했다.\\n그러면서 “(왕따가) 얼마나 지옥 같은지 난 정확히 기억하고 있다. 애들이 참 순수한데 순수한 만큼 너무 순수하게 못됐다”고 덧붙였다.\\n박서준은 “결국에는 자존감과 자신감의 문제인 것 같다”며 “그때는 당연히 내가 ‘난 별거 아니니까’라며 자신감도 많이 떨어진 아이였는데 연기를 시작하면서 자신감도 생기고 얘기도 조금 할 수 있게 됐다”고 전했다.', 'category': 'accident', 'source_created_at': '2024-10-08T15:36:00+09:00', 'press_id': 2, 'press_name': '동아일보'}\n",
      "{'title': '“에어컨 배선 교체도 안했다” 부천 화재 참사 호텔 4명 영장', 'source_url': 'https://www.donga.com/news/Society/article/all/20241008/130175608/1', 'content': '경찰, 소유주 등 구속영장 신청\\n19명의 사상자가 발생한 부천 호텔 화재 사고와 관련, 해당 호텔 소유주 등 4명에 대한 구속영장이 신청됐다.\\n경기남부경찰청 부천 화재 사고 수사본부는 8일 업무상 과실치사상 등의 혐의로 호텔 소유주 A(66)씨와 운영자 B(42)씨, 또 다른 운영자인 A씨의 딸 C(45)씨, 호텔 매니저 D(36·여)씨 등 4명에 대해 구속영장을 신청했다고 밝혔다.\\n이들은 지난 8월 22일 오후 7시37분께 부천 중동의 한 호텔에서 불이나 7명이 숨지고 12명이 중경상을 입는 등 사고와 관련해 호텔의 안전 관리 책임을 소홀히 한 혐의를 받고 있다.\\nA씨는 지난 2004년 10월 준공된 해당 호텔을 지난 2017년 5월에 인수한 뒤, 다음 해인 지난 2018년 5월께 전 객실 에어컨 교체 과정에서 공사 난이도·영업지장 우려 등을 이유로, 전체적인 배선 교체 대신 노후 전선을 계속 사용하도록 결정했다.\\n당시 에어컨 설치업자는 기존의 에어컨 실내·외기 전선의 길이가 짧아 작업이 어려워지자 기존 전선에 새로운 전선을 연결하면서 슬리브 등 안전장치 없이 절연테이프로만 허술하게 마감한 것으로 파악됐다.\\n이후 에어컨 A/S 기사가 전선에 문제가 있을 수 있음을 수차례 권고했음에도 불구, 호텔 관계자들은 근본적인 배선공사 없이 방치했다.\\n경찰은 또 에어매트 낙하 추락사 한 투숙객 2명과 관련해 ▲경사와 굴곡으로 인해 고정이 용이하지 않은 점 ▲여성이 급박하게 뛰어내리던 중 매트의 모서리 지점으로 낙하해 매트가 전도된 점 ▲남성은 전도 상태인 매트에 추락함으로써 충격을 흡수하지 못하고 바닥에 튕기면서 사망한 점 등을 고려해 소방의 책임으로 돌리기는 어렵다고 판단했다.\\n경찰 관계자는 “화재 발생과 피해 확산에 책임 있다고 판단한 호텔 소유주 등 관계자 4명을 피의자로 입건하고 이들에 대한 구속영장을 신청했다”고 말했다.\\n이어 “수사를 통해 확인된 소방 구조장비의 운용상 개선점과 호텔 객실의 도어클로져 의무적 설치 필요성에 대해 관계기관에 통보할 예정”이라고 덧붙였다.\\n화재는 지난 8월22일 오후 7시37분께 부천시 원미구 중동의 한 호텔에서 발생했으며 이 불로 투숙객 7명이 숨지고 12명이 중경상을 입었다. 이번 화재는 810호 객실 에어컨의 실내·외기 연결 전선에서 전기적 요인으로 화재가 발생했고, 열려있던 810호 객실 문과 비상구 방화문을 통해 화염과 연기가 급속하게 복도와 9층으로 확산되면서 인명 피해가 컸던 것으로 파악됐다.\\n[부천=뉴시스]', 'category': 'accident', 'source_created_at': '2024-10-08T14:30:00+09:00', 'press_id': 2, 'press_name': '동아일보'}\n"
     ]
    },
    {
     "name": "stderr",
     "output_type": "stream",
     "text": [
      "DEBUG:urllib3.connectionpool:https://www.donga.com:443 \"GET /news/Society/article/all/20241008/130174875/1 HTTP/11\" 200 None\n",
      "INFO:root:page_category: 사회\n",
      "INFO:root:category: 사회_사건\n",
      "INFO:root:Article saved to ./donga/accident/2024-10-08-4\\source-2024-10-08-4.json\n"
     ]
    },
    {
     "name": "stdout",
     "output_type": "stream",
     "text": [
      "{'title': '고속도로서 택시 기사 폭행…KAIST 교수 징역 1년6개월 구형', 'source_url': 'https://www.donga.com/news/Society/article/all/20241008/130174875/1', 'content': '서울에서 대전으로 택시를 타고 이동하던 중 고속도로에서 택시 기사를 폭행한 혐의로 재판에 넘겨진 한국과학기술원(KAIST) 교수에게 검찰이 실형을 구형했다.\\n대전지법 형사4단독 이제승 판사는 8일 오전 11시10분 317호 법정에서 특정 범죄 가중 처벌 등에 관한 법률 위반(운전자 폭행 등), 공무집행방해 혐의로 기소된 A(62)씨에 대한 결심 공판을 진행했다.\\n검찰은 이날 “고속도로를 운전하던 피해자 B씨에게 폭행을 저질렀고 출동한 경찰도 폭행했다”며 A씨에게 징역 1년 6개월을 구형했다.\\nA씨 측 변호인은 최후 변론에서 “변명의 여지가 없는 잘못을 저질러 깊이 반성하고 있고 불안감을 느꼈을 피해자에게 상당히 죄송하며 피해자가 제출한 엄벌탄원서를 보고 또다시 반성했다”며 “피고인은 수학을 전공하며 학계와 교육계에 본인의 인생을 한평생 바쳐 살아왔고 현재 직위해제와 정직 3개월이라는 중징계 처분을 받은 점을 고려해 달라”고 말했다.\\nA씨는 최후 진술에서 “피해자들에게 머리 숙여 사과하며 스스로에 대한 실망감과 자괴감으로 하루하루 후회하고 반성하는 삶을 살고 있다”며 “사건 후로 음주를 멀리하고 평생 그럴 예정이며 피해자들이 입은 피해와 이 사건이 사회에 끼치는 영향을 생각하며 살겠다”고 호소했다.\\n재판부는 오는 11월15일 오후 2시에 A씨에 대한 선고를 이어갈 방침이다.\\nA씨는 지난해 12월30일 서울 강남에서 대전으로 이동하기 위해 택시를 타고 고속도로를 이동하던 중 택시 기사인 B씨의 뺨을 때리고 팔을 잡아끄는 등 폭행한 혐의로 재판에 넘겨졌다.\\n당시 B씨가 항의했으나 A씨는 택시가 약 30㎞를 달리던 동안 폭행 및 운전 방해 등을 했으며 신고를 받아 출동한 경찰에게도 폭행을 했던 것으로 알려졌다.\\n[대전=뉴시스]', 'category': 'accident', 'source_created_at': '2024-10-08T13:27:00+09:00', 'press_id': 2, 'press_name': '동아일보'}\n"
     ]
    },
    {
     "name": "stderr",
     "output_type": "stream",
     "text": [
      "INFO:root:category (base_url): 경제_과학 (https://www.donga.com/news/It/List)\n",
      "DEBUG:urllib3.connectionpool:Starting new HTTPS connection (1): www.donga.com:443\n",
      "DEBUG:urllib3.connectionpool:https://www.donga.com:443 \"GET /news/It/List HTTP/11\" 200 None\n",
      "DEBUG:root:Scraping article: https://www.donga.com/news/It/article/all/20241008/130176200/1\n",
      "DEBUG:urllib3.connectionpool:Starting new HTTPS connection (1): www.donga.com:443\n",
      "DEBUG:urllib3.connectionpool:https://www.donga.com:443 \"GET /news/It/article/all/20241008/130176200/1 HTTP/11\" 200 None\n",
      "INFO:root:page_category: IT/의학\n",
      "INFO:root:category: 경제_과학\n",
      "INFO:root:https://www.donga.com/news/It/article/all/20241008/130176200/1 는 해당 카테고리가 아니어서 생략합니다. \n",
      "ERROR:root:result is None\n",
      "DEBUG:root:Scraping article: https://www.donga.com/news/It/article/all/20241008/130176205/1\n",
      "DEBUG:urllib3.connectionpool:Starting new HTTPS connection (1): www.donga.com:443\n",
      "DEBUG:urllib3.connectionpool:https://www.donga.com:443 \"GET /news/It/article/all/20241008/130176205/1 HTTP/11\" 200 None\n",
      "INFO:root:page_category: IT/의학\n",
      "INFO:root:category: 경제_과학\n",
      "INFO:root:https://www.donga.com/news/It/article/all/20241008/130176205/1 는 해당 카테고리가 아니어서 생략합니다. \n",
      "ERROR:root:result is None\n",
      "DEBUG:root:Scraping article: https://www.donga.com/news/It/article/all/20241008/130176053/1\n",
      "DEBUG:urllib3.connectionpool:Starting new HTTPS connection (1): www.donga.com:443\n",
      "DEBUG:urllib3.connectionpool:https://www.donga.com:443 \"GET /news/It/article/all/20241008/130176053/1 HTTP/11\" 200 None\n",
      "INFO:root:page_category: IT/의학\n",
      "INFO:root:category: 경제_과학\n",
      "INFO:root:https://www.donga.com/news/It/article/all/20241008/130176053/1 는 해당 카테고리가 아니어서 생략합니다. \n",
      "ERROR:root:result is None\n",
      "DEBUG:root:Scraping article: https://www.donga.com/news/It/article/all/20241008/130174699/1\n",
      "DEBUG:urllib3.connectionpool:Starting new HTTPS connection (1): www.donga.com:443\n",
      "DEBUG:urllib3.connectionpool:https://www.donga.com:443 \"GET /news/It/article/all/20241008/130174699/1 HTTP/11\" 200 None\n",
      "INFO:root:page_category: IT/의학\n",
      "INFO:root:category: 경제_과학\n",
      "INFO:root:https://www.donga.com/news/It/article/all/20241008/130174699/1 는 해당 카테고리가 아니어서 생략합니다. \n",
      "ERROR:root:result is None\n",
      "DEBUG:root:Scraping article: https://www.donga.com/news/Inter/article/all/20241008/130174544/2\n",
      "DEBUG:urllib3.connectionpool:Starting new HTTPS connection (1): www.donga.com:443\n",
      "DEBUG:urllib3.connectionpool:https://www.donga.com:443 \"GET /news/Inter/article/all/20241008/130174544/2 HTTP/11\" 200 None\n",
      "INFO:root:page_category: 국제\n",
      "INFO:root:category: 경제_과학\n",
      "INFO:root:https://www.donga.com/news/Inter/article/all/20241008/130174544/2 는 해당 카테고리가 아니어서 생략합니다. \n",
      "ERROR:root:result is None\n",
      "DEBUG:root:Scraping article: https://www.donga.com/news/It/article/all/20241008/130174314/1\n",
      "DEBUG:urllib3.connectionpool:Starting new HTTPS connection (1): www.donga.com:443\n",
      "DEBUG:urllib3.connectionpool:https://www.donga.com:443 \"GET /news/It/article/all/20241008/130174314/1 HTTP/11\" 200 None\n",
      "INFO:root:page_category: IT/의학\n",
      "INFO:root:category: 경제_과학\n",
      "INFO:root:https://www.donga.com/news/It/article/all/20241008/130174314/1 는 해당 카테고리가 아니어서 생략합니다. \n",
      "ERROR:root:result is None\n",
      "DEBUG:root:Scraping article: https://www.donga.com/news/It/article/all/20241008/130174194/1\n",
      "DEBUG:urllib3.connectionpool:Starting new HTTPS connection (1): www.donga.com:443\n",
      "DEBUG:urllib3.connectionpool:https://www.donga.com:443 \"GET /news/It/article/all/20241008/130174194/1 HTTP/11\" 200 None\n",
      "INFO:root:page_category: IT/의학\n",
      "INFO:root:category: 경제_과학\n",
      "INFO:root:https://www.donga.com/news/It/article/all/20241008/130174194/1 는 해당 카테고리가 아니어서 생략합니다. \n",
      "ERROR:root:result is None\n",
      "DEBUG:root:Scraping article: https://www.donga.com/news/It/article/all/20241008/130174181/1\n",
      "DEBUG:urllib3.connectionpool:Starting new HTTPS connection (1): www.donga.com:443\n",
      "DEBUG:urllib3.connectionpool:https://www.donga.com:443 \"GET /news/It/article/all/20241008/130174181/1 HTTP/11\" 200 None\n",
      "INFO:root:page_category: IT/의학\n",
      "INFO:root:category: 경제_과학\n",
      "INFO:root:https://www.donga.com/news/It/article/all/20241008/130174181/1 는 해당 카테고리가 아니어서 생략합니다. \n",
      "ERROR:root:result is None\n",
      "DEBUG:root:Scraping article: https://www.donga.com/news/Economy/article/all/20241008/130174088/1\n",
      "DEBUG:urllib3.connectionpool:Starting new HTTPS connection (1): www.donga.com:443\n",
      "DEBUG:urllib3.connectionpool:https://www.donga.com:443 \"GET /news/Economy/article/all/20241008/130174088/1 HTTP/11\" 200 None\n",
      "INFO:root:page_category: 경제\n",
      "INFO:root:category: 경제_과학\n",
      "INFO:root:Article saved to ./donga/science/2024-10-08-1\\source-2024-10-08-1.json\n",
      "DEBUG:root:Scraping article: https://www.donga.com/news/Politics/article/all/20241008/130173917/1\n",
      "DEBUG:urllib3.connectionpool:Starting new HTTPS connection (1): www.donga.com:443\n",
      "DEBUG:urllib3.connectionpool:https://www.donga.com:443 \"GET /news/Politics/article/all/20241008/130173917/1 HTTP/11\" 200 None\n",
      "INFO:root:page_category: 정치\n",
      "INFO:root:category: 경제_과학\n",
      "INFO:root:https://www.donga.com/news/Politics/article/all/20241008/130173917/1 는 해당 카테고리가 아니어서 생략합니다. \n",
      "ERROR:root:result is None\n",
      "DEBUG:root:Scraping article: https://www.donga.com/news/It/article/all/20241007/130167542/1\n",
      "DEBUG:urllib3.connectionpool:Starting new HTTPS connection (1): www.donga.com:443\n"
     ]
    },
    {
     "name": "stdout",
     "output_type": "stream",
     "text": [
      "{'title': '“저, 결혼합니다”…‘벌써?’ 하는 마음에 클릭했다간 내폰, 남폰 된다', 'source_url': 'https://www.donga.com/news/Economy/article/all/20241008/130174088/1', 'content': '모바일 청첩장과 부고장 가장한 스미싱 수법 확산\\n악성 링크 클릭하도록 유도…사용자 모르게 결제 진행\\n출처 불분명한 URL은 절대 클릭하지 말고 즉시 삭제\\n#[청첩장] 모바일 청첩장: 저의 결혼식에 초대합니다. 결혼식 일시 : 4/08(토) 많이 와주세요.\\n#[부고장] 아버님께서 금일 아침에 별세하셨기에 삼가 알려드립니다.\\n최근 모바일 청첩장·부고장을 사칭한 스미싱(문자 피싱)이 기승을 부리고 있어 보안 업계가 각별한 주의를 당부하고 있다. 이 스미싱은 지인 또는 그 가족을 사칭해 부고나 청첩장 인터넷주소(URL)를 담은 문자를 보내는 형태인데, 사용자가 이를 클릭하면 악성앱이 설치돼 개인정보 탈취와 소액결제 피해로 이어질 수 있다.\\n보안 전문가들은 출처 불명 URL 클릭을 피하고, 악성 앱 설치 시 모바일 백신으로 삭제할 것을 권장하고 있다. 또 피싱 의심 메시지를 받았을 때는 발신 번호를 확인하고 의심스러운 경우 번거롭더라도 본인에게 직접 문의하는 것이 좋다고 조언한다.\\n한국인터넷진흥원(KISA)에 따르면 국내 스미싱(문자 피싱)탐지건 수는 올 상반기에만 88만7859건을 기록해 지난해 연간 탐지수를 이미 초과했다.\\n◆악성앱 설치되면 좀비폰 전락…지인들에 스미싱 재유포로 이어져\\n8일 보안업계에 따르면, 청첩장·부고장을 사칭하는 스미싱 범죄가 유행하고 있다. 휴대전화 사용자의 지인을 사칭하거나, 지인의 가족을 사칭해 결혼 또는 부고 소식을 알리는 내용으로 위장했다.\\n일례로 ‘저희 결혼식에 초대합니다~ 꼭 참석하시길 바랍니다’ ‘[모바일] 청첩장 시간 7·8(토)AM 11:00 결혼식에 오세요’ 또는 ‘[부고]모친님께서 오늘 별세하였기에 삼가 알려드립니다’ ‘남편께서 어제 오후3시경 교통사고로 돌아가셨기에 삼가알려드립니다’ 등과 같은 내용을 담고 있다.\\n이러한 스미싱에는 URL이 포함돼 있는데, 이 주소를 클릭해야 모바일 청첩장이나 결혼식장·장례식장 위치를 확인할 수 있는 것처럼 보인다.\\n무심코 해당 URL을 클릭하면 악성사이트로 연결해 개인정보를 요구하거나, 악성앱을 설치하도록 유도한다. 특히 악성앱이 설치되면 피해자의 스마트폰은 그야말로 좀비폰이 된다. 기기 정보(IMEI)부터 공동인증서, 주소록 등의 민감한 정보가 유출될 수 있으며, 금융정보까지 탈취당할 위험이 크다. 또 휴대전화 주소록에 저장된 사람들에게 감염 휴대폰 번호로 부고 스미싱 문자를 재전송하는 등 주변인들의 추가 피해를 발생할 수 있다.\\n◆문자 내 출처 불분명한 URL 클릭은 반드시 조심 또 조심\\n보안 전문가들은 이러한 스미싱에 당하지 않기 위해 출처가 불분명한 URL은 절대 클릭하지 말고, 즉시 삭제해야 한다고 조언한다. 또 의심스러운 메시지를 받았을 때는 발신자의 전화번호를 확인하고 해당 지인에게 직접 연락해 사실 여부를 확인하는 것이 중요하다.\\n만약 문자메시지에 포함된 URL을 클릭해 악성앱을 설치했다면, 모바일 백신으로 앱을 삭제하거나 수동으로 제거해야 한다. 또 스미싱 문자 재발송을 위해 번호가 도용될 수 있으므로 이동통신사별 부가서비스 항목에서 무료로 신청가능한 ‘번호도용 문자 차단 서비스’를 신청해 번호가 도용되지 않도록 차단할 수 있다.\\n감염된 스마트폰을 통해 금융서비스를 이용했을 경우에는 공인인증서와 보안카드를 재발급받고, 금융 정보가 유출됐을 가능성에 대비해야 한다. 동시에 스마트폰에 설치된 악성앱이 주소록을 조회해 다른 사람에게 유사한 내용의 스미싱을 발송하는 등 2차 피해가 발생할 수 있으므로 주변 지인에게 스미싱 피해 사실을 알려야 한다.\\n이스트시큐리티 ESRC(시큐리티대응센터) 관계자는 “문자 메세지 내 첨부돼 있는 링크의 클릭을 지양하시기 바라며, 링크를 통해 내려오는 악성 앱 설치 파일(apk) 설치 혹은 링크를 통해 접근한 피싱 페이지에서 개인정보를 입력하지 마시기 바란다”고 당부했다.\\n[서울=뉴시스]', 'category': 'science', 'source_created_at': '2024-10-08T10:07:00+09:00', 'press_id': 2, 'press_name': '동아일보'}\n"
     ]
    },
    {
     "name": "stderr",
     "output_type": "stream",
     "text": [
      "DEBUG:urllib3.connectionpool:https://www.donga.com:443 \"GET /news/It/article/all/20241007/130167542/1 HTTP/11\" 200 None\n",
      "INFO:root:page_category: IT/의학\n",
      "INFO:root:category: 경제_과학\n",
      "INFO:root:https://www.donga.com/news/It/article/all/20241007/130167542/1 는 해당 카테고리가 아니어서 생략합니다. \n",
      "ERROR:root:result is None\n",
      "DEBUG:root:Scraping article: https://www.donga.com/news/Economy/article/all/20241008/130172944/2\n",
      "DEBUG:urllib3.connectionpool:Starting new HTTPS connection (1): www.donga.com:443\n",
      "DEBUG:urllib3.connectionpool:https://www.donga.com:443 \"GET /news/Economy/article/all/20241008/130172944/2 HTTP/11\" 200 None\n",
      "INFO:root:page_category: 경제\n",
      "INFO:root:category: 경제_과학\n",
      "INFO:root:Article saved to ./donga/science/2024-10-08-2\\source-2024-10-08-2.json\n",
      "DEBUG:root:Scraping article: https://www.donga.com/news/Economy/article/all/20241007/130171102/2\n",
      "DEBUG:urllib3.connectionpool:Starting new HTTPS connection (1): www.donga.com:443\n",
      "DEBUG:urllib3.connectionpool:https://www.donga.com:443 \"GET /news/Economy/article/all/20241007/130171102/2 HTTP/11\" 200 None\n",
      "INFO:root:page_category: 경제\n"
     ]
    },
    {
     "name": "stdout",
     "output_type": "stream",
     "text": [
      "{'title': '네이버 “AI 학습에 뉴스 사용, 보상 문제 협의할 것”', 'source_url': 'https://www.donga.com/news/Economy/article/all/20241008/130172944/2', 'content': '[2024 국정감사]\\n과방위, 빅테크 독과점 문제 질타\\n김태규 “구글-애플 인앱결제 강제\\n방통위 정상화 되면 즉시 제재”\\n김태규 방송통신위원장 직무대행이 구글·애플 ‘인앱결제’(앱 내부 결제) 강제 문제와 관련해 “내부 조사가 완성된 단계로 방통위만 정상화된다면 바로 조치를 취할 수 있다”고 밝혔다.\\n김 직무대행은 7일 국회 과학기술정보방송통신위원회(과방위) 방통위 대상 국정감사에서 “구글·애플의 횡포에 미국이나 유럽에선 이에 상응하는 제재 조치를 최근에 취했다”는 국민의힘 최수진 의원의 지적에 대해 “적절한 대응이 빨리 이뤄져야 한다”며 이같이 말했다.\\n이날 과방위 국감은 글로벌 빅테크가 독점적 지위를 이용해 한국 정보기술(IT) 생태계가 흔들리고 있다는 지적이 쏟아졌다. 특히 방통위가 앞서 소비자들에게 자사 인앱결제를 강제했다는 이유로 구글 475억 원, 애플 205억 원 등의 과징금을 부과하겠다고 밝혔지만 제재를 1년째 확정하지 못하고 있다는 지적이 나왔다. 8월부터는 이진숙 방통위원장의 직무정지로 방통위 심의의결 기능이 마비된 상태다.\\n김 직무대행은 “구글·애플은 유럽에서는 외부 결제를 전부 허용하고 있는 것으로 파악된다”며 “과징금 규모도 우리나라는 3%가 상한인데 유럽은 10% 이상 부과하는 경우도 있기 때문에 법 제도 정비가 필요한 것 아닌가 생각한다”고 과징금 상향 검토를 시사했다.\\n또 정부 광고가 구글 등에 집중됐다는 지적도 나왔다. 더불어민주당 이정헌 의원이 최근 공개한 한국언론진흥재단 자료에 따르면 지난해 우리 정부는 구글과 유튜브에 광고비 674억 원을 지급했다. 그전까지 정부 광고 수익 1위였던 KBS를 넘어선 금액이다.\\n이날 증인으로 출석한 김경훈 구글코리아 사장은 유튜브 프리미엄 구독료가 1만4900원인 단일요금제만 운영해 국내 소비자들의 선택권을 제약한다는 지적에 대해 “(가족요금제, 학생요금제 등의 출시를 위해) 백방으로 노력하고 있다”고 했다.\\n국민의힘 최형두 의원은 “포털 네이버가 뉴스 유통 지배력을 바탕으로 뉴스 시장을 장악하고 있고, (AI 학습에 사용되는) 언론사 뉴스 콘텐츠에 대한 정당한 지식재산권 보상을 지급하지 않고 있다”고 지적했다. 이에 김수향 네이버 뉴스서비스 총괄 전무는 “언론계와 함께 협의해 나가겠다”고 답했다.', 'category': 'science', 'source_created_at': '2024-10-08T03:00:00+09:00', 'press_id': 2, 'press_name': '동아일보'}\n"
     ]
    },
    {
     "name": "stderr",
     "output_type": "stream",
     "text": [
      "INFO:root:category: 경제_과학\n",
      "INFO:root:Article saved to ./donga/science/2024-10-08-3\\source-2024-10-08-3.json\n",
      "DEBUG:root:Scraping article: https://www.donga.com/news/Inter/article/all/20241008/130173111/1\n",
      "DEBUG:urllib3.connectionpool:Starting new HTTPS connection (1): www.donga.com:443\n",
      "DEBUG:urllib3.connectionpool:https://www.donga.com:443 \"GET /news/Inter/article/all/20241008/130173111/1 HTTP/11\" 200 None\n",
      "INFO:root:page_category: 국제\n",
      "INFO:root:category: 경제_과학\n",
      "INFO:root:https://www.donga.com/news/Inter/article/all/20241008/130173111/1 는 해당 카테고리가 아니어서 생략합니다. \n"
     ]
    },
    {
     "name": "stdout",
     "output_type": "stream",
     "text": [
      "{'title': '“목소리 듣고 AI가 우울증 파악”… 통신3사, ‘멘털케어’ 사업 각축', 'source_url': 'https://www.donga.com/news/Economy/article/all/20241007/130171102/2', 'content': 'SKT, AI 정신건강 서비스 준비\\nKT, 2027년까지 플랫폼 구축 나서\\nLG U+ ‘답다’, 7개월새 고객 2배로\\n국내 이통통신사가 인공지능(AI) 기술을 바탕으로 한 정신건강 관리(멘털케어) 서비스에 뛰어들고 있다. 우울증이나 불안장애, 과도한 업무로 인한 스트레스 등 최근 현대인들의 정신건강 문제에 대한 관심이 높아지며 생성형 AI와 결합한 헬스케어 시장이 확대되면서다.\\n7일 정보통신기술(ICT) 업계에 따르면 SK텔레콤은 지난달 유쾌한프로젝트, 튜링바이오, 이몰로지 등 디지털 정신건강 관리 기술 역량을 가진 기업들과 업무협약(MOU)을 맺고 AI 정신건강 서비스 출시를 준비하고 있다. 목소리나 얼굴 표정만으로도 스트레스와 우울증 징후, 주의 및 집중력 저하 현상을 파악하고 맞춤형 치료를 제공하는 통합 플랫폼을 개발한다는 계획이다. 향후 SK텔레콤은 펫서비스와도 연계해 반려동물 사후 겪는 ‘펫로스’ 증후군을 겪는 이들에게 AI 정신건강 관리 솔루션을 연계하는 등 서비스를 다변화할 방침이다.\\nKT는 과학기술정보통신부와 정보통신산업진흥원(NIPA)이 주관하는 ‘초거대 AI 기반 심리케어 서비스’ 지원 사업을 통해 AI 정신건강 플랫폼 구축에 나선다. 2027년까지 실증 기반의 정신건강 서비스 구축·개발·검증 작업을 진행할 계획이다.간단한 질문에 답변해 현재 상태를 입력하고 자신의 기분을 일기로 작성할 수 있다. 이를 AI가 6가지 감정(기쁨, 놀라움, 슬픔, 두려움, 분노, 혐오)으로 분석하고 명상 프로그램이나 웹툰 등 적합한 콘텐츠를 추천해 준다. 고위험군 이용자는 거주 지역 인근 심리상담센터나 의료기관을 추천하며 위급시에는 병원, 의원으로 연계되도록 추진 중이다. KT 관계자는 “정부 주요 정책 중 하나가 국민 정신건강 관리 분야일 정도로 중요도가 높아지고 있는 분야”라며 “통신사가 갖고 있는 풍부한 데이터와 AI 기술력을 강점으로 특화된 서비스를 만들어 나가려는 시도”라고 말했다.\\nLG유플러스는 통신 3사 중 가장 먼저 AI 기반 마음관리 플랫폼 ‘답다’(답장 받는 다이어리)를 출시했다. 지난해 9월 출시된 답다는 이용자가 애플리케이션(앱)에 나와 있는 감정 110여 개 중 자신에게 맞는 감정을 선택하고 2000자 이내의 일기를 쓰면 12시간 내로 AI ‘마링이’가 보낸 답장을 받을 수 있다. 3월 답다 가입자는 2만 명이었지만 10월 초 기준 회원 수는 두 배 이상인 5만2000명으로 늘었다.', 'category': 'science', 'source_created_at': '2024-10-08T03:45:00+09:00', 'press_id': 2, 'press_name': '동아일보'}\n"
     ]
    },
    {
     "name": "stderr",
     "output_type": "stream",
     "text": [
      "ERROR:root:result is None\n",
      "DEBUG:root:Scraping article: https://www.donga.com/news/It/article/all/20241007/130173062/1\n",
      "DEBUG:urllib3.connectionpool:Starting new HTTPS connection (1): www.donga.com:443\n",
      "DEBUG:urllib3.connectionpool:https://www.donga.com:443 \"GET /news/It/article/all/20241007/130173062/1 HTTP/11\" 200 None\n",
      "INFO:root:page_category: IT/의학\n",
      "INFO:root:category: 경제_과학\n",
      "INFO:root:https://www.donga.com/news/It/article/all/20241007/130173062/1 는 해당 카테고리가 아니어서 생략합니다. \n",
      "ERROR:root:result is None\n",
      "DEBUG:root:Scraping article: https://www.donga.com/news/Economy/article/all/20241007/130173041/1\n",
      "DEBUG:urllib3.connectionpool:Starting new HTTPS connection (1): www.donga.com:443\n",
      "DEBUG:urllib3.connectionpool:https://www.donga.com:443 \"GET /news/Economy/article/all/20241007/130173041/1 HTTP/11\" 200 None\n",
      "INFO:root:page_category: 경제\n",
      "INFO:root:category: 경제_과학\n",
      "INFO:root:Article saved to ./donga/science/2024-10-07-4\\source-2024-10-07-4.json\n"
     ]
    },
    {
     "name": "stdout",
     "output_type": "stream",
     "text": [
      "{'title': '네이버 “새로운 뉴스제휴평가위 연내 출범 목표”', 'source_url': 'https://www.donga.com/news/Economy/article/all/20241007/130173041/1', 'content': '[국감현장]김수향 전무 “각계각층 의견 수렴 과정”\\n언론사 기사 AI 학습 제공 불공정 약관 문제…“계속 협의 예정”\\n네이버(035420)가 뉴스 입점 심사를 위한 새로운 뉴스제휴평가위원회를 연내 출범한다는 계획을 밝혔다.\\n김수향 네이버 뉴스총괄전무는 7일 열린 국회 과학기술방송통신위원회 국정감사에서 이훈기 더불어민주당 의원의 ‘제평위 개선 결과가 언제 나오느냐’는 질의에 “연내 새로운 제평위 출범을 목표로 하고 있다. 큰 틀의 (개선안) 결과를 발표할 예정”이라고 말했다.\\n제평위는 2015년 네이버와 카카오(035720) 주도로 포털 콘텐츠 제휴 언론사(CP사)를 선정·퇴출하는 역할을 맡아온 민간 자율기구다.\\n뉴스 입점과 제재, 퇴출 심의에 공정성 시비와 이념 편향 논란이 불거지면서 지난해 5월 22일 활동을 잠정 중단했다.\\n네이버는 올해 1월부터 외부 전문가로 꾸려진 뉴스혁신포럼을 출범하고 제평위 활동 개선을 논의하고 있다.\\n김 전무는 새로운 제평위 발표가 늦어진 이유와 관련 “각계각층 다양한 의견들을 수렴하고 있고 기존 제평위가 가졌던 문제들을 해결하는 방향으로 가려다 보니 늦어지고 있다”고 설명했다.\\n김 전무는 네이버 뉴스의 지역 다양성이 부족하다는 지적에는 새로운 제평위를 통해 개선하겠다고 말했다.\\n‘아웃링크 선택제’ 도입과 관련해선 “언론사들과 종합적으로 검토해서 실시하겠다”고 했다.\\n그는 ‘언론사들이 제공한 기사를 인공지능(AI)이 학습할 수 있도록 한 불공정한 약관 조항을 일방적으로 통보한 사실이 있느냐’는 최형두 국민의힘 의원 질의엔 “수정 과정을 거치고 언론사와 합의해 규정을 만들었다”며 “언론사들과 계속 협의해 나갈 예정”이라고 전했다.\\n언론사 기사 저작권 침해에 따른 배상 방안을 내놓을 것인지에는 “보상 문제는 해외에서도 아직 정확하게 정리되지 않은 부분이 있다”며 “고민해 보겠다”고 답했다.\\n(서울=뉴스1)', 'category': 'science', 'source_created_at': '2024-10-07T23:18:00+09:00', 'press_id': 2, 'press_name': '동아일보'}\n"
     ]
    },
    {
     "name": "stderr",
     "output_type": "stream",
     "text": [
      "INFO:root:category (base_url): 사회 (https://www.donga.com/news/Society)\n",
      "DEBUG:urllib3.connectionpool:Starting new HTTPS connection (1): www.donga.com:443\n",
      "DEBUG:urllib3.connectionpool:https://www.donga.com:443 \"GET /news/Society HTTP/11\" 200 None\n",
      "DEBUG:root:Scraping article: https://www.donga.com/news/Society/article/all/20241008/130175675/1\n",
      "DEBUG:urllib3.connectionpool:Starting new HTTPS connection (1): www.donga.com:443\n",
      "DEBUG:urllib3.connectionpool:https://www.donga.com:443 \"GET /news/Society/article/all/20241008/130175675/1 HTTP/11\" 200 None\n",
      "INFO:root:page_category: 사회\n",
      "INFO:root:category: 사회\n",
      "INFO:root:Article saved to ./donga/society/2024-10-08-1\\source-2024-10-08-1.json\n",
      "DEBUG:root:Scraping article: https://www.donga.com/news/Society/article/all/20241008/130175993/1\n",
      "DEBUG:urllib3.connectionpool:Starting new HTTPS connection (1): www.donga.com:443\n",
      "DEBUG:urllib3.connectionpool:https://www.donga.com:443 \"GET /news/Society/article/all/20241008/130175993/1 HTTP/11\" 200 None\n",
      "INFO:root:page_category: 사회\n",
      "INFO:root:category: 사회\n",
      "INFO:root:Article saved to ./donga/society/2024-10-08-2\\source-2024-10-08-2.json\n",
      "DEBUG:root:Scraping article: https://www.donga.com/news/Society/article/all/20241008/130176008/2\n",
      "DEBUG:urllib3.connectionpool:Starting new HTTPS connection (1): www.donga.com:443\n"
     ]
    },
    {
     "name": "stdout",
     "output_type": "stream",
     "text": [
      "{'title': '박경귀 아산시장 당선 무효…‘선거법 위반’ 벌금 1500만원 확정', 'source_url': 'https://www.donga.com/news/Society/article/all/20241008/130175675/1', 'content': '2022년 지방선거 당시 상대 후보에 관해 허위 사실을 공표한 혐의로 재판을 받아온 박경귀 충남 아산시장이 시장직을 상실했다.\\n대법원 3부(주심 오석준 대법관)는 공직선거법 위반 혐의로 기소된 박 시장에게 벌금 1500만 원을 선고한 원심판결을 8일 확정했다. 선거법 위반으로 100만 원 이상의 벌금형 또는 징역형이 확정되면 당선 무효가 된다.\\n박 시장은 지방선거를 앞둔 2022년 5월 상대 후보였던 오세현 전 아산시장에 대해 허위의 부동산 투기 의혹을 제기한 혐의로 2022년 11월 기소됐다. 박 시장은 오 전 시장이 건물을 허위로 매각해 재산을 은닉했다는 성명서를 작성한 뒤 언론에 배포했고, 이 내용이 보도되자 기사 링크를 지지자들에게 문자로 전송하기도 했다.\\n1심과 2심 법원은 혐의를 유죄로 인정해 벌금 1500만 원을 선고했다. 올 1월 대법원이 절차적 문제를 이유로 판결을 파기했으나 대전고법은 사건을 다시 심리한 뒤 이전과 똑같이 벌금 1500만 원을 선고했다. 대전고법 재판부는 “피고인이 허위 사실이 담긴 성명서 등의 작성·배포에 관여했고, 적어도 문자메시지 배포 이전에 기사 내용을 구체적으로 파악해 그 허위성을 인식했다”고 판단했다. 대법원 역시 원심 판단에 잘못이 없다고 보고 이날 상고를 기각했다.', 'category': 'society', 'source_created_at': '2024-10-08T15:11:00+09:00', 'press_id': 2, 'press_name': '동아일보'}\n",
      "{'title': '12시간 당직비 2만원, 여기서 식비 1만3000원 공제…안쓰러운 직업군인', 'source_url': 'https://www.donga.com/news/Society/article/all/20241008/130175993/1', 'content': '자식에게 ‘군인 하지 말라’…당직 때 사고 나면 최소 경징계\\n시급 1666원을 받고. 그 돈으로 밥을 사 먹으면서 주말 근무를 하는 직장인이 있다면 믿어질까.\\n8일 군관련 제보 채널인 ‘육군훈련소 대신 전해드립니다’(육대전)에는 형편없는 대우에 자괴감을 느낀다는 A 육군 부사관의 하소연이 올라왔다.\\n10년 차 직업군인으로 “대대급 당직 부관으로 임무 수행 중”이라는 A 부사관은 “밤을 새우며 야간 당직 근무를 서다 보면 무릎 및 발목 통증, 힘 빠짐, 카페인 과다 섭취로 간혹 심장 통증 및 소화불량, 바뀌는 수면 패턴으로 인한 수면장애를 겪는 건 직업군인의 숙명이다”고 했다.\\n이보다 더 자신을 괴롭히는 건 열악한 처우라며 “12시간씩 운용하는 우리 부대 주말 당직의 경우 2만 원, 시급 1666원꼴인 당직비를 받는다”고 했다.\\n이마저 “식비 1만 3000 원을 공제해 가면 7000원, 시급 583원이다”고 했다.\\n평일의 경우는 더 열악해 2023년 기준 평균 1만원이었다는 A 부사관은 “이 사실을 안 장인어른이 ‘그 돈 받을 거면 편의점 아르바이트와 대리운전을 겸임하는 게 돈 더 잘 벌겠다’며 안타까워하셨다”고 했다.\\nA 부사관은 △ 군인공무원 평일 2만 원, 주말 4만 원 △ 경찰공무원 평일 3만 원, 주말 10만 원 △ 소방공무원 평일 5만 원, 주말 10만 원으로 그나마 직업군인보다 낫다고 지적했다.\\n이런 열악한 상황인데다 “당직근무 때 사고가 발생하면 최소 경징계 이상이다”며 “단순 경고 및 주의에 끝나는 경우가 많은 일반 공무원이 부럽다”고 했다.\\n“아빠와 같은 군인이 되고 싶다고 말하는 아들을 볼 때 아빠를 자랑스러워하는 것 같아 기분이 좋았지만 현실적으로 이 직업을 아들에게 추천해 주고 싶지 않다”는 A 부사관은 “제 자식에게도 추천하고 싶은, 마땅히 제가 일한 만큼의 최소한의 보상이 주어지는, 사랑받는 직업이 될 수 있도록 도와달라”고 읍소했다.\\n이글을 본 이들은 “병장 월급은 200만이라는데”라며 씁쓸한 현실에 안타까움을 표했다.\\n정부가 정한 최저시급을 보면 2020년 8590원, 21년 8720원, 22년 9160원, 23년 9620원, 24년 9860원이다. 2025년엔 1만 30원으로 170원 오른다.\\nA 부사관이 받는다는 주말 당직비 시급 1666원은 25년 전인 김대중 정부 시절 시급 수준이다.\\n(서울=뉴스1)', 'category': 'society', 'source_created_at': '2024-10-08T15:23:00+09:00', 'press_id': 2, 'press_name': '동아일보'}\n"
     ]
    },
    {
     "name": "stderr",
     "output_type": "stream",
     "text": [
      "DEBUG:urllib3.connectionpool:https://www.donga.com:443 \"GET /news/Society/article/all/20241008/130176008/2 HTTP/11\" 200 None\n",
      "INFO:root:page_category: 사회\n",
      "INFO:root:category: 사회\n",
      "INFO:root:Article saved to ./donga/society/2024-10-08-3\\source-2024-10-08-3.json\n",
      "DEBUG:root:Scraping article: https://www.donga.com/news/Society/article/all/20241008/130175402/1\n",
      "DEBUG:urllib3.connectionpool:Starting new HTTPS connection (1): www.donga.com:443\n",
      "DEBUG:urllib3.connectionpool:https://www.donga.com:443 \"GET /news/Society/article/all/20241008/130175402/1 HTTP/11\" 200 None\n",
      "INFO:root:page_category: 사회\n",
      "INFO:root:category: 사회\n",
      "INFO:root:Article saved to ./donga/society/2024-10-08-4\\source-2024-10-08-4.json\n"
     ]
    },
    {
     "name": "stdout",
     "output_type": "stream",
     "text": [
      "{'title': '“4년간 지옥이었다”…학창시절 왕따 고백한 성시경과 박서준', 'source_url': 'https://www.donga.com/news/Society/article/all/20241008/130176008/2', 'content': '가수 성시경(45)과 배우 박서준(35)이 학창 시절 따돌림을 당했다고 털어놨다.\\n유튜브 채널 ‘성시경’에는 지난 7일 ‘처음 만난 서준이한테 반해버렸습니다’라는 제목의 영상이 게재됐다.\\n영상에서 박서준은 “어릴 때는 진짜 소심하고 낯가림도 엄청 심했다. 너무 쑥스러워서 식당에서 주문도 못 했다”며 “그런 성격이 너무 싫었던 건 중학교 3학년 때였다. 어디 가서 말도 못 하고 제 자신이 너무 바보 같았다”고 말문을 열었다.\\n이에 성시경은 “허우대도 멀쩡하고 키도 컸을 텐데 친구들 사이에서 왕따는 없지 않았나”고 물었고, 박서준은 “초등학교 땐 왕따도 좀 당했다. 중학교 때도 자연스럽게 조용한 부류 중 한 명이었다”고 말했다.\\n성시경은 “요즘 왕따 논란이 많다. 나도 처음 얘기하는데 (초등학교) 1학년 때부터 4학년 때까지 지옥이었다”며 “(가해자들이) ‘끝나고 남아’라고 하는데 난 누굴 때리는 성격도 아니고 싸움도 싫었다. 근데 지나고 나니까 누굴 때린 거보다 다행인 거 같다”고 말했다.\\n그러면서 “(왕따가) 얼마나 지옥 같은지 난 정확히 기억하고 있다. 애들이 참 순수한데 순수한 만큼 너무 순수하게 못됐다”고 덧붙였다.\\n박서준은 “결국에는 자존감과 자신감의 문제인 것 같다”며 “그때는 당연히 내가 ‘난 별거 아니니까’라며 자신감도 많이 떨어진 아이였는데 연기를 시작하면서 자신감도 생기고 얘기도 조금 할 수 있게 됐다”고 전했다.', 'category': 'society', 'source_created_at': '2024-10-08T15:36:00+09:00', 'press_id': 2, 'press_name': '동아일보'}\n",
      "{'title': '한국도자재단, ‘2024경기도자비엔날레 제3차 라운드테이블’ 진행', 'source_url': 'https://www.donga.com/news/Society/article/all/20241008/130175402/1', 'content': '경기도와 한국도자재단이 지난 7일 경기도자박물관 공예의 언덕 세미나실에서 ‘2024경기도자비엔날레 제3차 라운드 테이블’을 진행했다고 8일 밝혔다.\\n‘라운드 테이블’은 2024경기도자비엔날레의 주요 학술행사 중 하나다. 도예 관련 국내외 전문가들이 한자리에 모여 주제 발표와 토론, 현장 질의 등을 통해 도자예술과 경기도자비엔날레가 나아가야 할 방향성을 모색한다.\\n올해 라운드 테이블은 ‘투게더_경쟁과 우정에 대하여’를 주제로 총 3회차에 걸쳐 진행됐다. 지난 5월에 열린 제1차 라운드 테이블에서는 ‘경기도자비엔날레’를, 지난 9월에 열린 제2차 라운드 테이블에서는 ‘국제 공모전 및 세계 도자예술의 미래 발전 방안’을 중점적으로 다뤘다.\\n이번 제3차 라운드테이블에는 도예 관련 전문가 50여 명이 참석한 가운데 △이애령 국립중앙박물관 학예연구실장 △최성재 한국전통문화대학교 교수 △김주일 디자인주 대표 3명이 발제자로 참여해 ‘아름다운 우리 도자기 공모전’ 및 ‘한국 전통 도자의 미래 발전 방안’에 대한 담론을 펼쳤다.\\n종합토론에서는 한국 도자기의 아름다움을 확산시킬 수 있는 방법, 전통 도자기가 현대 도예가에게 영감을 줄 수 있는 방안, 디지털 사회 속 전통 도자기의 문화 예술적 가치를 다음 세대에 전달할 수 있는 전략 등에 대한 논의가 이어졌다.\\n재단은 이번 라운드 테이블에서 도출된 의견을 수렴해 차기 경기도자비엔날레 등에 적극적으로 반영할 계획이다.\\n최문환 한국도자재단 대표이사는 “이번 라운드 테이블을 통해 한국 전통 도자의 아름다움과 가치를 재조명하고, 미래 세대에까지 이어질 수 있는 발전 방안을 모색할 수 있었다”라며 “향후 경기도자비엔날레의 성공적 개최와 도자 문화의 대중화, 세계화에 큰 기여를 할 것으로 기대된다”라고 말했다.\\n오는 18일 경기도자미술관 일원에서는 ‘협력’의 진정한 의미와 미래 가치를 공유하고 경기도자비엔날레의 발전 방향과 차기 비엔날레 미래 비전을 논의하는 ‘2024경기도자비엔날레 국제도자학술회의’가 개최될 예정이다.', 'category': 'society', 'source_created_at': '2024-10-08T15:42:00+09:00', 'press_id': 2, 'press_name': '동아일보'}\n"
     ]
    },
    {
     "name": "stderr",
     "output_type": "stream",
     "text": [
      "INFO:root:category (base_url): 스포츠 (https://www.donga.com/news/Sports)\n",
      "DEBUG:urllib3.connectionpool:Starting new HTTPS connection (1): www.donga.com:443\n",
      "DEBUG:urllib3.connectionpool:https://www.donga.com:443 \"GET /news/Sports HTTP/11\" 200 None\n",
      "DEBUG:root:Scraping article: https://www.donga.com/news/Sports/article/all/20241008/130172363/2\n",
      "DEBUG:urllib3.connectionpool:Starting new HTTPS connection (1): www.donga.com:443\n",
      "DEBUG:urllib3.connectionpool:https://www.donga.com:443 \"GET /news/Sports/article/all/20241008/130172363/2 HTTP/11\" 200 None\n",
      "INFO:root:page_category: 스포츠\n",
      "INFO:root:category: 스포츠\n",
      "INFO:root:https://www.donga.com/news/Sports/article/all/20241008/130172363/2 은 오늘 오전 8시 이전 기사이므로 생략합니다.\n",
      "DEBUG:root:Scraping article: https://www.donga.com/news/Sports/article/all/20241008/130173476/1\n",
      "DEBUG:urllib3.connectionpool:Starting new HTTPS connection (1): www.donga.com:443\n",
      "DEBUG:urllib3.connectionpool:https://www.donga.com:443 \"GET /news/Sports/article/all/20241008/130173476/1 HTTP/11\" 200 None\n",
      "INFO:root:page_category: 스포츠\n",
      "INFO:root:category: 스포츠\n",
      "INFO:root:Article saved to ./donga/sports/2024-10-08-1\\source-2024-10-08-1.json\n",
      "DEBUG:root:Scraping article: https://www.donga.com/news/Sports/article/all/20241008/130174028/1\n",
      "DEBUG:urllib3.connectionpool:Starting new HTTPS connection (1): www.donga.com:443\n",
      "DEBUG:urllib3.connectionpool:https://www.donga.com:443 \"GET /news/Sports/article/all/20241008/130174028/1 HTTP/11\" 200 None\n",
      "INFO:root:page_category: 스포츠\n",
      "INFO:root:category: 스포츠\n",
      "INFO:root:Article saved to ./donga/sports/2024-10-08-2\\source-2024-10-08-2.json\n",
      "DEBUG:root:Scraping article: https://www.donga.com/news/Sports/article/all/20241008/130174057/1\n",
      "DEBUG:urllib3.connectionpool:Starting new HTTPS connection (1): www.donga.com:443\n"
     ]
    },
    {
     "name": "stdout",
     "output_type": "stream",
     "text": [
      "{'title': '손흥민 부상·황희찬 부진…더 중요해진 이강인 왼발', 'source_url': 'https://www.donga.com/news/Sports/article/all/20241008/130173476/1', 'content': '10일 오후 11시 요르단 원정 경기\\n경기력 좋은 이강인 어깨 무거워\\n한국 축구의 현재이자 미래로 평가받는 이강인(23·파리 생제르맹)의 중요성이 더 커졌다.\\n10월 A매치에서 ‘주장’ 손흥민(32·토트넘)의 부상 공백과 ‘주포’ 황희찬(28·울버햄튼)의 부진까지 덮을 수 있는 활약을 펼쳐야 한다.\\n홍명보 감독이 이끄는 한국 남자 축구 대표팀은 오는 10일 오후 11시(한국시각) 요르단 암만의 암만 국제경기장에서 요르단과 ‘2026 국제축구연맹(FIFA) 북중미 월드컵’ 아시아 지역 3차 예선 3차전을 치른다.\\n요르단전 이후에는 한국으로 귀국, 15일 오후 8시 용인미르스타디움에서 이라크와 4차전으로 10월 A매치를 마무리한다.\\n현재 다득점에서 요르단에 밀려 B조 2위에 있는 홍명보호는 이번 2연전 전승을 통해 선두 도약을 꾀한다.\\n목표 달성이 쉽진 않을 전망이다.\\n지난 2월 카타르에서 막을 내린 ‘2023 아시아축구연맹(AFC) 아시안컵’ 4강전에서 한국에 0-2 충격패 탈락을 안겼던 요르단을 원정에서 상대하는 데다, 주장이자 핵심 공격 자원인 손흥민이 부상으로 낙마했다.\\n홍 감독은 지난달 30일 발표한 10월 A매치 명단 26인에 손흥민을 포함했으나, 왼쪽 허벅지 부상이 길어지면서 결국 홍현석(25·마인츠)을 대체 발탁 결정했다.\\n꾸준하게 한국 축구의 핵심 자원이자, 지난 9월 첫선을 보인 홍명보호에서 에이스로 맹활약했던 손흥민이 빠지는 건 뼈아프다.\\n설상가상 손흥민의 빈자리를 대체할 수 있는 황희찬마저 부진하다.\\n황희찬은 지난 시즌 잉글랜드 프로축구 프리미어리그(EPL)에서만 12골을 기록하면서 빅 리그에서 좋은 활약을 펼쳤으나, 이번 시즌 아직 마수걸이 득점을 넣지 못했다.\\n홍 감독은 “소속팀에서 어려움을 겪는 선수가 대표팀에서 좋은 활약을 펼치고 힘을 얻어 돌아가 좋은 활약을 펼치는 경우가 있다”며 “황희찬은 (9월 A매치 당시) 팀에 들어와 아주 좋은 활약을 했다. 그렇기 때문에 이번에도 소집했다”며 황희찬을 향한 강한 믿음을 보였으나, 명단 발표 이후에도 경기력이 돌아오지 않고 있다.\\n이런 황희찬이 대표팀에 왔을 때 살아나기 위해선 또 다른 핵심 자원인 이강인의 활약이 절실하다. 이강인은 지난 9월 A매치 당시 손흥민과 함께 한국 축구의 공격을 이끈 바 있다.\\n이강인은 최근 소속팀에서의 활약상이 좋다. 최전방 공격수지만 미드필더 쪽 가담 비중이 높은 가짜 9번이라는 새 옷을 입고도 좋은 경기력을 펼치고 있다.\\n공격에 활력을 불어넣는 창의성뿐 아니라 직접 골을 넣는 능력도 뛰어나다. 프랑스 프로축구 리그앙 7경기에서 3골을 기록 중이다.\\n이런 이강인이 좌우는 물론, 최전방과 중원을 오가면서 상대 수비를 흔든다면 황희찬을 포함한 다른 공격진에게 더 많은 기회가 찾아올 가능성이 크다.\\n더욱이 이강인의 특급 왼발을 기대할 수 있다.\\n한국은 유독 중동 원정에서 약했다. 요르단도 최근 한국을 괴롭히는 복병으로 성장했으나, 객관적 전력상 여전히 한국보다 약체다.\\n홈에서 지지 않기 위해 초반 승부수보다는 선수비, 후역습으로 조심스러운 운영을 펼칠 거로 보인다.\\n이렇게 수비적인 운영을 펼칠 때는 세트피스가 승패를 좌우하는 경우가 잦다. 코너킥은 물론, 페널티박스 근처에서 얻는 프리킥은 홍명보호에 중요한 득점 루트가 될 거로 보인다.\\n프리킥을 맡았던 손흥민이 없는 상황에서 확실한 키커는 이강인이 될 거로 예상된다.\\n한편 홍명보호 본진은 지난 7일 인천국제공항을 통해 요르단으로 출국했으며, 이강인을 포함한 해외파들은 요르단에서 합류해 곧장 현지 적응 훈련에 돌입할 예정이다.\\n[서울=뉴시스]', 'category': 'sports', 'source_created_at': '2024-10-08T08:16:00+09:00', 'press_id': 2, 'press_name': '동아일보'}\n",
      "{'title': '축구대표팀 미드필더 백승호, 英 3부 버밍엄과 재계약', 'source_url': 'https://www.donga.com/news/Sports/article/all/20241008/130174028/1', 'content': '2028년 6월까지 계약 연장\\n축구 국가대표 미드필더 백승호가 잉글랜드 프로축구 3부리그 버밍엄시티와 계약을 연장했다.\\n버밍엄 구단은 7일(현지시각) 홈페이지를 통해 백승호와 2028년 6월까지 계약했다고 밝혔다.\\n백승호는 “구단 동료와 코치진이 얼마나 노력하는지 안다”며 “이 클럽의 일원이 되고 싶었고, 그래서 새 계약을 체결했다”고 밝혔다.\\n백승호는 올해 1월 K리그1 전북 현대를 떠나 당시 챔피언십(2부) 소속이던 버밍엄에 입단해 3년 만에 유럽 무대로 복귀했다.\\n하지만 팀이 리그원(3부)으로 추락하면서 상위 리그로 떠날 거로 예상됐다.\\n실제로 챔피언십 복수의 구단이 관심을 보였으나, 소속팀의 반대로 결국 잔류하게 됐다.\\n백승호를 붙잡은 버밍엄은 올 시즌 리그 선두를 달리고 있다. 9경기에서 7승 1무 1패를 기록 중이다.\\n3부리그 1~2위 팀은 2부리그로 자동 승격한다.\\n한편 백승호는 10월 A매치 2연전에 나서는 홍명보호 축구대표팀에 합류한다.\\n백승호는 “대표팀에 소집된 건 소속팀의 구성원 덕분”이라고 고마움을 전했다.\\n[서울=뉴시스]', 'category': 'sports', 'source_created_at': '2024-10-08T09:55:00+09:00', 'press_id': 2, 'press_name': '동아일보'}\n"
     ]
    },
    {
     "name": "stderr",
     "output_type": "stream",
     "text": [
      "DEBUG:urllib3.connectionpool:https://www.donga.com:443 \"GET /news/Sports/article/all/20241008/130174057/1 HTTP/11\" 200 None\n",
      "INFO:root:page_category: 스포츠\n",
      "INFO:root:category: 스포츠\n",
      "INFO:root:Article saved to ./donga/sports/2024-10-08-3\\source-2024-10-08-3.json\n",
      "DEBUG:root:Scraping article: https://www.donga.com/news/Sports/article/all/20241008/130174377/1\n",
      "DEBUG:urllib3.connectionpool:Starting new HTTPS connection (1): www.donga.com:443\n",
      "DEBUG:urllib3.connectionpool:https://www.donga.com:443 \"GET /news/Sports/article/all/20241008/130174377/1 HTTP/11\" 200 None\n",
      "INFO:root:page_category: 스포츠\n",
      "INFO:root:category: 스포츠\n",
      "INFO:root:Article saved to ./donga/sports/2024-10-08-4\\source-2024-10-08-4.json\n"
     ]
    },
    {
     "name": "stdout",
     "output_type": "stream",
     "text": [
      "{'title': 'FIFA, 황희찬에게 인종차별 발언한 선수 ‘10경기 출장정지’', 'source_url': 'https://www.donga.com/news/Sports/article/all/20241008/130174057/1', 'content': '지난 7월 울버햄튼과 코모의 친선전 중 발생\\n절반은 집행 유예, 사회봉사와 교육도 받아야\\n축구 국가대표 공격수 황희찬에게 인종차별적 발언을 했던 마르코 쿠르토(이탈리아)가 국제축구연맹(FIFA)으로부터 10경기 출전 정지 징계를 받았다.\\n영국 매체 ‘BBC’는 8일(한국시각) “코모(이탈리아 세리에A) 소속 쿠르토는 울버햄튼(EPL)과의 프리시즌 경기 중 황희찬에게 인종차별을 가한 혐의로 FIFA로부터 10경기 출전 정지 징계를 받았다. 이 중 5경기는 2년 동안 집행이 유예된다”고 전했다.\\n매체에 따르면 FIFA 대변인은 “쿠르토는 인종차별적 행동을 범한 혐의가 있다고 판단돼 10경기 출전 정지 징계를 받았다”고 밝히며 “절반은 2년 동안 집행이 유예되며, 선수는 지역 사회 봉사와 FIFA 승인 단체 교육을 받아야 한다”고 덧붙였다.\\n지난 7월 울버햄튼과 코모의 평가전 당시 황희찬은 쿠르토에게 인종차별적 모욕을 들었고, 팀 동료 다니엘 포덴세가 주먹을 날려 퇴장을 당하는 등 소동이 발생했다.\\n게리 오닐 감독은 “차니(Channy, 황희찬 애칭)는 정말 실망스러운 인종차별적 발언을 들었다. 경기를 그만두고 싶은지 물었지만 그는 계속 뛰길 원했다”고 설명했다.\\n코모는 “당사자(쿠르토)와 대화했는데, 황희찬이 동료들에게 ‘차니’라고 불리는 걸 보고 ‘자신이 재키 챈(성룡)이라고 생각하는 것 같다. 무시하라’고 말했다고 한다”고 해명했다.\\n이어 “의도적으로 깎아내리는 말을 한 적이 없다. 우리는 일부 울버햄튼 선수들의 반응으로 인해 이 사건이 지나치게 과장된 것에 실망했다”며 적반하장식 태도를 보였다.\\n당시 울버햄튼은 UEFA 주관 경기가 아니라 공식 항의할 수 없다고 비판했지만, 대한축구협회가 직접 나서 FIFA에 문제를 제기한 끝에 징계가 결정됐다.\\n맷 와일드 울버햄튼 축구 분야 책임자는 “울버햄튼은 어떠한 형태의 인종차별에도 단호하게 맞서며, 모든 사람이 존중받는 환경을 만들기 위해 최선을 다하고 있다”고 밝혔다.\\n한편 쿠르토는 황희찬에게 인종차별적 모욕을 벌여 비판의 도마 위에 오른 뒤 하부 리그 소속인 체세나(이탈리아 세리에B)로 임대를 떠나 있는 상황이다.\\n[서울=뉴시스]', 'category': 'sports', 'source_created_at': '2024-10-08T10:02:00+09:00', 'press_id': 2, 'press_name': '동아일보'}\n",
      "{'title': 'LG, 서울고 투수 김영우와 2억원에 계약…추세현 1억5000만원', 'source_url': 'https://www.donga.com/news/Sports/article/all/20241008/130174377/1', 'content': '프로야구 LG 트윈스가 서울고 투수 김영우와 2억원에 계약했다.\\nLG 구단은 8일 2025년 지명 신인 선수 12명 전원과 입단 계약을 모두 마무리했다고 밝혔다.\\n1라운드 지명을 받은 김영우는 계약금 2억원에 계약을 체결했다.\\n김영우는 투구 밸런스가 안정적이고 간결한 팔 스윙으로 빠른 공과 낙폭이 큰 커브가 강점으로 평가받고 있다.\\n2라운드에 지명된 경기상고 투수 추세현은 1억5000만원, 3라운드에 뽑힌 전주고 포수 이한림은 1억1000만원에 사인했다.\\n[서울=뉴시스]', 'category': 'sports', 'source_created_at': '2024-10-08T10:49:00+09:00', 'press_id': 2, 'press_name': '동아일보'}\n"
     ]
    }
   ],
   "source": [
    "import requests\n",
    "from bs4 import BeautifulSoup\n",
    "import pandas as pd\n",
    "import time\n",
    "import logging\n",
    "import os\n",
    "import re\n",
    "from datetime import datetime\n",
    "from urllib.parse import urlparse\n",
    "\n",
    "logging.basicConfig(level='DEBUG')\n",
    "\n",
    "header = {'User-Agent': ('Mozilla/5.0 (Windows NT 10.0; Win64; x64) AppleWebKit/537.36 '\n",
    "                         '(KHTML, like Gecko) Chrome/104.0.0.0 Safari/537.36'),}\n",
    "\n",
    "output_dir = './donga'\n",
    "if not os.path.exists(output_dir):\n",
    "    os.makedirs(output_dir)\n",
    "\n",
    "categories = {\n",
    "    '정치': 'https://www.donga.com/news/Politics',\n",
    "    '경제': 'https://www.donga.com/news/Economy',\n",
    "    '국제': 'https://www.donga.com/news/Inter',\n",
    "    '사회_사건': 'https://www.donga.com/news/Society/Event', # 앞 분기 기준\n",
    "    '경제_과학': 'https://www.donga.com/news/It/List', # 앞 분기 기준\n",
    "    '사회': 'https://www.donga.com/news/Society',\n",
    "    '스포츠': 'https://www.donga.com/news/Sports',\n",
    "}\n",
    "\n",
    "result_categories = {\n",
    "    '정치': 'politics',\n",
    "    '경제': 'economy',\n",
    "    '국제': 'world',\n",
    "    '사회_사건': 'accident',\n",
    "    '경제_과학': 'science',\n",
    "    '사회': 'society',\n",
    "    '스포츠': 'sports',\n",
    "}\n",
    "\n",
    "# 현재 날짜의 오전 8시 (시간대는 +09:00 기준)\n",
    "today = datetime.now().replace(hour=8, minute=0, second=0, microsecond=0, tzinfo=datetime.now().astimezone().tzinfo)\n",
    "\n",
    "def scrap_article(article_url, category):\n",
    "    response = requests.get(article_url, headers=header)\n",
    "    soup = BeautifulSoup(response.text, 'html.parser')\n",
    "\n",
    "    try:\n",
    "        page_category = soup.find('ol', class_='breadcrumb').find('li', class_='breadcrumb_item').find('a').get_text(strip=True)\n",
    "        logging.info(f\"page_category: {page_category}\")\n",
    "        \n",
    "        logging.info(f\"category: {category}\")\n",
    "\n",
    "        category_parts = category.split('_')\n",
    "        \n",
    "        # 카테고리가 아닌 글은 패스\n",
    "        if page_category not in category_parts:\n",
    "            logging.info(f\"{article_url} 는 해당 카테고리가 아니어서 생략합니다. \")\n",
    "            return None\n",
    "    except AttributeError:\n",
    "        logging.error(f\"{article_url} 는 찾을 수 없습니다.\")\n",
    "        return None\n",
    "\n",
    "    # 헤드라인 스크랩\n",
    "    try:\n",
    "        title = soup.find('section', {'class': 'head_group'}).find('h1').get_text(strip=True)\n",
    "    except AttributeError:\n",
    "        title = 'N/A'\n",
    "        \n",
    "    try:\n",
    "        date_button = soup.find('button', {'aria-controls': 'dateInfo'})\n",
    "        time_span = date_button.find('span', {'aria-hidden': 'true'})\n",
    "        time = time_span.get_text(strip=True)  # \"2024-09-30 21:44\" 형태\n",
    "        time = time.replace(\" \", \"T\") + \":00+09:00\"  # ISO 8601 형식으로 변환 (예: 2024-09-30T21:44:00+09:00)\n",
    "    except AttributeError:\n",
    "        time = 'N/A'\n",
    "\n",
    "    # 본문 스크랩\n",
    "    try:\n",
    "        # 광고, 이미지 등 제외하고 텍스트만 추출\n",
    "        content_section = soup.find('section', class_='news_view')\n",
    "        for tag in content_section(['figure', 'script', 'div', 'ul']):  # 불필요한 태그 제거\n",
    "            tag.decompose()\n",
    "        content = content_section.get_text(separator=\"\\n\", strip=True)\n",
    "    except AttributeError:\n",
    "        content = 'N/A'\n",
    "\n",
    "    result_category = result_categories.get(category, 'unknown')\n",
    "\n",
    "    return {'title': title, 'source_url': article_url, 'content': content, 'category': result_category, 'source_created_at': time, 'press_id': 2, 'press_name' : '동아일보'}\n",
    "\n",
    "# 파일 생성\n",
    "def save_article_as_json(article_data, date, file_idx):\n",
    "    category = article_data.get('category')\n",
    "    file_name = date + \"-\" + str(file_idx) + '.json'\n",
    "    result_dir = output_dir + \"/\" + category + \"/\" + date + \"-\" + str(file_idx)\n",
    "    if not os.path.exists(result_dir):\n",
    "        os.makedirs(result_dir)\n",
    "\n",
    "    file_path = os.path.join(result_dir, 'source-' + file_name)\n",
    "    \n",
    "    # 단일 dataframe 생성\n",
    "    single_article_df = pd.DataFrame([article_data])\n",
    "    \n",
    "    # json으로 변환\n",
    "    single_article_df.to_json(file_path, orient='records', lines=True, force_ascii=False)\n",
    "    logging.info(f\"Article saved to {file_path}\")\n",
    "\n",
    "def check_for_new_articles(base_url, category):\n",
    "    response = requests.get(base_url, headers=header)\n",
    "    soup = BeautifulSoup(response.text, 'html.parser')\n",
    "\n",
    "    article_count = 0\n",
    "    cards = soup.find_all('article', class_='news_card')\n",
    "    if category not in ['사회_사건', '경제_과학']:\n",
    "        cards.reverse()\n",
    "    for card in cards:\n",
    "        if article_count >= 4:\n",
    "            break\n",
    "\n",
    "        link_tag = card.find('a', href=True)\n",
    "        if link_tag and 'href' in link_tag.attrs:\n",
    "            article_link = link_tag['href']\n",
    "        else:\n",
    "            logging.warning(\"article_link is None or missing 'href'.\")\n",
    "            continue\n",
    "    \n",
    "        logging.debug(f\"Scraping article: {article_link}\")\n",
    "\n",
    "        result = scrap_article(article_link, category)\n",
    "\n",
    "        if result is None:\n",
    "            logging.error(\"result is None\");\n",
    "            continue\n",
    "\n",
    "        if result.get('category') not in ['accident', 'science']:\n",
    "            # 'source_created_at'를 datetime 객체로 변환\n",
    "            article_time = datetime.strptime(result.get('source_created_at'), '%Y-%m-%dT%H:%M:%S%z')\n",
    "            # 오늘 오전 8시 이후가 아니면 continue\n",
    "            if article_time < today:\n",
    "                logging.info(f\"{article_link} 은 오늘 오전 8시 이전 기사이므로 생략합니다.\")\n",
    "                continue\n",
    "        \n",
    "        print(result)\n",
    "        article_count += 1\n",
    "        date = re.match(r'^[^T]+', result.get('source_created_at')).group()\n",
    "        save_article_as_json(result, date, article_count)\n",
    "\n",
    "def scrap_all_categories():\n",
    "    \n",
    "    for category, base_url in categories.items():\n",
    "        logging.info(f\"category (base_url): {category} ({base_url})\")\n",
    "        check_for_new_articles(base_url, category)\n",
    "        time.sleep(2)\n",
    "\n",
    "scrap_all_categories()"
   ]
  },
  {
   "cell_type": "markdown",
   "metadata": {},
   "source": [
    "## 중앙일보"
   ]
  },
  {
   "cell_type": "code",
   "execution_count": 6,
   "metadata": {},
   "outputs": [
    {
     "name": "stderr",
     "output_type": "stream",
     "text": [
      "INFO:root:category (base_url): 정치 (https://www.joongang.co.kr/politics)\n",
      "DEBUG:urllib3.connectionpool:Starting new HTTPS connection (1): www.joongang.co.kr:443\n",
      "DEBUG:urllib3.connectionpool:https://www.joongang.co.kr:443 \"GET /politics HTTP/11\" 200 None\n",
      "DEBUG:root:Scraping article: https://www.joongang.co.kr/article/25282695\n",
      "DEBUG:urllib3.connectionpool:Starting new HTTPS connection (1): www.joongang.co.kr:443\n",
      "DEBUG:urllib3.connectionpool:https://www.joongang.co.kr:443 \"GET /article/25282695 HTTP/11\" 200 None\n",
      "INFO:root:page_category: 정치\n",
      "INFO:root:category: 정치\n",
      "INFO:root:https://www.joongang.co.kr/article/25282695 은 오늘 오전 8시 이전 기사이므로 생략합니다.\n",
      "DEBUG:root:Scraping article: https://www.joongang.co.kr/article/25282701\n",
      "DEBUG:urllib3.connectionpool:Starting new HTTPS connection (1): www.joongang.co.kr:443\n",
      "DEBUG:urllib3.connectionpool:https://www.joongang.co.kr:443 \"GET /article/25282701 HTTP/11\" 200 None\n",
      "INFO:root:page_category: 정치\n",
      "INFO:root:category: 정치\n",
      "INFO:root:https://www.joongang.co.kr/article/25282701 은 오늘 오전 8시 이전 기사이므로 생략합니다.\n",
      "DEBUG:root:Scraping article: https://www.joongang.co.kr/article/25282706\n",
      "DEBUG:urllib3.connectionpool:Starting new HTTPS connection (1): www.joongang.co.kr:443\n",
      "DEBUG:urllib3.connectionpool:https://www.joongang.co.kr:443 \"GET /article/25282706 HTTP/11\" 200 None\n",
      "INFO:root:page_category: 정치\n",
      "INFO:root:category: 정치\n",
      "INFO:root:https://www.joongang.co.kr/article/25282706 은 오늘 오전 8시 이전 기사이므로 생략합니다.\n",
      "DEBUG:root:Scraping article: https://www.joongang.co.kr/article/25282712\n",
      "DEBUG:urllib3.connectionpool:Starting new HTTPS connection (1): www.joongang.co.kr:443\n",
      "DEBUG:urllib3.connectionpool:https://www.joongang.co.kr:443 \"GET /article/25282712 HTTP/11\" 200 None\n",
      "INFO:root:page_category: 정치\n",
      "INFO:root:category: 정치\n",
      "INFO:root:https://www.joongang.co.kr/article/25282712 은 오늘 오전 8시 이전 기사이므로 생략합니다.\n",
      "DEBUG:root:Scraping article: https://www.joongang.co.kr/article/25282727\n",
      "DEBUG:urllib3.connectionpool:Starting new HTTPS connection (1): www.joongang.co.kr:443\n",
      "DEBUG:urllib3.connectionpool:https://www.joongang.co.kr:443 \"GET /article/25282727 HTTP/11\" 200 None\n",
      "INFO:root:page_category: 정치\n",
      "INFO:root:category: 정치\n",
      "INFO:root:https://www.joongang.co.kr/article/25282727 은 오늘 오전 8시 이전 기사이므로 생략합니다.\n",
      "DEBUG:root:Scraping article: https://www.joongang.co.kr/article/25282735\n",
      "DEBUG:urllib3.connectionpool:Starting new HTTPS connection (1): www.joongang.co.kr:443\n",
      "DEBUG:urllib3.connectionpool:https://www.joongang.co.kr:443 \"GET /article/25282735 HTTP/11\" 200 None\n",
      "INFO:root:page_category: 정치\n",
      "INFO:root:category: 정치\n",
      "INFO:root:https://www.joongang.co.kr/article/25282735 은 오늘 오전 8시 이전 기사이므로 생략합니다.\n",
      "DEBUG:root:Scraping article: https://www.joongang.co.kr/article/25282736\n",
      "DEBUG:urllib3.connectionpool:Starting new HTTPS connection (1): www.joongang.co.kr:443\n",
      "DEBUG:urllib3.connectionpool:https://www.joongang.co.kr:443 \"GET /article/25282736 HTTP/11\" 200 None\n",
      "INFO:root:page_category: 정치\n",
      "INFO:root:category: 정치\n",
      "INFO:root:https://www.joongang.co.kr/article/25282736 은 오늘 오전 8시 이전 기사이므로 생략합니다.\n",
      "DEBUG:root:Scraping article: https://www.joongang.co.kr/article/25282741\n",
      "DEBUG:urllib3.connectionpool:Starting new HTTPS connection (1): www.joongang.co.kr:443\n",
      "DEBUG:urllib3.connectionpool:https://www.joongang.co.kr:443 \"GET /article/25282741 HTTP/11\" 200 None\n",
      "INFO:root:page_category: 정치\n",
      "INFO:root:category: 정치\n",
      "INFO:root:https://www.joongang.co.kr/article/25282741 은 오늘 오전 8시 이전 기사이므로 생략합니다.\n",
      "DEBUG:root:Scraping article: https://www.joongang.co.kr/article/25282744\n",
      "DEBUG:urllib3.connectionpool:Starting new HTTPS connection (1): www.joongang.co.kr:443\n",
      "DEBUG:urllib3.connectionpool:https://www.joongang.co.kr:443 \"GET /article/25282744 HTTP/11\" 200 None\n",
      "INFO:root:page_category: 정치\n",
      "INFO:root:category: 정치\n",
      "INFO:root:https://www.joongang.co.kr/article/25282744 은 오늘 오전 8시 이전 기사이므로 생략합니다.\n",
      "DEBUG:root:Scraping article: https://www.joongang.co.kr/article/25282748\n",
      "DEBUG:urllib3.connectionpool:Starting new HTTPS connection (1): www.joongang.co.kr:443\n",
      "DEBUG:urllib3.connectionpool:https://www.joongang.co.kr:443 \"GET /article/25282748 HTTP/11\" 200 None\n",
      "INFO:root:page_category: 정치\n",
      "INFO:root:category: 정치\n",
      "INFO:root:https://www.joongang.co.kr/article/25282748 은 오늘 오전 8시 이전 기사이므로 생략합니다.\n",
      "DEBUG:root:Scraping article: https://www.joongang.co.kr/article/25282745\n",
      "DEBUG:urllib3.connectionpool:Starting new HTTPS connection (1): www.joongang.co.kr:443\n",
      "DEBUG:urllib3.connectionpool:https://www.joongang.co.kr:443 \"GET /article/25282745 HTTP/11\" 200 None\n",
      "INFO:root:page_category: 정치\n",
      "INFO:root:category: 정치\n",
      "INFO:root:https://www.joongang.co.kr/article/25282745 은 오늘 오전 8시 이전 기사이므로 생략합니다.\n",
      "DEBUG:root:Scraping article: https://www.joongang.co.kr/article/25282750\n",
      "DEBUG:urllib3.connectionpool:Starting new HTTPS connection (1): www.joongang.co.kr:443\n",
      "DEBUG:urllib3.connectionpool:https://www.joongang.co.kr:443 \"GET /article/25282750 HTTP/11\" 200 None\n",
      "INFO:root:page_category: 정치\n",
      "INFO:root:category: 정치\n",
      "INFO:root:https://www.joongang.co.kr/article/25282750 은 오늘 오전 8시 이전 기사이므로 생략합니다.\n",
      "DEBUG:root:Scraping article: https://www.joongang.co.kr/article/25282765\n",
      "DEBUG:urllib3.connectionpool:Starting new HTTPS connection (1): www.joongang.co.kr:443\n",
      "DEBUG:urllib3.connectionpool:https://www.joongang.co.kr:443 \"GET /article/25282765 HTTP/11\" 200 None\n",
      "INFO:root:page_category: 정치\n",
      "INFO:root:category: 정치\n",
      "INFO:root:https://www.joongang.co.kr/article/25282765 은 오늘 오전 8시 이전 기사이므로 생략합니다.\n",
      "DEBUG:root:Scraping article: https://www.joongang.co.kr/article/25282768\n",
      "DEBUG:urllib3.connectionpool:Starting new HTTPS connection (1): www.joongang.co.kr:443\n",
      "DEBUG:urllib3.connectionpool:https://www.joongang.co.kr:443 \"GET /article/25282768 HTTP/11\" 200 None\n",
      "INFO:root:page_category: 정치\n",
      "INFO:root:category: 정치\n",
      "INFO:root:Article saved to ./joongang/politics/2024-10-08-1\\source-2024-10-08-1.json\n",
      "DEBUG:root:Scraping article: https://www.joongang.co.kr/article/25282769\n",
      "DEBUG:urllib3.connectionpool:Starting new HTTPS connection (1): www.joongang.co.kr:443\n",
      "DEBUG:urllib3.connectionpool:https://www.joongang.co.kr:443 \"GET /article/25282769 HTTP/11\" 200 None\n"
     ]
    },
    {
     "name": "stdout",
     "output_type": "stream",
     "text": [
      "{'title': '김정은, 푸틴 72세 생일 축하 축전…\"가장 친근한 나의 동지\"', 'source_url': 'https://www.joongang.co.kr/article/25282768', 'content': '블라디미르 푸틴 러시아 대통령(왼쪽)과 김정은 북한 국무위원장이 지난 19일 평양 에서 정상회담 뒤 서명한 조약을 들어 보이고 있다. 타스=연합뉴스김정은 북한 국무위원장이 72세 생일을 맞은 블라디미르 푸틴 러시아 대통령에게 축하를 전했다.김 위원장은 푸틴 대통령에게 축전을 보내 \"당신의 탄생일을 맞으며 충심으로 되는 따뜻한 축하의 인사를 보낸다\"고 밝혔다고 조선중앙통신이 8일 보도했다.김 위원장은 \"앞으로도 계속될 우리들 사이의 상봉과 동지적 유대는 새로운 전면적 발전궤도 위에 올라선 조로(북러) 친선과 전략적 협조 관계의 만년 기틀을 더욱 공고히 하고 지역과 세계의 평화, 국제적 정의를 수호하는 데 적극 이바지하게 될 것\"이라고 강조했다.그는 푸틴 대통령의 지난 6월 평양 방문을 계기로 북러 관계가 \"자주와 정의 실현을 공동이념으로 하는 불패의 동맹관계, 백년대계의 전략적 관계\"로 승격됐다며 \"우리들 사이의 친분을 더욱 두터이 하던 그날을 감회 깊게 회억하고 있다\"고 덧붙였다.아울러 푸틴 대통령이 러시아를 \"승리와 영광의 한길로 인도하리라 믿는다\"며 \"러시아 군대와 인민의 정의의 위업에 대한 우리의 전폭적이며 사심 없는 지지와 연대성을 재확언한다\"고 밝혔다. 이는 북한이 우크라이나를 침공한 러시아의 편에 있다는 점을 재차 강조한 것으로 보인다.김 위원장은 축전의 시작과 끝에서 푸틴 대통령을 \"가장 친근한 동지\"라고 불렀다. 이는 북한과 중국 수교 75주년이었던 지난 6일 김 위원장이 시진핑(習近平) 중국 국가주석에게 보낸 축전에서의 표현과 대비된다.김 위원장은 2019년 북중 수교 70주년 때만 해도 시 주석에게 보낸 축전에서 시 주석을 \\'존경하는 총서기 동지\\'라고 칭했다. 하지만 올해는 \\'존경하는\\'이라는 표현을 사용하지 않아 북중 관계가 예전 같지 않음을 드러냈다.북한과 러시아는 지난 6월 사실상 군사동맹에 준한다고 평가받는 \\'포괄적인 전략적 동반자 관계 조약\\'을 맺으며 가까운 관계를 유지하고 있다. 중국은 이러한 북한과 러시아의 군사적 밀착에 어느 정도 거리를 두고 있다.현예슬 기자 hyeon.yeseul@joongang.co.kr', 'category': 'politics', 'source_created_at': '2024-10-08T08:22:39+09:00', 'press_id': 1, 'press_name': '중앙일보'}\n"
     ]
    },
    {
     "name": "stderr",
     "output_type": "stream",
     "text": [
      "INFO:root:page_category: 정치\n",
      "INFO:root:category: 정치\n",
      "INFO:root:Article saved to ./joongang/politics/2024-10-08-2\\source-2024-10-08-2.json\n",
      "DEBUG:root:Scraping article: https://www.joongang.co.kr/article/25282785\n",
      "DEBUG:urllib3.connectionpool:Starting new HTTPS connection (1): www.joongang.co.kr:443\n",
      "DEBUG:urllib3.connectionpool:https://www.joongang.co.kr:443 \"GET /article/25282785 HTTP/11\" 200 None\n",
      "INFO:root:page_category: 정치\n"
     ]
    },
    {
     "name": "stdout",
     "output_type": "stream",
     "text": [
      "{'title': '김정은 \"핵무기 사용 배제 안 해…그 무엇도 한국 지켜주지 못해\"', 'source_url': 'https://www.joongang.co.kr/article/25282769', 'content': '북한 노동당 기관지 노동신문은 8일 김정은 국무위원장이 전날인 7일 창립 60주년을 맞이한 김정은국방종합대학을 축하방문하고 연설을 했다고 보도했다. 김정은은 이날 연설에서 ″군사초강국, 핵강국을 향한 발걸음이 더 빨라질 것″이라고 말했다. 노동신문=뉴스1김정은 북한 국무위원장이 핵무기사용을 언급하며 한미동맹을 위협했다.북한 노동당 기관지 노동신문의 8일 보도에 따르면, 김 위원장은 7일 김정은국방종합대학 창립 60주년 연설에서 “적들이 우리 국가를 반대하는 무력사용을 기도한다면 공화국무력은 모든 공격을 주저없이 사용할 것”이라며 “여기에는 핵무기사용이 배제되지 않는다”고 말했다.김정은은 이어 “그런 상황에서 생존에 희망을 거는 것은 부질없는 일이며 행운도, 그 무슨 신의 보호도 대한민국을 지켜주지 못할 것”이라고 거듭 위협했다.그는 “한미동맹을 핵에 기반한 동맹으로 변이시키고 무력증강에 열을 올리면서 광적으로 벌려놓는 미제와 괴뢰들의 전쟁소동과 도발적 행태는 언제든 조선반도에서 힘의 균형이 깨질 수 있는 위험성을 내포하고 있다”고 말했다. 이어 “조선반도(한반도)에서 전략적 힘의 균형 파괴는 곧 전쟁을 의미한다”면서 “적을 항상 억제하고 정세를 관리할 수 있는 물리적 힘을 가져야 한다는 우리의 자위국방 건설 논리는 바늘 들어갈 틈도 없이 완벽하고 정당하다”고 주장했다.그러면서 “군사초강국, 핵강국에로 향한 우리의 발걸음은 더 빨라질 것”이라며 “한미군사동맹이 괴뢰들 스스로가 광고하는 것처럼 핵동맹으로 완전히 변이된 현시점에서 우리 국가의 핵대응태세는 더더욱 한계를 모르는 높이에서 완비되어야 한다”고 했다. 또 “적들이 핵동맹을 무기로 힘의 우위를 차지하고 전략적 판세를 뒤집어놓으려고 발악할수록 우리는 국방과학과 공업의 계속적인 도약을 이룩하고 자위의 전쟁억제력을 무한대로 강화해야 한다”고 독려했다.북한 노동당 기관지 노동신문은 8일 김정은이 ″10월 7일 주체적 국방과학기술 인재 양성의 최고전당인 김정은국방종합대학을 방문하고 창립 60주년을 맞는 교직원, 학생들을 축하 격려했다″라고 보도했다. 뉴스1이날 연설에서 김 위원장은 윤석열 대통령의 지난 1일 국군의 날 기념사를 “비정상적인 사유방식”이라며 비판했다.김 위원장은 “윤석열이 기념사라는 데서 작심하고 공화국 정권의 종말에 대해 천박하고 상스러운 망발을 내뱉었는데 상전의 ‘힘’에 대한 맹신에 완전히 깊숙이 빠져있다”고 말했다. 이어\\xa0윤 대통령의 ‘군사력의 압도적 대응’ 언급을 거론하며 “유구한 역사에 일찍이있어 보지 못한 무적의 명장이 출현한다 해도 핵과 재래식 전략의 격차를 극복할 비책은 내놓지 못할 것”이라고 했다. 그는 “좀 온전치 못한 사람”이라는 표현을 반복했다. 또 “대한민국이 안전하게 사는 방법은 우리가 군사력을 사용하지 않게 하면 되는 것”이라며 “우리를 때 없이 건드리지 말며 우리를 놓고 ‘힘자랑’ 내기를 하지 않으면 될 일”이라고 말했다.그리곤 윤 대통령을 향해 “현명한 국가와 인민의 안전을 놓고 무모한 객기를 부릴 것이 아니라 핵국가와는 대결과 대립보다는 군사적 충돌이 일어나지 않게 상황관리 쪽으로 더 힘을 넣고 고민할 것”이라고 훈계하기도 했다.윤석열 대통령이 1일 성남 서울공항에서 열린 건군 76주년 국군의날 기념식에서 기념사를 하고 있다.뉴스1윤 대통령은 지난 1일 성남시 서울공항에서 열린 건군 76주년 국군의날 기념식에서 “북한이 핵무기 사용을 기도한다면, 우리 군과 한·미 동맹의 결연하고 압도적인 대응에 직면하게 될 것이고 그날이 바로 북한 정권 종말의 날”이라며 “북한 정권은 지금이라도 핵무기가 자신을 지켜준다는 망상에서 벗어나야 할 것”이라고 경고한 바 있다.김위원장은 또 지난 1일 한국군 전략사령부가 출범한 데 대해선 “변변한 전략무기 하나 없는 허울뿐”이라며 “상전의 핵을 빌어 허울뿐인 ‘전략사령부’를 만들어놓고 그것을 그 무슨 ‘핵심부대’, ‘국방역량의대폭강화’라고 치켜세우다 못해 (후략)“라고 비아냥댔다.김 위원장은 지난해 말 선언한 ‘두 국가론’을 재확인하기도 했다. 그는 “이전 시기에는 우리가 그 무슨 남녘해방이라는 소리도 많이 했고 무력통일이라는 말도 했지만, 지금은 전혀 이에 관심이 없으며 두 개 국가를 선언하면서부터는 더더욱 그 나라를 의식하지도 않는다”며 “대한민국을 공격할 의사가 전혀 없다. 의식하는 것조차도 소름이 끼치고 그 인간들과는 마주 서고 싶지도 않다”고 했다.김 위원장의 이날 방문에는 당 중앙위 비서 조춘룡, 당 중앙위 제1부부장 김정식, 미사일총국장 장창하, 인민군 총참모장 이영길, 인민군 총정치국장 정경택이 동행했다. 이 대학은 원래 국방종합대학으로 불렸으나 김정은 집권 후 2020년 공식매체 보도에서 처음으로 ‘김정은국방종합대학’으로 불렸다.조문규 기자 chomg@joongang.co.kr', 'category': 'politics', 'source_created_at': '2024-10-08T08:31:57+09:00', 'press_id': 1, 'press_name': '중앙일보'}\n"
     ]
    },
    {
     "name": "stderr",
     "output_type": "stream",
     "text": [
      "INFO:root:category: 정치\n",
      "INFO:root:Article saved to ./joongang/politics/2024-10-08-3\\source-2024-10-08-3.json\n",
      "DEBUG:root:Scraping article: https://www.joongang.co.kr/article/25282790\n",
      "DEBUG:urllib3.connectionpool:Starting new HTTPS connection (1): www.joongang.co.kr:443\n",
      "DEBUG:urllib3.connectionpool:https://www.joongang.co.kr:443 \"GET /article/25282790 HTTP/11\" 200 None\n",
      "INFO:root:page_category: 정치\n"
     ]
    },
    {
     "name": "stdout",
     "output_type": "stream",
     "text": [
      "{'title': '조국 \"다혜씨는 성인…文에 딸 음주운전 책임지라는 것 과해\"', 'source_url': 'https://www.joongang.co.kr/article/25282785', 'content': '조국 조국혁신당 대표. 뉴스1조국 조국혁신당 대표는 문재인 전 대통령 딸 다혜씨 음주 운전과 관련해 문 전 대통령에게 책임을 지라는 건 \"조금 과하다\"고 말했다.문 정부 시절 법무부 장관을 지낸 조 대표는 8일 CBS라디오 \\'김현정의 뉴스쇼\\'에서 \"다혜씨는 독립한 성인 아니냐. 자신이 잘못한 것에 대해선 자신이 책임져야 한다\"며 이같이 말했다.이어 \"청소년도 아니고 피보호자도 아니고 본인이 이미 나이가 많이 든 분인데, 스스로 책임지고 스스로 자기 입장을 밝혀야 한다\"며 \"그에 대해 조사받고 처벌받아야 한다\"고 강조했다.그러면서 \"특정 시점에 문 전 대통령이 말씀하실 거라고 보는데 지금은 다혜씨 자신이 사과하고 책임지는 것이 먼저\"라며 \"당사자가 스스로 문제를 풀어야 한다\"고 덧붙였다.다혜씨는 지난 5일 오전 2시 51분쯤 서울 용산구 이태원 해밀턴호텔 앞에서 음주 상태로 자신의 캐스퍼 차량을 운전하다가 차선을 변경하던 과정에서 뒤따라오던 택시와 부딪혔다.사고 당시 폐쇄회로(CC)TV 영상에는 다혜씨가 방향 지시등을 켜지 않고 차선 변경을 시도하다가 택시와 부딪히는 모습이 담겼다.당시 다혜씨의 혈중알코올농도는 0.149%로 면허 취소(0.08% 이상) 수준을 넘었다.\\xa0이후 경찰관과 함께 걸어가던 다혜씨는 옷소매를 잡은 경찰의 팔을 뿌리치는 듯한 모습을 보이기도 했다.또 다른 CCTV 영상에는 다혜씨가 음주 운전을 하기 전 용산구 이태원의 한 골목길에서 비틀거리며 걷는 장면이 포착됐다. 또 자신의 차가 아닌 다른 차의 문을 열려고 시도하는 모습도 담겼다.현예슬 기자 hyeon.yeseul@joongang.co.kr', 'category': 'politics', 'source_created_at': '2024-10-08T10:38:30+09:00', 'press_id': 1, 'press_name': '중앙일보'}\n"
     ]
    },
    {
     "name": "stderr",
     "output_type": "stream",
     "text": [
      "INFO:root:category: 정치\n",
      "INFO:root:Article saved to ./joongang/politics/2024-10-08-4\\source-2024-10-08-4.json\n"
     ]
    },
    {
     "name": "stdout",
     "output_type": "stream",
     "text": [
      "{'title': '尹 \"국민 이길 권력 없다\"…싱가포르 순방 중에도 \\'의료개혁 의지\\'', 'source_url': 'https://www.joongang.co.kr/article/25282790', 'content': '싱가포르를 국빈 방문한 윤석열 대통령이 7일(현지시간) 싱가포르 창이 국제공항에 도착, 영접 나온 말리 키 싱가포르 명예수행장관과 대화하며 공항을 나서고 있다. 연합뉴스싱가포르를 국빈 방문 중인 윤석열 대통령은 8일(현지시간) “여소야대 정국과 낮은 지지율이 개혁의 장애로 작용하는 것은 사실이지만 개혁에 대한 국민의 지지가 있는 한 흔들리지 않을 것”이라며 의료 개혁 의지를 밝혔다.윤 대통령은 이날 공개된 싱가포르 일간지 스트레이츠타임즈와의 서면 인터뷰에서 “모든 개혁에는 어려움이 따르지만 대통령, 여당, 야당 그 어떤 것도 국민을 이길 권력은 없다”며 이같이 말했다. 그러면서 “국민을 믿고, 국민 속으로 들어가 국민의 힘으로 국민이 원하는 개혁을 해나가면 성공할 것이라고 확신한다”고 강조했다.이어 “국민의 생명과 국가의 성장 동력을 지키려면 의료체계를 개혁해야 한다”며 “세계 최고의 의료서비스가 격차와 쏠림으로 지속가능성을 위협받고 있고 이것이 의료 개혁을 시작한 핵심적 이유”라고 말했다.의료계의 반발에 대해서는 “필수 의료에 대한 보상을 높이고, 의료 사고로 인한 의사의 법적 부담을 완화하는 방안을 추진 중”이라고 밝혔다.싱가포르를 국빈 방문한 윤석열 대통령이 7일(현지시간) 싱가포르 창이 국제공항에 도착해 영접 인사로부터 꽃다발을 받고 있다. 연합뉴스한편 윤 대통령은 한-아세안(ASEAN) 관계에서 가장 기대되는 성과 분야로 “인류의 지속 가능한 미래 발전을 선도할 디지털 전환과 친환경 분야에서의 협력 확대”를 꼽았다.스트레이츠타임즈는 이날 ‘윤 대통령, 한국이 아세안 디지털 혁신의 핵심 파트너가 될 것’이라는 제목으로 1·4면에 걸쳐 기사를 특집 기사를 게재했다. 한-아세안 관계는 이번에 최고 수준의 협력 단계인 ‘포괄적 전략동반자 관계’로 격상된다.윤 대통령은 “디지털 전환은 인태 지역의 중요한 미래 성장 동력이 될 것”이라며 “아세안은 세계에서 가장 빠르게 성장하는 디지털 시장 중 하나”라고 강조했다.윤 대통령은 ‘한-아세안 디지털 혁신 플래그십’ 사업의 중요성을 강조하며 “아세안이 4차 산업혁명 시대를 선도할 수 있도록 기여할 것이며, 대한민국은 아세안의 디지털 전환을 뒷받침하는 핵심 파트너로 거듭날 것”이라고 밝혔다.아세안 정상회의를 통해 정치·안보 분야에서의 전략적 공조를 강화해 나가겠다는 뜻도 분명히 했다. 윤 대통령은 “아세안 국가와의 국방 당국 간의 소통을 활성화하고 아세안 지역에서 실시되는 연합훈련에 적극 참여하며, 방산 협력을 심화할 것”이라고 말했다. 또한\\xa0 “아세안이 그동안 단합된 목소리로 유엔 안보리 결의를 위반한 북한이 불법적 핵ㆍ미사일 개발을 중단하고 조속히 대화로 복귀할 것을 촉구해 온 것을 높이 평가한다”라고도 했다.역내 자유무역협정(FTA)에 대해서는 “한국과 아세안도 단순한 교역 파트너를 넘어 급변하는 통상환경에 공동으로 대응하기 위해 경제안보 파트너로 발전해 나가야 한다”며 “한·아세안 FTA가 핵심적 플랫폼이 될 수 있을 것”이라고 했다.아울러 딥 페이크 등 불법 디지털 콘텐트 및 마약 남용 확산에 대응하기 위한 정보 공유 부문에서 양국이 긴밀하게 협력하기를 기대한다고 언급했다.윤 대통령은 “온라인 불법 콘텐트와 마약의 확산이 양국에 심각한 사회 문제를 야기하고 있다”며 “한국과 싱가포르는 법치주의를 공유하는 만큼, 엄정한 법 집행과 더불어 양국 관계 당국 간 긴밀한 정보 공유와 협력 체계를 마련해 나가길 기대한다”고 말했다.저출산 문제도 강조했다. 윤 대통령은 “저출산 문제는 지속가능한 발전을 좌우하는 핵심 어젠다로 싱가포르와 긴밀히 협력할 필요가 있다”며 “육아휴직 확대, 개방적인 이민 정책 등 다양한 정책을 공유하고 공조해 나가길 희망한다”고 했다.조문규 기자 chomg@joongang.co.kr', 'category': 'politics', 'source_created_at': '2024-10-08T11:07:05+09:00', 'press_id': 1, 'press_name': '중앙일보'}\n"
     ]
    },
    {
     "name": "stderr",
     "output_type": "stream",
     "text": [
      "INFO:root:category (base_url): 경제 (https://www.joongang.co.kr/money)\n",
      "DEBUG:urllib3.connectionpool:Starting new HTTPS connection (1): www.joongang.co.kr:443\n",
      "DEBUG:urllib3.connectionpool:https://www.joongang.co.kr:443 \"GET /money HTTP/11\" 200 None\n",
      "DEBUG:root:Scraping article: https://www.joongang.co.kr/article/25282690\n",
      "DEBUG:urllib3.connectionpool:Starting new HTTPS connection (1): www.joongang.co.kr:443\n",
      "DEBUG:urllib3.connectionpool:https://www.joongang.co.kr:443 \"GET /article/25282690 HTTP/11\" 200 None\n",
      "INFO:root:page_category: 경제\n",
      "INFO:root:category: 경제\n",
      "INFO:root:https://www.joongang.co.kr/article/25282690 은 오늘 오전 8시 이전 기사이므로 생략합니다.\n",
      "DEBUG:root:Scraping article: https://www.joongang.co.kr/article/25282694\n",
      "DEBUG:urllib3.connectionpool:Starting new HTTPS connection (1): www.joongang.co.kr:443\n",
      "DEBUG:urllib3.connectionpool:https://www.joongang.co.kr:443 \"GET /article/25282694 HTTP/11\" 200 None\n",
      "INFO:root:page_category: 경제\n",
      "INFO:root:category: 경제\n",
      "INFO:root:https://www.joongang.co.kr/article/25282694 은 오늘 오전 8시 이전 기사이므로 생략합니다.\n",
      "DEBUG:root:Scraping article: https://www.joongang.co.kr/article/25282700\n",
      "DEBUG:urllib3.connectionpool:Starting new HTTPS connection (1): www.joongang.co.kr:443\n",
      "DEBUG:urllib3.connectionpool:https://www.joongang.co.kr:443 \"GET /article/25282700 HTTP/11\" 200 None\n",
      "INFO:root:page_category: 경제\n",
      "INFO:root:category: 경제\n",
      "INFO:root:https://www.joongang.co.kr/article/25282700 은 오늘 오전 8시 이전 기사이므로 생략합니다.\n",
      "DEBUG:root:Scraping article: https://www.joongang.co.kr/article/25282702\n",
      "DEBUG:urllib3.connectionpool:Starting new HTTPS connection (1): www.joongang.co.kr:443\n",
      "DEBUG:urllib3.connectionpool:https://www.joongang.co.kr:443 \"GET /article/25282702 HTTP/11\" 200 None\n",
      "INFO:root:page_category: 경제\n",
      "INFO:root:category: 경제\n",
      "INFO:root:https://www.joongang.co.kr/article/25282702 은 오늘 오전 8시 이전 기사이므로 생략합니다.\n",
      "DEBUG:root:Scraping article: https://www.joongang.co.kr/article/25282734\n",
      "DEBUG:urllib3.connectionpool:Starting new HTTPS connection (1): www.joongang.co.kr:443\n",
      "DEBUG:urllib3.connectionpool:https://www.joongang.co.kr:443 \"GET /article/25282734 HTTP/11\" 200 None\n",
      "INFO:root:page_category: 더 차이나\n",
      "INFO:root:category: 경제\n",
      "INFO:root:https://www.joongang.co.kr/article/25282734 는 해당 카테고리가 아니어서 생략합니다. \n",
      "DEBUG:root:Scraping article: https://www.joongang.co.kr/article/25282749\n",
      "DEBUG:urllib3.connectionpool:Starting new HTTPS connection (1): www.joongang.co.kr:443\n",
      "DEBUG:urllib3.connectionpool:https://www.joongang.co.kr:443 \"GET /article/25282749 HTTP/11\" 200 None\n",
      "INFO:root:page_category: 경제\n",
      "INFO:root:category: 경제\n",
      "INFO:root:https://www.joongang.co.kr/article/25282749 은 오늘 오전 8시 이전 기사이므로 생략합니다.\n",
      "DEBUG:root:Scraping article: https://www.joongang.co.kr/article/25282747\n",
      "DEBUG:urllib3.connectionpool:Starting new HTTPS connection (1): www.joongang.co.kr:443\n",
      "DEBUG:urllib3.connectionpool:https://www.joongang.co.kr:443 \"GET /article/25282747 HTTP/11\" 200 None\n",
      "INFO:root:page_category: 경제\n",
      "INFO:root:category: 경제\n",
      "INFO:root:https://www.joongang.co.kr/article/25282747 은 오늘 오전 8시 이전 기사이므로 생략합니다.\n",
      "DEBUG:root:Scraping article: https://www.joongang.co.kr/article/25282771\n",
      "DEBUG:urllib3.connectionpool:Starting new HTTPS connection (1): www.joongang.co.kr:443\n",
      "DEBUG:urllib3.connectionpool:https://www.joongang.co.kr:443 \"GET /article/25282771 HTTP/11\" 200 None\n",
      "INFO:root:page_category: 경제\n",
      "INFO:root:category: 경제\n",
      "INFO:root:Article saved to ./joongang/economy/2024-10-08-1\\source-2024-10-08-1.json\n",
      "DEBUG:root:Scraping article: https://www.joongang.co.kr/article/25282772\n",
      "DEBUG:urllib3.connectionpool:Starting new HTTPS connection (1): www.joongang.co.kr:443\n",
      "DEBUG:urllib3.connectionpool:https://www.joongang.co.kr:443 \"GET /article/25282772 HTTP/11\" 200 None\n",
      "INFO:root:page_category: 경제\n"
     ]
    },
    {
     "name": "stdout",
     "output_type": "stream",
     "text": [
      "{'title': '[속보] 삼성전자 3분기 영업이익 9.1조 기대 밑돌아…매출은 사상 최대', 'source_url': 'https://www.joongang.co.kr/article/25282771', 'content': '삼성전자. 연합뉴스삼성전자가 올해 3분기 9조원대의 영업이익을 내는 데 그쳤다. 스마트폰과 PC 등의 수요 회복이 예상보다 더디며 주력인 범용 D램이 부진한 데다, 반도체 부문의 일회성 비용 등이 반영되며 시장 기대를 밑돈 것으로 분석된다. 다만 매출은 사상 최대를 기록했다.삼성전자는 연결 기준 올해 3분기 영업이익이 9조1000억원으로 지난해 동기보다 274.49% 증가한 것으로 잠정 집계됐다고 8일 공시했다. 매출은 79조원으로 작년 같은 기간 대비 17.21% 증가했다. 영업이익은 이미 낮아진 시장 눈높이에도 못 미쳤지만, 매출은 분기 사상 최대였던 2022년 1분기(77조7800억원)의 기록을 뛰어넘어 사상 최대 기록을 썼다.앞서 연합인포맥스가 최근 1개월 내 보고서를 낸 증권사 18곳의 컨센서스(실적 전망치)를 집계한 결과, 삼성전자의 3분기 영업이익은 전년 동기(2조4335억원)의 4배가 넘는 10조3047억원, 매출은 19.98% 증가한 80조8700억원으로 각각 예측됐다.당초 3분기 영업이익으로 14조원대까지 내다봤던 증권업계는 최근 들어 눈높이를 10조원 안팎으로 급격히 낮춰 잡았다. 이처럼 삼성전자의 3분기 영업이익이 시장 기대치에 못 미친 것은 스마트폰과 PC 판매 부진으로 메모리 모듈 업체들의 재고 수준이 12∼16주로 증가하며 메모리 출하량과 가격 상승이 당초 예상을 밑돌았기 때문으로 보인다.인공지능(AI)·서버용 메모리 수요는 견조한 가운데 삼성의 고대역폭 메모리(HBM)가 경쟁업체 대비 가시적인 성과를 내지 못하고 있는 것도 영향을 미쳤다. 반도체 사업을 담당하는 디바이스솔루션(DS) 부문의 일회성 비용(성과급)과 파운드리 수주 부진, 비우호적인 환율, 재고평가손실 환입 규모 등도 작용했다.잠정 실적인 만큼 삼성전자는 이날 부문별 실적은 공개하지 않았으나, 증권업계에서는 DS 부문이 5조3000억원 안팎의 영업이익을 낸 것으로 추정하고 있다.김지혜 기자 kim.jihye6@joongang.co.kr', 'category': 'economy', 'source_created_at': '2024-10-08T08:52:07+09:00', 'press_id': 1, 'press_name': '중앙일보'}\n"
     ]
    },
    {
     "name": "stderr",
     "output_type": "stream",
     "text": [
      "INFO:root:category: 경제\n",
      "INFO:root:Article saved to ./joongang/economy/2024-10-08-2\\source-2024-10-08-2.json\n",
      "DEBUG:root:Scraping article: https://www.joongang.co.kr/article/25282777\n",
      "DEBUG:urllib3.connectionpool:Starting new HTTPS connection (1): www.joongang.co.kr:443\n",
      "DEBUG:urllib3.connectionpool:https://www.joongang.co.kr:443 \"GET /article/25282777 HTTP/11\" 200 None\n"
     ]
    },
    {
     "name": "stdout",
     "output_type": "stream",
     "text": [
      "{'title': '반도체 등 수출호조에 8월 경상수지 66억 달러 흑자…4개월 연속 흑자', 'source_url': 'https://www.joongang.co.kr/article/25282772', 'content': '지난달 23일 부산 남구 감만부두 야적장에 컨테이너가 가득 쌓여 있다. 뉴시스반도체·휴대전화 등의 수출 호조에 힘입어 8월 경상수지가 66억 달러를 기록, 4개월째 흑자 기조를 이어갔다.한국은행이 8일 발표한 국제수지 잠정통계에 따르면 8월 경상수지는 66억 달러(약 8조8900억원) 흑자를 기록했다. 지난 4월 외국인 배당 증가 등으로 1년 만에 적자(-2억9000만 달러)를 기록했다가 5월(89억2000만 달러) 반등한 뒤 6월(125억6000만 달러), 7월(89억7000만 달러)에 이어 4개월 연속 흑자다.하지만 흑자 규모는 6년 9개월 내 최대였던 6월의 절반 수준이고, 7월보다도 약 24억 달러 줄었다. 지난해 8월(54억1000만 달러)과 비교하면 약 12억 달러 많다. 8월 기준으로는 2021년(67억 달러 흑자) 이후 3년 만에 최대치다.1∼8월 누적 경상수지는 536억 달러 흑자로, 지난해 같은 기간(106억7000만 달러)보다 429억3000만 달러 늘었다.경상수지를 항목별로 보면, 8월 상품수지(65억9000만 달러)가 지난해 4월 이후 17개월 연속 흑자 기조를 유지했다. 흑자 폭은 7월(83억3000만 달러)보다 작았지만, 지난해 8월(52억 달러)보다는 컸다.지난달 6일 인천 연수구 인천신항 컨테이너 터미널에 컨테이너가 쌓여 있다.뉴시스수출은 574억5000만 달러로 전년 같은 달 대비 7.1% 증가해 11개월 연속 올랐다. 다만 7월(16.3%)보다는 상승 폭이 줄었다.품목 중에서는 정보통신기기(44.0%)·반도체(38.3%)·석유제품(0.6%)이 늘었고, 지역별로는 EU(16.1%)·동남아(15.3%)·미국(11.1%)·중국(7.9%)·일본(6.6%) 등으로의 수출이 호조를 보였다. 반대로 화학공업제품(-4.4%)·승용차(-3.6%) 등은 감소했다.수입(508억6000만 달러)은 4.9% 늘었다. 원유(30.1%)·석유제품(13.4%)·천연가스(5.6%) 등 원자재 수입이 6.1%, 수송장비(46.0%)·반도체(18.7%)·반도체 제조장비(14.7%) 등 자본재 수입이 7.8% 각각 늘었다. 귀금속·보석류(282.1%)와 직접소비재(2.7%)·승용차(0.6%)를 비롯한 소비재 수입도 2.0% 늘었다.서비스수지는 여행, 가공서비스 등을 중심으로 12억3000만 달러 적자를 기록, 전월(-23억8000만 달러)보다 적자 폭이 축소됐다. 운송수지는 컨테이너선 운임 상승에 5억9000만 달러로 \\xa0흑자 폭이 확대됐다. 반면, 여행수지는 14억2000만 달러 적자로 전월(-12억6000만 달러)보다 적자 폭이 확대됐다. 여름철 해외여행 성수기의 영향으로 적자 폭이 확대됐다는 것이 한은의 설명이다.본원소득수지는 배당소득을 중심으로 \\xa016억9000만 달러 흑자를 보이며 7월(31억5000만 달러)보다 흑자 폭이 줄었다. 증권투자 분기 배당 지급에 배당소득수지가 11억8000만 달러로 전월(27억9000만 달러)보다 줄어든 영향이다. 이자소득수지는 7억 달러를 보였다.금융계정 순자산(자산-부채)은 8월 중 49억3000만 달러 늘었다.직접투자의 경우 내국인의 해외투자가 44억6000만 달러, 외국인의 국내 투자가 12억1000만 달러 각각 증가했다.증권투자에서는 내국인의 해외투자가 주식을 중심으로 86억4000만 달러 늘었고, 외국인의 국내 투자도 채권 위주로 26억2000만 달러 확대됐다.한은 관계자는 “8월 경상수지는 상품수지와 본원소득수지를 중심으로 축소됐지만, 월평균을 상회한 수준으로 양호한 것으로 평가된다”면서 “9월은 수출이 호조세를 보인 만큼 경상수지 흑자 폭은 8월보다 커질 것”이라고 말했다.조문규 기자 chomg@joongang.co.kr', 'category': 'economy', 'source_created_at': '2024-10-08T08:52:31+09:00', 'press_id': 1, 'press_name': '중앙일보'}\n"
     ]
    },
    {
     "name": "stderr",
     "output_type": "stream",
     "text": [
      "INFO:root:page_category: 경제\n",
      "INFO:root:category: 경제\n",
      "INFO:root:Article saved to ./joongang/economy/2024-10-08-3\\source-2024-10-08-3.json\n",
      "DEBUG:root:Scraping article: https://www.joongang.co.kr/article/25282780\n",
      "DEBUG:urllib3.connectionpool:Starting new HTTPS connection (1): www.joongang.co.kr:443\n",
      "DEBUG:urllib3.connectionpool:https://www.joongang.co.kr:443 \"GET /article/25282780 HTTP/11\" 200 None\n"
     ]
    },
    {
     "name": "stdout",
     "output_type": "stream",
     "text": [
      "{'title': '\"예약 4937% 뛰었어요\"…흑백요리사 열풍, 인기 식당 어디', 'source_url': 'https://www.joongang.co.kr/article/25282777', 'content': '지난 7일 서울 마포구 호텔 나루 서울 엠갤러리에서 열린 넷플릭스 \\'흑백요리사: 요리 계급 전쟁\\' 기자간담회가 열렸다. 왼쪽부터 요리사 에드워드 리, 트리플 스타, 정지선, 요리하는 돌아이, 요리사 장호준, 이모카세 1호, 최현석, 나폴리 맛피아. 연합뉴스넷플릭스 프로그램 \\'흑백요리사: 요리 계급 전쟁\\'에 출연한 셰프들이 큰 관심을 받으며 이들이 운영하는 식당의 검색량과 예약 건수도 급증했다.국내 식당 예약과 후기 서비스를 제공하는 애플리케이션(앱) 캐치테이블은 흑백요리사 방송 후 주목받는 셰프와 식당에 대한 검색어 순위, 예약 건수 등을 분석했다고 8일 밝혔다.그 결과 흑백요리사 셰프의 식당 검색량은 전주 대비 74배 상승했으며 식당 저장 수는 같은 기간 1884% 급증했다. 식당 평균 예약 증가율은 약 148%였으며 이 중 최대 4937.5%를 기록한 곳도 있었다. 다만 이 식당의 이름은 공개되지 않았다.인기 검색어 순위 1위를 차지한 곳은 최강록 셰프의 식당 네오였다. 이어 2위 도량, 3위 트리드, 4위 디핀, 5위 쵸이닷 순이었다.백수저(스타 셰프)와 흑수저(재야의 고수) 셰프로 나눠 식당별 예약 증가율을 살펴보면 백수저 중에는 최현석 셰프의 쵸이닷과 중앙감속기가 각각 1, 2위에 올랐다. 여경래 셰프의 홍보각, 남정석 셰프의 로컬릿 등도 뜨거운 반응을 얻고 있다.흑수저 중 예약이 가장 많이 증가한 곳은 \\'요리하는 돌아이\\'로 출연한 윤남노 셰프의 디핀 옥수였다. 이어 \\'캠핑맨\\' 박재현 셰프의 쇼니노, \\'고기깡패\\' 데이비드 리 셰프의 군몽 등이 상위권에 들었다.용태순 캐치테이블 대표는 \"경기불황으로 외식업계가 힘든 시기를 겪고 있는 가운데 흑백요리사 열풍으로 활기를 되찾고 있는 분위기\"라며 \"캐치테이블은 앞으로도 다양한 정보를 제공해 소비자와 매장 모두에게 도움이 될 수 있는 외식 플랫폼이 되겠다\"고 밝혔다.김지혜 기자 kim.jihye6@joongang.co.kr', 'category': 'economy', 'source_created_at': '2024-10-08T09:34:30+09:00', 'press_id': 1, 'press_name': '중앙일보'}\n"
     ]
    },
    {
     "name": "stderr",
     "output_type": "stream",
     "text": [
      "INFO:root:page_category: 경제\n",
      "INFO:root:category: 경제\n",
      "INFO:root:Article saved to ./joongang/economy/2024-10-08-4\\source-2024-10-08-4.json\n"
     ]
    },
    {
     "name": "stdout",
     "output_type": "stream",
     "text": [
      "{'title': '부스터스, 반려동물용품 브랜드 ‘래핑찰리’ 우성에 매각', 'source_url': 'https://www.joongang.co.kr/article/25282780', 'content': '브랜드 그룹 부스터스(최윤호 대표)가 반려동물용품 브랜드 ‘래핑찰리(Laughing Charlie)’를 펫푸드 전문 기업 우성에 매각했다고 밝혔다. 인수 2년 만에 이뤄진 엑시트이다.래핑찰리는 부스터스가 2022년 6월 인수한 브랜드로, ‘이지세이프클립’, ‘워킹 세이프 스프레이’, ‘수딩 풋클렌저’ 등 다양한 히트 제품을 보유하고 있다. 특히 진드기 방지 클립의 원조로 알려진 ‘이지세이프 클립’이 대표적이다.부스터스는 브랜드 경쟁력 강화를 위해 인수 후 전반적인 브랜드 리뉴얼을 진행하고 다양한 신제품 출시로 폭넓은 제품군을 구축했다. 그 결과 래핑찰리의 공식 캐릭터 ‘찰리’가 탄생했으며, ‘허그미 쿠션’, ‘이지세이프 하네스’, ‘이지 슬링백’ 등의 신제품을 연이어 선보이며 반려동물용품 시장 내 영향력을 확대했다.부스터스는 래핑찰리 외에도 또 다른 반려동물용품 브랜드인 ‘포글(pogle)’의 브랜드 자산을 인수해 운영해 왔다. 이번 브랜드 매각에는 포글의 브랜드 자산 전량도 포함된다.부스터스 최윤호 대표는 “이번 매각은 현재 운영 중인 브랜드의 선택과 집중을 위한 결정”이라며, “운영 효율화를 통해 인수한 브랜드의 해외 진출과 최근 폭발적인 성장세를 보이는 브랜든(Branden)을 메가 브랜드로 육성하는 데 주력할 것”이라고 말했다.한편, 부스터스는 이번 브랜드 매각을 통해 인수부터 엑시트까지 전 사이클을 경험한 기업으로 자리매김했다. 잠재력 높은 브랜드를 발굴해 인수하는 단계에 집중했던 초기 사업 모델과 달리 현재는 브랜드의 운영과 성장에 더욱 주력하고 있다.김나혜 인턴기자 kim.nahye@joongang.co.kr', 'category': 'economy', 'source_created_at': '2024-10-08T10:00:00+09:00', 'press_id': 1, 'press_name': '중앙일보'}\n"
     ]
    },
    {
     "name": "stderr",
     "output_type": "stream",
     "text": [
      "INFO:root:category (base_url): 국제 (https://www.joongang.co.kr/world)\n",
      "DEBUG:urllib3.connectionpool:Starting new HTTPS connection (1): www.joongang.co.kr:443\n",
      "DEBUG:urllib3.connectionpool:https://www.joongang.co.kr:443 \"GET /world HTTP/11\" 200 None\n",
      "DEBUG:root:Scraping article: https://www.joongang.co.kr/article/25282726\n",
      "DEBUG:urllib3.connectionpool:Starting new HTTPS connection (1): www.joongang.co.kr:443\n",
      "DEBUG:urllib3.connectionpool:https://www.joongang.co.kr:443 \"GET /article/25282726 HTTP/11\" 200 None\n",
      "INFO:root:page_category: 국제\n",
      "INFO:root:category: 국제\n",
      "INFO:root:https://www.joongang.co.kr/article/25282726 은 오늘 오전 8시 이전 기사이므로 생략합니다.\n",
      "DEBUG:root:Scraping article: https://www.joongang.co.kr/article/25282730\n",
      "DEBUG:urllib3.connectionpool:Starting new HTTPS connection (1): www.joongang.co.kr:443\n",
      "DEBUG:urllib3.connectionpool:https://www.joongang.co.kr:443 \"GET /article/25282730 HTTP/11\" 200 None\n",
      "INFO:root:page_category: 국제\n",
      "INFO:root:category: 국제\n",
      "INFO:root:https://www.joongang.co.kr/article/25282730 은 오늘 오전 8시 이전 기사이므로 생략합니다.\n",
      "DEBUG:root:Scraping article: https://www.joongang.co.kr/article/25282731\n",
      "DEBUG:urllib3.connectionpool:Starting new HTTPS connection (1): www.joongang.co.kr:443\n",
      "DEBUG:urllib3.connectionpool:https://www.joongang.co.kr:443 \"GET /article/25282731 HTTP/11\" 200 None\n",
      "INFO:root:page_category: 국제\n",
      "INFO:root:category: 국제\n",
      "INFO:root:https://www.joongang.co.kr/article/25282731 은 오늘 오전 8시 이전 기사이므로 생략합니다.\n",
      "DEBUG:root:Scraping article: https://www.joongang.co.kr/article/25282732\n",
      "DEBUG:urllib3.connectionpool:Starting new HTTPS connection (1): www.joongang.co.kr:443\n",
      "DEBUG:urllib3.connectionpool:https://www.joongang.co.kr:443 \"GET /article/25282732 HTTP/11\" 200 None\n",
      "INFO:root:page_category: 국제\n",
      "INFO:root:category: 국제\n",
      "INFO:root:https://www.joongang.co.kr/article/25282732 은 오늘 오전 8시 이전 기사이므로 생략합니다.\n",
      "DEBUG:root:Scraping article: https://www.joongang.co.kr/article/25282739\n",
      "DEBUG:urllib3.connectionpool:Starting new HTTPS connection (1): www.joongang.co.kr:443\n",
      "DEBUG:urllib3.connectionpool:https://www.joongang.co.kr:443 \"GET /article/25282739 HTTP/11\" 200 None\n",
      "INFO:root:page_category: 국제\n",
      "INFO:root:category: 국제\n",
      "INFO:root:https://www.joongang.co.kr/article/25282739 은 오늘 오전 8시 이전 기사이므로 생략합니다.\n",
      "DEBUG:root:Scraping article: https://www.joongang.co.kr/article/25282743\n",
      "DEBUG:urllib3.connectionpool:Starting new HTTPS connection (1): www.joongang.co.kr:443\n",
      "DEBUG:urllib3.connectionpool:https://www.joongang.co.kr:443 \"GET /article/25282743 HTTP/11\" 200 None\n",
      "INFO:root:page_category: 국제\n",
      "INFO:root:category: 국제\n",
      "INFO:root:https://www.joongang.co.kr/article/25282743 은 오늘 오전 8시 이전 기사이므로 생략합니다.\n",
      "DEBUG:root:Scraping article: https://www.joongang.co.kr/article/25282751\n",
      "DEBUG:urllib3.connectionpool:Starting new HTTPS connection (1): www.joongang.co.kr:443\n",
      "DEBUG:urllib3.connectionpool:https://www.joongang.co.kr:443 \"GET /article/25282751 HTTP/11\" 200 None\n",
      "INFO:root:page_category: 국제\n",
      "INFO:root:category: 국제\n",
      "INFO:root:https://www.joongang.co.kr/article/25282751 은 오늘 오전 8시 이전 기사이므로 생략합니다.\n",
      "DEBUG:root:Scraping article: https://www.joongang.co.kr/article/25282762\n",
      "DEBUG:urllib3.connectionpool:Starting new HTTPS connection (1): www.joongang.co.kr:443\n",
      "DEBUG:urllib3.connectionpool:https://www.joongang.co.kr:443 \"GET /article/25282762 HTTP/11\" 200 None\n",
      "INFO:root:page_category: 더 차이나\n",
      "INFO:root:category: 국제\n",
      "INFO:root:https://www.joongang.co.kr/article/25282762 는 해당 카테고리가 아니어서 생략합니다. \n",
      "DEBUG:root:Scraping article: https://www.joongang.co.kr/article/25282763\n",
      "DEBUG:urllib3.connectionpool:Starting new HTTPS connection (1): www.joongang.co.kr:443\n",
      "DEBUG:urllib3.connectionpool:https://www.joongang.co.kr:443 \"GET /article/25282763 HTTP/11\" 200 None\n",
      "INFO:root:page_category: 국제\n",
      "INFO:root:category: 국제\n",
      "INFO:root:https://www.joongang.co.kr/article/25282763 은 오늘 오전 8시 이전 기사이므로 생략합니다.\n",
      "DEBUG:root:Scraping article: https://www.joongang.co.kr/article/25282764\n",
      "DEBUG:urllib3.connectionpool:Starting new HTTPS connection (1): www.joongang.co.kr:443\n",
      "DEBUG:urllib3.connectionpool:https://www.joongang.co.kr:443 \"GET /article/25282764 HTTP/11\" 200 None\n",
      "INFO:root:page_category: 더 차이나\n",
      "INFO:root:category: 국제\n",
      "INFO:root:https://www.joongang.co.kr/article/25282764 는 해당 카테고리가 아니어서 생략합니다. \n",
      "DEBUG:root:Scraping article: https://www.joongang.co.kr/article/25282766\n",
      "DEBUG:urllib3.connectionpool:Starting new HTTPS connection (1): www.joongang.co.kr:443\n",
      "DEBUG:urllib3.connectionpool:https://www.joongang.co.kr:443 \"GET /article/25282766 HTTP/11\" 200 None\n",
      "INFO:root:page_category: 국제\n",
      "INFO:root:category: 국제\n",
      "INFO:root:https://www.joongang.co.kr/article/25282766 은 오늘 오전 8시 이전 기사이므로 생략합니다.\n",
      "DEBUG:root:Scraping article: https://www.joongang.co.kr/article/25282774\n",
      "DEBUG:urllib3.connectionpool:Starting new HTTPS connection (1): www.joongang.co.kr:443\n",
      "DEBUG:urllib3.connectionpool:https://www.joongang.co.kr:443 \"GET /article/25282774 HTTP/11\" 200 None\n",
      "INFO:root:page_category: 국제\n",
      "INFO:root:category: 국제\n",
      "INFO:root:Article saved to ./joongang/world/2024-10-08-1\\source-2024-10-08-1.json\n",
      "DEBUG:root:Scraping article: https://www.joongang.co.kr/article/25282793\n",
      "DEBUG:urllib3.connectionpool:Starting new HTTPS connection (1): www.joongang.co.kr:443\n",
      "DEBUG:urllib3.connectionpool:https://www.joongang.co.kr:443 \"GET /article/25282793 HTTP/11\" 200 None\n"
     ]
    },
    {
     "name": "stdout",
     "output_type": "stream",
     "text": [
      "{'title': '휘트니 휴스턴 키운 엄마 시시, 알츠하이머 투병 중 별세', 'source_url': 'https://www.joongang.co.kr/article/25282774', 'content': '지난 2012년 7월 미국 로스앤젤레스에서 열린 \\'BET 어워즈\\'에서 시시 휴스턴이 고인이 된 딸 휘트니 휴스턴에게 헌정하는 공연을 하고 있는 모습. 배경에 시시 휴스턴(왼쪽)과 휘트니 휴스턴 사진이 나오고 있다. 로이터=연합뉴스고인이 된 팝스타 휘트니 휴스턴의 어머니이자 가수인 시시 휴스턴이 91세의 나이로 별세했다.7일(현지시간) AP통신 등에 따르면\\xa0그의 가족은 성명을 통해 시시가 이날 오전 뉴저지주 뉴어크의 자택에서 가족들에게 둘러싸인 채 숨을 거뒀다고 밝혔다. 고인은 그동안 알츠하이머병으로 호스피스 치료를 받아왔다고 전했다.시시는 1933년 뉴어크의 공장 노동자 가정에서 8남매 중 막내로 태어났다. 그는 가족과 함께 교회에 다니면서 5살 때부터 성가대에서 노래를 불렀고, 10대 시절 형제들과 함께 가스펠 그룹을 만들어 활동하면서 가수로 활동하기 시작했다.1960년대에는 R&B 보컬 그룹 스위트 인스피레이션의 멤버로 활동하며 데이비드 보위, 닐 다이아몬드, 지미 헨드릭스 등 다양한 가수들의 노래 수백 곡에 코러스를 맡았다. 1969년에는 그룹을 탈퇴해 솔로로 활동했고, 아레사 프랭클린과 엘비스 프레슬리 등 최고 스타들의 보컬을 돕는 백업 가수로 업계에서 유명해졌다.아울러 반세기 넘게 뉴어크에 있는 뉴호프 침례교회 성가대 지휘자로 활동하며 가스펠 음악계에도 큰 영향을 끼쳤다. 그는 1997년 앨범 \\'페이스 투 페이스\\'(Face to Face)와 1999년 앨범 \\'히 리데스 미\\'(He Leadeth Me)로 그래미 시상식 소울 가스펠 부문에서 두 차례 수상하기도 했다.시시 휴스턴. AP=연합뉴스시시는 1955년 첫 결혼 이후, 존 휴스턴과의 두 번째 결혼에서 휘트니를 포함해 세 자녀를 낳았다.그는 특히 어릴 때부터 남달랐던 딸 휘트니를 슈퍼스타로 키우는 데 결정적인 역할을 한 인물로 꼽힌다.가스펠 음악 전문가인 로버트 다든은 2015년 NYT 인터뷰에서 \"휘트니 휴스턴은 최고에게 훈련받았다\"며 \"그녀는 귀한 목소리를 타고났지만, 어떤 스타일로든 노래할 수 있었던 시시 같은 사람의 훈련과 영향력, 경험이 없었다면 그녀가 이룬 것을 이루지 못했을 것\"이라고 말했다.시시 휴스턴은 딸 휘트니가 가수로 크게 성공한 뒤 함께 공연하러 다녔고, 휘트니의 \\'하우 윌 아이 노우\\'(How Will I Know)와 \\'아이 워너 댄스 위드 섬바디\\'(I Wanna Dance With Somebody) 같은 히트곡들의 백업 보컬을 맡기도 했다.하지만 그는 말년에 딸과 손녀를 먼저 잇달아 떠나보내는 비극을 겪었다.휘트니는 2012년 LA 베벌리힐스의 한 호텔 욕조에서 숨진 채 발견됐다. 그는 코카인을 흡입한 뒤 욕조 안에서 심장마비를 일으켜 익사한 것으로 조사됐다.휘트니의 딸인 크리스티나 브라운도 2015년 조지아주 자택 욕조에서 의식을 잃은 채 발견된 뒤 6개월 동안 혼수상태에서 치료받다 사망했다. 그도 엄마처럼 마리화나, 코카인, 모르핀 등 각종 약물을 복용한 것으로 드러났다.현예슬 기자 hyeon.yeseul@joongang.co.kr', 'category': 'world', 'source_created_at': '2024-10-08T09:05:39+09:00', 'press_id': 1, 'press_name': '중앙일보'}\n"
     ]
    },
    {
     "name": "stderr",
     "output_type": "stream",
     "text": [
      "INFO:root:page_category: 국제\n",
      "INFO:root:category: 국제\n",
      "INFO:root:Article saved to ./joongang/world/2024-10-08-2\\source-2024-10-08-2.json\n",
      "DEBUG:root:Scraping article: https://www.joongang.co.kr/article/25282813\n",
      "DEBUG:urllib3.connectionpool:Starting new HTTPS connection (1): www.joongang.co.kr:443\n",
      "DEBUG:urllib3.connectionpool:https://www.joongang.co.kr:443 \"GET /article/25282813 HTTP/11\" 200 None\n"
     ]
    },
    {
     "name": "stdout",
     "output_type": "stream",
     "text": [
      "{'title': '가자전쟁 1년, 해리스 “하마스 악행 규탄” 트럼프는 “바이든ㆍ해리스 탓”', 'source_url': 'https://www.joongang.co.kr/article/25282793', 'content': '팔레스타인 무장 정파 하마스의 이스라엘 기습 공격으로 촉발된 가자 전쟁 1주년을 맞아 카멀라 해리스 부통령은 테러에 준하는 기습 공격을 한 하마스를 비난하면서 휴전 협상을 촉구했다. 반면, 도널드 트럼프 전 대통령이\\xa0자신이 대통령이었다면 전쟁은 일어나지 않았을 것이라면서 가자 전쟁을 대선 경쟁자인 해리스를 비난하는 계기로 삼았다.이스라엘·하마스 전쟁 1주년을 맞아 카멀라 해리스 부통령(왼쪽)과 도널드 트럼프 전 대통령이 사태의 원인과 처방에 대해 극명히 대비되는 반응을 내놨다. 사진은 2024년 10월 4일 미시간주 플린트에서 열린 집회에 참석한 해리스와 9월 27일 미시간주 워커에서 열린 유세 집회에 참석한 트럼프. AP=연합뉴스7일(현지시간) 해리스는 추모 행사에서 \"하마스가 그날 한 짓은 잔혹하고 역겨우며 악(惡) 그 자체였다\"고 규정했다. 이어 \"우리 모두 10월 7일의 공포가 다시는 일어나지 않도록 해야 한다\"고 당부했다.\\xa0또 \"항상 이스라엘이 이란과, 하마스 같은 테러리스트를 상대로 자국을 방어하기 위해 필요한 것을 갖추도록 만들겠다\"며 \"이스라엘의 안보에 대한 내 약속은 흔들리지 않는다\"고 말했다.민주당 대선 후보이자 미국 부통령 카멀라 해리스(오른쪽)와 남편 더그 엠호프가 10월 7일 부통령 관저에서 희망과 정의의 상징인 석류 나무를 심고 있다. 로이터=연합뉴스그러면서도 그는 \"휴전 협상을 포기하지 않겠다\"면서 \"바이든 행정부의 최고 우선순위 중 하나\"라고 강조했다. 이날 그는 하마스 기습 희생자들을 추모하는 뜻에서 남편 더그 엠호프와 함께 희망과 정의의 상징인 석류나무를 관저에 심었다.조 바이든 대통령도 이날 성명에서 “이스라엘의 안보 확보를 위해 전념하겠다”면서도 “휴전 타결 노력을 중단하지 않겠다”고 밝혔다. 바이든은 질 바이든 여사와 함께 테러 공격 희생자들을 추모하는 유대교 촛불 점등 의식에 참여했다.조 바이든 미국 대통령(가운데)이 10월 7일 백악관에서 질 바이든 여사(왼쪽)와 함께 테러 공격 희생자들을 추모하는 유대교 촛불 점등 의식에 참여했다. 로이터=연합뉴스같은 날 미국 재무부는 하마스의 \\'돈줄\\'을 겨냥한 신규 제재를 단행했다. 하마스에 돈을 대온 아델 더그먼 등 개인 3명과 \\'가짜\\' 자선단체 1곳, 하마스가 통제하는 가자지구 금융기관 1곳이 제재 대상이다. 재무부는 하마스를 오랫동안 지원해온 하미드 알 아흐마르와, \\'알아흐마르트레이딩그룹\\' 등 개인·기업 9곳도 제재 대상에 올렸다.트럼프 \"바이든 최악 외교…해리스는 더 멍청\"트럼프는 이날 보수 성향의 라디오 휴 휴잇 쇼와의 인터뷰에서 하마스의 1년 전 기습 공격에 대해 \"(내가 대통령이었다면) 절대 일어나지 않았을 일이다. 심지어 민주당 당원들도 인정한다\"고 말했다.그는 이어 \\'바이든과 해리스가 이스라엘의 승리를 방해하고 있느냐\\'는 질문에 \"그렇다. 그들이 말하는 모든 것은 (해야 할 일의) 정반대다\"라면서 \"그(바이든)는 최악의 외교 정책을 갖고 있으며 그녀(해리스)는 그보다 더 멍청하다\"고 했다.공화당 대선 후보 도널드 트럼프 전 대통령(가운데)이 10월 7일 뉴욕에서 유대교 신자들과 이야기를 나누고 있다. AP=연합뉴스트럼프 대선 캠프도 이날 성명에서 \"무고한 이스라엘인과 미국인에 대한 학살과 납치를 포함해 10월 7일 발생한 잔혹한 행위는 트럼프 전 대통령이 백악관에 있었더라면 일어나지 않았을 것\"이라고 밝혔다. 이어 \"(하마스를 지원하는) 이란 테러 정권은 해리스·바이든 정부의 무능과 유약한 정책 때문에 더 강해지고 부유해졌다\"면서 \"이란 테러 정권이 초래한 유혈 사태를 끝낼 수 있도록 트럼프를 다시 뽑아야 한다\"고 전했다.한편 트럼프는 바이든 정부의 국경 정책을 비판하면서 \"이민자들이 나쁜 유전자 때문에 강력 범죄를 일으킨다\"는 주장을 폈다.그는 이민자의 급격한 유입이 미국의 집값 상승을 부추겼다고 주장하며 \"(현 정부가) 열린 국경을 통해 사람들이 들어오도록 허용했는데 그중 1만3000명은 살인자였다\"라고 말했다. 그러면서 \"그들 중 다수는 1명 이상의 사람을 살해했으나 지금은 미국에서 행복하게 살고 있다\"며 \"살인자는 그 유전자를 갖고 있다. 우리(주변에)는 나쁜 유전자가 많이 있다\"고 주장했다.이와 관련, CNN은 팩트체크를 통해 \"트럼프가 인용한 통계인 1만3099명이 해리스 임기 중에 미국에 입국했다는 말은 100% 거짓이다\"고 전했다.관련기사가자전쟁 1년…매일 119명꼴 사망, 이중 40%가 어린이였다러시아 크렘린궁 \"해리스가 트럼프보다 예측 가능한 상대\"서유진 기자 suh.youjin@joongang.co.kr', 'category': 'world', 'source_created_at': '2024-10-08T11:13:33+09:00', 'press_id': 1, 'press_name': '중앙일보'}\n"
     ]
    },
    {
     "name": "stderr",
     "output_type": "stream",
     "text": [
      "INFO:root:page_category: 국제\n",
      "INFO:root:category: 국제\n",
      "INFO:root:Article saved to ./joongang/world/2024-10-08-3\\source-2024-10-08-3.json\n",
      "DEBUG:root:Scraping article: https://www.joongang.co.kr/article/25282820\n",
      "DEBUG:urllib3.connectionpool:Starting new HTTPS connection (1): www.joongang.co.kr:443\n",
      "DEBUG:urllib3.connectionpool:https://www.joongang.co.kr:443 \"GET /article/25282820 HTTP/11\" 200 None\n"
     ]
    },
    {
     "name": "stdout",
     "output_type": "stream",
     "text": [
      "{'title': \"스위프트 재산 얼마길래…전세계 여성 가수 '최고 부자' 올랐다\", 'source_url': 'https://www.joongang.co.kr/article/25282813', 'content': \"월드 스타 테일러 스위프트. 로이터=연합뉴스월드 스타 테일러 스위프트가 전 세계 여성 뮤지션 중 최고 부자로 등극했다.7일(현지시간) 포브스에 따르면 스위프트는 5일 현재 재산이 16억 달러(약 2조1526억원)로 추정된다. 이에 14억 달러(약 1조8834억원)인 리한나를 제치고 여성 뮤지션 가운데 최고 부자로 올라섰다.스위프트의 재산은 로열티와 투어 공연으로 쌓은 6억 달러(약 8072억원), 6억 달러 상당의 음원, 1억2500만 달러(약 1681억원) 상당의 부동산 등으로 구성된 것으로 분석됐다.남녀 뮤지션을 통틀어서도 스위프트는 2위를 차지했다. 1위는 25억 달러(약 3조3622억원)인 비욘세의 남편이자 래퍼 제이지다.스위프트는 지난해부터 시작한 '디 에라스 투어'(The Eras Tour) 등의 성공으로 지난해 10월 억만장자 대열에 합류했다.포브스는 스위프트가 주로 노래와 공연을 바탕으로 억만장자가 된 최초의 뮤지션이라고 평가했다.스위프트는 올해 미국 대선에서 도널드 트럼프 전 대통령과 격돌하고 있는 카멀라 해리스 부통령에 대해 공개 지지를 선언하면서 선거판 변수로 떠올랐다.현예슬 기자 hyeon.yeseul@joongang.co.kr\", 'category': 'world', 'source_created_at': '2024-10-08T11:47:22+09:00', 'press_id': 1, 'press_name': '중앙일보'}\n"
     ]
    },
    {
     "name": "stderr",
     "output_type": "stream",
     "text": [
      "INFO:root:page_category: 국제\n",
      "INFO:root:category: 국제\n",
      "INFO:root:Article saved to ./joongang/world/2024-10-08-4\\source-2024-10-08-4.json\n"
     ]
    },
    {
     "name": "stdout",
     "output_type": "stream",
     "text": [
      "{'title': '멕시코 시장, 취임 6일 만 참수당했다…마약 카르텔 소행 추정', 'source_url': 'https://www.joongang.co.kr/article/25282820', 'content': \"7일(현지시간) 멕시코 남부 게레로주 칠판싱고에서 전날 살해된 알레한드로 아르코스 시장의 장례식이 열리고 있다. 로이터=연합뉴스멕시코의 한 지방 도시 시장이 취임 6일 만에 살해당했다.7일(현지시간) 미국 CBS 뉴스에 따르면 전날 멕시코 남부 게레로주에 위치한 인구 28만 명의 칠판싱고 시의 알레한드로 아르코스(43) 시장이 참수된 채 발견됐다.아르코스 시장은 지난 6월 선거에서 당선돼 지난달 30일 취임했다. 그는 사망 몇 시간 전만 해도 자신의 사회관계망서비스(SNS)에 허리케인 피해 지역 방문 사진을 올렸다. 하지만 이후 온라인에 그의 머리가 한 트럭에 놓인 사진이 퍼졌고, 현지 사법당국이 아르코스 시장의 살해 사실을 확인했다.3일 전에는 새로 출범한 이곳 칠판싱고시 정부의 신임 장관이던 프란시스코 타피아가 총에 맞아 살해되기도 했다.전날 살해된 알레한드로 아르코스 시장의 장례식이 열린 7일(현지시간) 멕시코 남부 게레로주 칠판싱고에서 시민들이 애도하고 있다. AP=연합뉴스멕시코는 지난 2006년 정부가 마약 밀수를 막기 위해 군대를 동원한 이후 45만 명이 살해당할 정도로 마약 갱단에 의한 강력 범죄가 끊이지 않고 있다. 멕시코 카르텔은 사업가나 지방 정부 관리 등을 상대로 보호금 명목의 돈을 뜯어내는데, 보안 강화로 이를 막으려는 시장과 시장 후보에 대해 암살 시도를 서슴지 않는다고 '레포르마'를 비롯한 현지 일간지는 지적하고 있다. 실제로 지난 6월 2일 치러진 대통령·의회·지방선거 기간에만 최소 24명의 정치인이 살해됐다.칠판싱고를 주도로 둔 게레로주는 마약 갱단인 아르딜로스와 틀라코스 사이의 세력 다툼이 벌어지고 있어 특히 정치인에 대한 폭력이 심하다. 지난 6월 선거 기간에는 게레로에서만 최소 6명의 후보가 살해됐다. 이번 사건 역시 카르텔의 소행으로 추정하고 있다.클라우디아 셰인바움 멕시코 대통령은 “사건의 동기를 알아내고 범인을 체포하기 위한 수사가 진행 중”이라며 “치안 강화를 위한 계획을 발표할 예정”이라고 밝혔다.조문규 기자 chomg@joongang.co.kr\", 'category': 'world', 'source_created_at': '2024-10-08T12:27:52+09:00', 'press_id': 1, 'press_name': '중앙일보'}\n"
     ]
    },
    {
     "name": "stderr",
     "output_type": "stream",
     "text": [
      "INFO:root:category (base_url): 사회_사건 (https://www.joongang.co.kr/society/accident)\n",
      "DEBUG:urllib3.connectionpool:Starting new HTTPS connection (1): www.joongang.co.kr:443\n",
      "DEBUG:urllib3.connectionpool:https://www.joongang.co.kr:443 \"GET /society/accident HTTP/11\" 200 None\n",
      "DEBUG:root:Scraping article: https://www.joongang.co.kr/article/25281847\n",
      "DEBUG:urllib3.connectionpool:Starting new HTTPS connection (1): www.joongang.co.kr:443\n",
      "DEBUG:urllib3.connectionpool:https://www.joongang.co.kr:443 \"GET /article/25281847 HTTP/11\" 200 None\n",
      "INFO:root:page_category: 사회\n",
      "INFO:root:category: 사회_사건\n",
      "INFO:root:Article saved to ./joongang/accident/2024-10-03-1\\source-2024-10-03-1.json\n",
      "DEBUG:root:Scraping article: https://www.joongang.co.kr/article/25282017\n",
      "DEBUG:urllib3.connectionpool:Starting new HTTPS connection (1): www.joongang.co.kr:443\n",
      "DEBUG:urllib3.connectionpool:https://www.joongang.co.kr:443 \"GET /article/25282017 HTTP/11\" 200 None\n"
     ]
    },
    {
     "name": "stdout",
     "output_type": "stream",
     "text": [
      "{'title': '음주운전도 모자라 도주에 경찰 폭행까지…체포 뒤 또 도망갔다', 'source_url': 'https://www.joongang.co.kr/article/25281847', 'content': '고속도로 음주 운전에다 경찰관까지 폭행하고 달아난 40대 남성이 경찰에 붙잡혔다.서울 서초경찰서는 A씨를 공무집행방해, 음주 측정 거부 혐의로 전날 현행범 체포했다고 3일 밝혔다.A씨는 2일 오후 10시쯤 서울 서초구 경부고속도로 반포 나들목 인근에서 술을 마신 채 음주운전한 혐의를 받고 있다.음주운전의심 신고를 받고 출동한 경찰이 추적해오자 A씨는 차선을 넘나들며 위험한 도주를 시작했다. 이윽고 순찰차를 들이받고서야 멈춰섰다. 경찰은 1차 사고를 막기 위해 A씨를 본인 차량 뒷자리에 앉히고, 경찰관이 A씨 차량을 운전해 검거현장을 벗어났다. 하지만 A씨는 서초 IC 램프구간 갓길에 차량이 잠시 정차한 틈을 타 그대로 도주했다. A씨는 뒤쫓던 경찰관 두 명을 폭행까지 하며 버티다가 결국 제압됐다.경찰은 A씨를 상대로 구체적인 사건 경위를 조사할 예정이다.조문규 기자 chomg@joongang.co.kr', 'category': 'accident', 'source_created_at': '2024-10-03T15:45:31+09:00', 'press_id': 1, 'press_name': '중앙일보'}\n"
     ]
    },
    {
     "name": "stderr",
     "output_type": "stream",
     "text": [
      "INFO:root:page_category: 사회\n",
      "INFO:root:category: 사회_사건\n",
      "INFO:root:Article saved to ./joongang/accident/2024-10-04-2\\source-2024-10-04-2.json\n",
      "DEBUG:root:Scraping article: https://www.joongang.co.kr/article/25282053\n",
      "DEBUG:urllib3.connectionpool:Starting new HTTPS connection (1): www.joongang.co.kr:443\n",
      "DEBUG:urllib3.connectionpool:https://www.joongang.co.kr:443 \"GET /article/25282053 HTTP/11\" 200 None\n"
     ]
    },
    {
     "name": "stdout",
     "output_type": "stream",
     "text": [
      "{'title': '여수 PC방서 70대에 흉기 휘두른 60대 남성 살인미수 체포', 'source_url': 'https://www.joongang.co.kr/article/25282017', 'content': '뉴스1전남 여수경찰서는 4일 사소한 시비로 다투다가 흉기를 휘둘러 살인미수 혐의로 60대 남성 A씨를 붙잡아 조사하고 있다.A씨는 전날 오후 8시 11분께 여수시 봉산동 한 피시방에서 70대 B씨에게 흉기를 휘둘러 살해하려다 미수에 그친 혐의를 받는다.피시방 손님이었던 두 사람은 소음 문제로 다퉜고, A씨는 분이 풀리지 않아 집에서 흉기를 챙겨와 범행한 것으로 조사됐다.경찰은 A씨를 상대로 사건 경위를 조사해 구속영장을 신청할 방침이다.이해준 기자 lee.hayjune@joongang.co.kr', 'category': 'accident', 'source_created_at': '2024-10-04T08:07:36+09:00', 'press_id': 1, 'press_name': '중앙일보'}\n"
     ]
    },
    {
     "name": "stderr",
     "output_type": "stream",
     "text": [
      "INFO:root:page_category: 사회\n",
      "INFO:root:category: 사회_사건\n",
      "INFO:root:Article saved to ./joongang/accident/2024-10-04-3\\source-2024-10-04-3.json\n",
      "DEBUG:root:Scraping article: https://www.joongang.co.kr/article/25282123\n",
      "DEBUG:urllib3.connectionpool:Starting new HTTPS connection (1): www.joongang.co.kr:443\n",
      "DEBUG:urllib3.connectionpool:https://www.joongang.co.kr:443 \"GET /article/25282123 HTTP/11\" 200 None\n"
     ]
    },
    {
     "name": "stdout",
     "output_type": "stream",
     "text": [
      "{'title': '팔 스쳤다고…4세 아이 코피 나게 때리고, 할머니 깨문 20대女', 'source_url': 'https://www.joongang.co.kr/article/25282053', 'content': '버스에서 옆자리 승객에게 물린 60대 여성에게 생긴 상처. 사진 인터넷 캡처4세 아이의 팔이 무릎을 스쳤다는 이유로 아이와 보호자인 할머니를 폭행한 20대가 경찰에 붙잡혔다.부산 부산진경찰서는 상해 등 혐의로 20대 여성 A씨를 불구속 입건해 조사하고 있다고 4일 밝혔다.A씨는 지난 2일 오전 8시 20분께 부산진구 가야역 인근을 운행 중이던 시내버스 안에서 옆자리에 앉아 있던 B군(4)과 B군의 60대 할머니에게 상해를 가한 혐의를 받는다.당시 A씨는 B군의 팔이 자기 무릎에 스쳤다는 이유로 B군의 얼굴을 때렸다. B군을 안고 있던 할머니가 이를 제지하자, A씨는 할머니의 팔을 깨물었다.\\xa0할머니는 손자와 함께 버스를 타고 가족에게 가고 있었다.온라인 커뮤니티에는 이 사건 관련 글이 올라와 화제가 됐다. 사건 피해자들의 어머니이자 며느리라고 소개한 작성자 C씨에 따르면 사고는 버스에서 두 명이 앉는 좌석에서 일어났다. 할머니는 손주를 안고 앉았고 옆자리에는 A씨가 앉았다.C씨는 \"시어머니가 아이의 다리를 잘 감싼 채 다시 한번 들어 올리던 중 팔 부분이 여성에게 닿았다\"며\\xa0\"순간 방어할 시간도 없이 여성분이 아이의 얼굴을 주먹으로 가격했다\"고 당시 상황을 설명했다. 그는 \"한 번에 그치지 않고 손바닥으로 여러 차례 공격이 가해졌다\"며 \"아이의 양쪽 코에서 코피가 났다\"고 전했다. 이어 \"반사적으로 시어머니가 두 팔로 아이의 얼굴을 막았으나 여성은 막고 있던 팔을 한 손으로 잡아끌고 이로 물었다\"고 주장했다.\\xa0C씨는 \"버스는 멈췄고 감사하게도 주변 승객분들이 같이 막아주고 신고해 주셨다\"고 덧붙였다.경찰 관계자는 \"피해자가 어린이와 노인인 점을 고려해 수사 시 노인복지법, 아동 학대법 위반 혐의를 함께 적용할 것을 검토하고 있다\"고 밝혔다.이해준 기자 lee.hayjune@joongang.co.kr', 'category': 'accident', 'source_created_at': '2024-10-04T11:53:09+09:00', 'press_id': 1, 'press_name': '중앙일보'}\n"
     ]
    },
    {
     "name": "stderr",
     "output_type": "stream",
     "text": [
      "INFO:root:page_category: 사회\n",
      "INFO:root:category: 사회_사건\n",
      "INFO:root:Article saved to ./joongang/accident/2024-10-04-4\\source-2024-10-04-4.json\n"
     ]
    },
    {
     "name": "stdout",
     "output_type": "stream",
     "text": [
      "{'title': '서울 평창동서 주차 중이던 車, 주택으로 추락…\"마약·급발진 아냐\"', 'source_url': 'https://www.joongang.co.kr/article/25282123', 'content': '4일 오후 서울 종로구 평창동의 한 주택으로 추락한 차량이 처박혀 있다.  종로경찰서에 따르면 이날 오후 1시 50분쯤 서울 종로구 평창동 도각사 주차장에서 주차하던 한 차량이 운전 미숙으로 주차장 난간을 들이받고 2m 아래에 있던 한 주택으로 추락했다. 뉴스1주차 중이던 차량이 운전자의 운전 미숙으로 인해 길 아래 주택으로 추락한 사고가 발생했다.4일 서울 종로경찰서에 따르면 이날 오후 1시 50분경 서울 종로구 평창동 도각사 주차장에서 주차하던 한 차량이 주차장 난간을 들이받고 2m 아래에 있던 한 주택으로 추락했다.차량에 타고 있던 운전자와 동승자 1명은 생명에 지장이 없는 상태다. 또한 당시 주택 내부에는 사람이 없어 추가 사상자는 발생하지 않았다.경찰 관계자는 \"운전 미숙으로 발생한 사고\"라며 \"음주, 마약 투약, 무면허, 급발진 주장은 아니다\"라고 말했다.하수영 기자 ha.suyoung@joongang.co.kr', 'category': 'accident', 'source_created_at': '2024-10-04T18:33:26+09:00', 'press_id': 1, 'press_name': '중앙일보'}\n"
     ]
    },
    {
     "name": "stderr",
     "output_type": "stream",
     "text": [
      "INFO:root:category (base_url): 경제_과학 (https://www.joongang.co.kr/money/science)\n",
      "DEBUG:urllib3.connectionpool:Starting new HTTPS connection (1): www.joongang.co.kr:443\n",
      "DEBUG:urllib3.connectionpool:https://www.joongang.co.kr:443 \"GET /money/science HTTP/11\" 200 None\n",
      "DEBUG:root:Scraping article: https://www.joongang.co.kr/article/25281793\n",
      "DEBUG:urllib3.connectionpool:Starting new HTTPS connection (1): www.joongang.co.kr:443\n",
      "DEBUG:urllib3.connectionpool:https://www.joongang.co.kr:443 \"GET /article/25281793 HTTP/11\" 200 None\n",
      "INFO:root:page_category: 팩플\n",
      "INFO:root:category: 경제_과학\n",
      "INFO:root:https://www.joongang.co.kr/article/25281793 는 해당 카테고리가 아니어서 생략합니다. \n",
      "DEBUG:root:Scraping article: https://www.joongang.co.kr/article/25281806\n",
      "DEBUG:urllib3.connectionpool:Starting new HTTPS connection (1): www.joongang.co.kr:443\n",
      "DEBUG:urllib3.connectionpool:https://www.joongang.co.kr:443 \"GET /article/25281806 HTTP/11\" 200 None\n",
      "INFO:root:page_category: 경제\n",
      "INFO:root:category: 경제_과학\n",
      "INFO:root:Article saved to ./joongang/science/2024-10-03-1\\source-2024-10-03-1.json\n",
      "DEBUG:root:Scraping article: https://www.joongang.co.kr/article/25281845\n",
      "DEBUG:urllib3.connectionpool:Starting new HTTPS connection (1): www.joongang.co.kr:443\n",
      "DEBUG:urllib3.connectionpool:https://www.joongang.co.kr:443 \"GET /article/25281845 HTTP/11\" 200 None\n"
     ]
    },
    {
     "name": "stdout",
     "output_type": "stream",
     "text": [
      "{'title': \"컴플렉시온, 중동 최대 IT 전시회 'GITEX Global 2024' 전시기업 선정\", 'source_url': 'https://www.joongang.co.kr/article/25281806', 'content': '디지털 헬스케어 스타트업 (주)컴플렉시온(COMPLEXION Co., Ltd)이 중동 최대 IT 및 기술 전시회인 GITEX Global 2024의 전시 기업으로 선정되었다. 매년 두바이에서 열리는 이 전시회는 글로벌 기업들이 혁신 기술을 선보이며 중동 시장으로 진출할 수 있는 기회를 제공하는 중요한 행사로 알려져 있다. 이번 전시회에서 컴플렉시온은 NIPA(정보통신산업진흥원)의 메타버스 한국 공동관의 8개 기업 중 1개 전시 기업으로 참가하게 되었으며, 중동 시장 진출의 교두보를 마련하게 되었다.‘평생 두 발 걷기’를 위한 맞춤형 움직임 콘텐츠를 제공하는 인공지능 헬스케어 기업인 컴플렉시온은 10개의 특허를 보유한 스타트업으로, 글로벌 기업 엔비디아와의 협업프로그램에 선정되어 최우수 수행을 완료한 바 있다. 현재는 고려대학교 컴퓨터학과, 인공지능학과와 공동연구(국가연구개발과제)를 6회 이상 진행하며 기술력을 고도화하고 있으며 이러한 기술력을 바탕으로 교육부의 미래형 인공지능 체육 APP을 개발해 운영 중이다.컴플렉시온은 개별 신체 데이터를 바탕으로 맞춤형 운동 콘텐츠를 제공하면서, 보유한 특허 기술을 바탕으로 하여, 스마트폰만을 이용한 인공지능 운동 콘텐츠를 개별 사용자와 센터, 학교, 가정 등에서 활용할 수 있는 맞춤형 헬스케어 솔루션으로 제공한다.이번 GITEX Global 2024에서는 무슬림 여성들이 겪는 문화적, 종교적 특수성을 고려한 헬스케어 솔루션에 중점을 두고 있다. 이슬람 율법에 의해 신체를 노출할 수 없고 혼성 운동이 금지된 무슬림 여성들은 운동할 수 있는 기회가 제한되어, 비만이나 당뇨병 같은 질병에 쉽게 노출되는 문제를 겪고 있다. 컴플렉시온은 ‘XR 히잡’, ‘메타버스 운동장’, 언택트 검진 및 피드백 등의 솔루션을 선보임으로써 무슬림 여성들이 안전하고 편리하게 체육 활동을 할 수 있는 솔루션을 제안한다.컴플렉시온은 올해 초 일본 최대 스타트업 전시회인 Startup JAPAN EXPO 2024에서도 성공적으로 일본 내 B2B 바이어 및 파트너를 발굴한 경험이 있으며, 이러한 성과를 바탕으로 중동 시장 진출을 자신 있게 추진하고 있다. UAE 현지의 체육 교육 전문가와 협력해 현지화된 애플리케이션을 개발 중이며, 과학기술정보통신부의 ‘S/W 고성장 클럽’ 사업에 예비 고성장기업으로 선정되어 중동 진출을 위한 연구개발 자금도 지원받고 있다.이번 GITEX Global 2024에서 컴플렉시온이 선보이는 혁신적인 AI와 메타버스 기술은 종교적, 문화적 제약을 극복하여 글로벌 시장으로의 확장을 가능케 하며, 디지털 헬스케어 스타트업의 새로운 도약을 예고하고 있다.김나혜 인턴기자 kim.nahye@joongang.co.kr', 'category': 'science', 'source_created_at': '2024-10-03T10:10:00+09:00', 'press_id': 1, 'press_name': '중앙일보'}\n"
     ]
    },
    {
     "name": "stderr",
     "output_type": "stream",
     "text": [
      "INFO:root:page_category: Leader & Reader\n",
      "INFO:root:category: 경제_과학\n",
      "INFO:root:https://www.joongang.co.kr/article/25281845 는 해당 카테고리가 아니어서 생략합니다. \n",
      "DEBUG:root:Scraping article: https://www.joongang.co.kr/article/25281872\n",
      "DEBUG:urllib3.connectionpool:Starting new HTTPS connection (1): www.joongang.co.kr:443\n",
      "DEBUG:urllib3.connectionpool:https://www.joongang.co.kr:443 \"GET /article/25281872 HTTP/11\" 200 None\n",
      "INFO:root:page_category: 팩플\n",
      "INFO:root:category: 경제_과학\n",
      "INFO:root:https://www.joongang.co.kr/article/25281872 는 해당 카테고리가 아니어서 생략합니다. \n",
      "DEBUG:root:Scraping article: https://www.joongang.co.kr/article/25281886\n",
      "DEBUG:urllib3.connectionpool:Starting new HTTPS connection (1): www.joongang.co.kr:443\n",
      "DEBUG:urllib3.connectionpool:https://www.joongang.co.kr:443 \"GET /article/25281886 HTTP/11\" 200 None\n",
      "INFO:root:page_category: 경제\n",
      "INFO:root:category: 경제_과학\n",
      "INFO:root:Article saved to ./joongang/science/2024-10-03-2\\source-2024-10-03-2.json\n",
      "DEBUG:root:Scraping article: https://www.joongang.co.kr/article/25281914\n",
      "DEBUG:urllib3.connectionpool:Starting new HTTPS connection (1): www.joongang.co.kr:443\n",
      "DEBUG:urllib3.connectionpool:https://www.joongang.co.kr:443 \"GET /article/25281914 HTTP/11\" 200 None\n"
     ]
    },
    {
     "name": "stdout",
     "output_type": "stream",
     "text": [
      "{'title': '\"갤럭시 폰 갑자기 왜 이래\" 불만 폭주…삼성전자 \"긴급 해결 중\"', 'source_url': 'https://www.joongang.co.kr/article/25281886', 'content': '2019년 출시된 갤럭시S10 5G의 실물 이미지. 사진 삼성전자삼성전자의 갤럭시 스마트폰 일부 구형 기종에서 단말기가 계속 꺼졌다 켜지는 ‘무한 재부팅’ 현상이 잇따르고 있다. 이에 삼성전자는 업데이트를 중단하고 긴급 해결 작업에 나섰다.3일 IT 업계 등에 따르면 삼성전자의 스마트싱스 앱을 업데이트한 갤럭시 구형 모델 이용자들이 무한 재부팅으로 인한 피해를 겪고 있다.삼성전자 홈페이지에 한 이용자가 공유한 갤럭시 오류 현상에 대한 삼성전자 측 안내문. 사진 삼성전자 홈페이지 캡처피해 이용자들이 올린 사례를 종합해 보면 전용 운영체제(OS)인 원UI 4.1 이하 버전이 적용된 갤럭시 S10 시리즈 전후의 모델에서 이런 현상이 생긴 것으로 보인다. 스마트싱스 앱 업데이트가 이뤄진 후 화면 멈춤 현상이 나타나고 재부팅 후에도 같은 현상이 되풀이 되는 식이다.이 기기를 사용 중인 이용자들은 가전제품이 연동된 스마트싱스 앱에서도 등록 단말 기기가 모두 사라지는 등의 불편을 겪기도 했다.수리를 위해 서비스센터를 찾은 일부 이용자들은 스마트폰 초기화 등 조치를 받았다. 다만 이 과정에서 일부 이용자들이 “내부의 사진·영상 등 데이터를 모두 잃어버렸다”며 불편을 호소하기도 했다.삼성전자는 이날 오후 공지를 내고 “갤럭시 S10 시리즈 등 과거 OS(안드로이드 12)가 탑재된 일부 스마트폰에서 스마트싱스 앱 최신 버전을 업데이트하는 도중 부팅이 반복되는 오류가 발생했다”며 “불편을 겪으신 고객 여러분들께 깊은 사과의 말씀을 드린다”고 밝혔다.이어 “해당 스마트싱스 앱의 문제를 인지한 즉시 업데이트를 중단했으며 현재 해결을 위한 작업을 긴급 진행 중”이라며 “불편을 겪으신 고객들께서는 가까운 삼성전자서비스센터를 방문하시면 문제 해결을 지원받으실 수 있다”고 안내했다.하수영 기자 ha.suyoung@joongang.co.kr', 'category': 'science', 'source_created_at': '2024-10-03T21:20:14+09:00', 'press_id': 1, 'press_name': '중앙일보'}\n"
     ]
    },
    {
     "name": "stderr",
     "output_type": "stream",
     "text": [
      "INFO:root:page_category: 경제\n",
      "INFO:root:category: 경제_과학\n",
      "INFO:root:Article saved to ./joongang/science/2024-10-04-3\\source-2024-10-04-3.json\n",
      "DEBUG:root:Scraping article: https://www.joongang.co.kr/article/25282009\n",
      "DEBUG:urllib3.connectionpool:Starting new HTTPS connection (1): www.joongang.co.kr:443\n",
      "DEBUG:urllib3.connectionpool:https://www.joongang.co.kr:443 \"GET /article/25282009 HTTP/11\" 200 None\n"
     ]
    },
    {
     "name": "stdout",
     "output_type": "stream",
     "text": [
      "{'title': '오픈AI “8.7조 확보”…내부 반발 뚫고 영리기업 전환 속도', 'source_url': 'https://www.joongang.co.kr/article/25281914', 'content': '거액 실탄 쥔 챗GPT 개발사오픈AI를 떠난 핵심 멤버들. 왼쪽부터 수츠케버, 무라티, 맥그루.챗GPT 개발사인 오픈AI가 66억 달러(약 8조7000억원) 규모 투자를 유치했다. 인공지능(AI) 기술 경쟁에 또 다른 동력을 얻는 동시에, 현재 비영리 기업 형태에서 영리기업으로 전환도 빨라지게 됐다. 다만, 최근 고위임원을 포함한 핵심 인력의 잇따른 퇴사에 뒤숭숭한 내부 분위기를 수습해야 한다.오픈AI는 2일(현지시간) 홈페이지를 통해 66억 달러 투자 유치를 마무리했다고 밝혔다. 기업가치는 1570억 달러(약 208조원)다. 9개월 전 800억 달러보다 크게 늘었다. 뉴욕타임스(NYT)와 월스트리트저널(WSJ) 등에 따르면 이번 투자는 미국의 벤처캐피털(VC) ‘쓰라이브 캐피털(Thrive Capital)’이 주도했고, 마이크로소프트(MS), 엔비디아, 소프트뱅크 등이 투자자로 참여했다. 투자자로 거론됐던 애플은 참여하지 않았다. WSJ은 “역대 비상장 기업이 유치한 최대 규모 투자”라고 전했다.이번 투자 유치로 오픈AI는 영리기업 전환에 속도를 내게 됐다. 투자계약서에 오픈AI가 2년 이내에 영리기업으로 전환하지 않으면 투자자가 투자금을 강제 회수할 수 있다는 조항이 삽입됐기 때문이다. “모든 인류가 AI의 혜택을 누리도록 하자”는 목표를 내걸고 2015년 비영리 기업으로 설립된 오픈AI는 ‘오픈AI LP’라는 영리기업을 자회사로 세운 뒤 ‘이익제한기업’ 방식으로 운영됐다. 이익에 상한선을 두고, 이를 초과하면 비영리 기업인 모회사(오픈AI)에 기부하는 형태였다. 투자자의 수익도 원금의 100배로 제한됐다.하지만 최근 들어 오픈AI는 영리기업 전환 움직임을 적극적으로 보여왔다. 이익제한기업으로 운영을 지속하면 투자자의 수익이 제한돼 대규모 투자 유치가 어려워지고, 향후 수익성을 높이는 데에도 걸림돌이 될 거라는 우려가 커지면서다. 최근 생성AI 경쟁은 반도체 구매비용과 시설 투자, 뛰어난 인재 유치를 위해 대규모 자금이 필요한 ‘자본 전쟁’으로 변모한 상황이다. 오픈AI는 빅테크 중에서 AI 기술력에서 가장 앞선다고 평가받지만, 수익성에는 의문이 따라붙는다. 실제로 NYT에 따르면 오픈AI의 올해 예상 매출(37억 달러)보다 사업비용(50억 달러)이 클 것으로 전망된다.최근까진 오픈AI가 영리기업이 되면 AI 기술 부작용 등을 방치할 것이란 이유로 회사 안팎의 반대 의견이 존재했다. 지난해 11월 샘 올트먼 오픈AI 최고경영자(CEO)가 이사회에서 ‘기습 해고’된 후 닷새 만에 복귀한 사태도 공동창업자인 일리아 수츠케버 수석과학자 등 일부 이사회 구성원이 오픈AI의 과도한 수익화를 우려해 발생한 사태였다. 그런 오픈AI가 대놓고 영리기업 전환에 나서게 된 건 경쟁사의 기술 추격 속도가 빨라지고 있어서다. 실제로 오픈AI는 이번 투자에 참여한 기업에 앤스로픽, xAI 등 경쟁사에 투자를 지양해달라는 당부를 전했다고 파이낸셜타임스(FT) 등이 전했다. 앤스로픽은 오픈AI 공동창업자인 존 슐먼 AI 모델 학습책임자가 지난 8월 퇴사 후 합류한 AI 스타트업이고, xAI는 일론 머스크 테슬라 CEO가 설립한 AI 기업이다.대규모 투자를 바탕으로 오픈AI는 향후 차세대 AI 모델 개발과 서비스에 속도를 낼 전망이다. 이들은 지난 5월 사람처럼 보고 듣고, 음성 대화까지 가능한 AI 모델 ‘GPT-4o(포오)’를 공개했다. 이어 지난달 높은 차원의 추론을 하는 차세대 AI 모델 ‘오픈AI o1(오원)’을 출시했다.윤상언 기자  youn.sangun@joongang.co.kr', 'category': 'science', 'source_created_at': '2024-10-04T00:02:01+09:00', 'press_id': 1, 'press_name': '중앙일보'}\n"
     ]
    },
    {
     "name": "stderr",
     "output_type": "stream",
     "text": [
      "INFO:root:page_category: 경제\n",
      "INFO:root:category: 경제_과학\n",
      "INFO:root:Article saved to ./joongang/science/2024-10-04-4\\source-2024-10-04-4.json\n"
     ]
    },
    {
     "name": "stdout",
     "output_type": "stream",
     "text": [
      "{'title': '\"500번 탄 승객도 있다\"…中자율주행차, 연내 한국 투입 추진 [넥스트 빅씽, 자율주행]', 'source_url': 'https://www.joongang.co.kr/article/25282009', 'content': '‘자율주행 굴기’를 내세운 중국은 선두주자 미국의 위치를 위협할 정도로 최근 몇년 사이 괄목할만한 기술적, 비즈니스적 성취를 얻었다. 베이징 등 주요도시에선 이미 운전자 없는 자율주행택시 수천대가 일반 도로를 달리고 있다. 중국 자율주행 기술의 현재와 가능성을 파악하기 위해 자율주행 스타트업 3곳(포니.ai·위라이드·하오모AI)을 지난 6월 직접 찾아가 만났다.\\xa0포니.ai의 닝장 부사장, 하오모AI의 차이나 부사장, 위라이드의 메이브 장 마케팅 총괄이 인터뷰에 응했다.중국 자율주행, 어느 수준까지 왔나.닝장 포니.ai 부사장(이하 닝장)=이미 500회 가까이 우리 자율주행택시에 탑승한 승객이 있다. 신기한 ‘체험’이 아니라 일상적으로 선택할 있는 진짜 ‘이동 수단’으로 인정받았다는 의미다. 한 직장인 승객은 총 50회 이용했는데, 점심식사 후 남는 시간 동안 주행 중인 차에서 낮잠을 자고 있었다. 편안함까지 주고 있다는 뜻이다.차준홍 기자자율주행에서 미국 경쟁자는 중국뿐이란 평가가 나온다. 비결은.닝장=우선 전기차로 전환이 빨랐고, 스마트카 전환까지 시장 경쟁이 이어졌다. 두 번째, 중국이 인공지능(AI) 경쟁에서 미국과 함께 글로벌 톱2 위치에 있다는 점이다. 우수한 기반을 갖췄고 필요한 인재와 인프라가 잘 공급된다. 다른 요소는 큰 시장이며, 정부 지원도 중요하다. 자율주행 정책 및 관리·감독 측면에서 줄곧 개방적이며, 동시에 세밀하다.차이나 하오모AI 부사장(이하 차이나)=국가가 정책적으로 확실히 지원해 주는 게 크다. 이런 기반 위에서 법과 규제가 빠르게 완벽해지고 있다. 또 새로운 기술에 비용을 지불하는 데 거리낌 없는 사람이 아주 많다.김영옥 기자가장 큰 경쟁 상대는.닝장=완전 자율주행의 경우 미국은 구글 웨이모가, 중국에선 포니.ai와 바이두가 대표적인 기업이다. 주행보조기술에선 중국의 여러 완성차 업체와 화웨이 등 IT 기업이 뛰어나며 비슷한 수준인 곳은 미국 테슬라밖에 없다. 테슬라는 여전히 상징적인 회사지만 완전 자율주행기술로 의미 있는 성과를 내려면 3~5년 정도는 걸릴 것이다. 주행보조기술인 레벨2와 레벨4 완전자율주행은 아예 다른 영역이다. 레벨4 수준에서 웨이모나 포니.ai 같은 기업이 각축을 벌이며 빠른 변화를 이끌고 있고, 대규모 도입도 2~3년 내 완성될 수 있다. 테슬라가 격차를 곧바로 따라잡는 건 무리라고 본다.닝장 포니.ai 부사장이 지난 6월 19일 중국 베이징 이좡경제기술개발구에있는 포니.ai 연구개발센터 사무실에서 중앙일보와 인터뷰하는 모습. 포니.ai는 베이징·상하이·광저우·선전과 미국 실리콘밸리 등 5개 도시에 연구개발센터를 두고 있다. 이도성 기자자율주행차가 대중화되는 시기는 언제일까.닝장=2~3년 후엔 중국 큰 도시의 전체 구역에 대규모 투입돼 상업화를 이룰 것이며, 2028년쯤 중국 전역이 자율주행 지역이 될 수 있다. 전 세계에 모두 도입되기까진 5~10년 정도 걸릴 것 같다.걸림돌은?메이브 장 위라이드 마케팅 총괄(이하 메이브 장)=시장 전망보다 기술 보편화가 느린 이유는 허가 때문이다. 이미 운전자가 필요 없는 단계까지 왔지만, 운전자가 있을 때를 기준으로 만들어진 허가를 받아야 한다. 각각의 정부가 정해 놓은 규정, 지자체가 요구하는 기준이 다른 상황이다. 기술에 대한 사람들의 신뢰 역시 완전하지 않다.차이나 하오모AI 부사장. 중국 빅테크 바이두 출신은 그는 중국에서 가장 일찍 자율주행 사업에 뛰어든 사람 중 한 명이며, 바이두 근무 시절 벤츠와 BMW, 현대자동차 등과의 협업을 담당하기도 했다. 사진 하오모AI차이나=가격을 낮춰야 심리적 문턱을 넘을 수 있다. 과거 기술을 대체하면서 가격도 사람들이 수용할 수 있는 심리적 예상치에 도달하면 발전이 이뤄졌다.향후 전망과 목표는.메이브 장 위라이드 마케팅 총괄. 위라이드는 시장조사업체 가이드하우스인사이트가 지난해 선정한 자율주행 업체 기술 순위에서 전 세계 8위를 차지했다. 사진 위라이드닝장=우리 목표는 인류를 반복 노동에서 해방시켜 더 많은 창의력을 만들어내는 것이다. 사람과 사람 사이에 발생하는 온기, 감정이 있는 그런 일들이 인류가 종사해야 하는 미래 산업이다. 또 한국 시장 진출을 위해 ‘젬백스링크’(해외 명품 수입 및 모바일·웹 서비스 구축 회사)와 합작해 ‘포니링크’를 설립했다. 올해 서울에서 10대의 자율주행차를 투입할 수 있길 바란다. 로보택시 서비스도 한국에 선보이고 싶다.※본 기획물은 정부광고 수수료로 조성된 언론진흥기금의 지원을 받았습니다.🪪 도전! 팩플 자율주행 면허시험우리 현실로 다가온 자율주행 기술, 더 궁금하신가요.‘도전! 팩플 자율주행 면허시험’에서 한번에 퀴즈로 정리하세요.https://www.joongang.co.kr/digitalspecial/486🚗 넥스트 빅 씽, 자율주행팩플이 자율주행 기술 최전선에서 서비스를 실제 만들어 가고 있는 글로벌 현장을 직접 다녀왔습니다. 더 자세한 기사 내용이 궁금하시다면, 기사 링크를 복사해 주소창에 붙여넣어주세요.① 실리콘밸리 자율주행 다 타봤다… 15t 트럭기사 손 놓고 웃었다https://www.joongang.co.kr/article/25271544② 놀랐다, 비보호 좌회전 척척… 소름 돋는 中 자율주행 스킬https://www.joongang.co.kr/article/25272100③ ‘자동차 강국’ 독일·일본의 황혼…고령화가 자율주행차 민다https://www.joongang.co.kr/article/25272406④ “테슬라? 우린 급이 달라” 중국 자율주행 빅3의 도발https://www.joongang.co.kr/article/25273152⑤ 사람이 왜 장거리 운전 뛰나? ‘24시 운전수’ 만든 코디악·베이https://www.joongang.co.kr/article/25273690⑥ 한국에는 레벨4 기술 없다? “그게 더 쉽다”는 K스타트업https://www.joongang.co.kr/article/25274038베이징=윤정민 기자 yunjm@joongang.co.kr,  광저우ㆍ선전 김철웅 기자 kim.chulwoong@joongang.co.kr', 'category': 'science', 'source_created_at': '2024-10-04T06:00:00+09:00', 'press_id': 1, 'press_name': '중앙일보'}\n"
     ]
    },
    {
     "name": "stderr",
     "output_type": "stream",
     "text": [
      "INFO:root:category (base_url): 사회 (https://www.joongang.co.kr/society)\n",
      "DEBUG:urllib3.connectionpool:Starting new HTTPS connection (1): www.joongang.co.kr:443\n",
      "DEBUG:urllib3.connectionpool:https://www.joongang.co.kr:443 \"GET /society HTTP/11\" 200 None\n",
      "DEBUG:root:Scraping article: https://www.joongang.co.kr/article/25282821\n",
      "DEBUG:urllib3.connectionpool:Starting new HTTPS connection (1): www.joongang.co.kr:443\n",
      "DEBUG:urllib3.connectionpool:https://www.joongang.co.kr:443 \"GET /article/25282821 HTTP/11\" 200 None\n",
      "INFO:root:page_category: 사회\n",
      "INFO:root:category: 사회\n",
      "INFO:root:Article saved to ./joongang/society/2024-10-08-1\\source-2024-10-08-1.json\n",
      "DEBUG:root:Scraping article: https://www.joongang.co.kr/article/25282825\n",
      "DEBUG:urllib3.connectionpool:Starting new HTTPS connection (1): www.joongang.co.kr:443\n",
      "DEBUG:urllib3.connectionpool:https://www.joongang.co.kr:443 \"GET /article/25282825 HTTP/11\" 200 None\n"
     ]
    },
    {
     "name": "stdout",
     "output_type": "stream",
     "text": [
      "{'title': '이재명 ‘대북송금’ 재판부 교체 기각…\"재판 독립 저해 우려\"', 'source_url': 'https://www.joongang.co.kr/article/25282821', 'content': '이재명 더불어민주당 대표가 지난달 27일 국회에서 열린 최고위원회의에서 굳은 표정을 하고 있다. 연합뉴스이재명 더불어민주당 대표의 대북송금 사건 재판부 재배당 요청을 법원이 받아들이지 않기로 했다. 이 대표 측 변호인들은 이화영 전 경기도 평화부지사의 1심 유죄 판결을 한 재판부가 확증 편향과 인지적 오류에 빠질 우려가 있다는 변론에 대한 법원의 입장이다.수원지법 형사11부(부장 신진우)는 8일 오전 10시 이 대표의 특정범죄가중처벌법상 뇌물 등 혐의 2차 공판준비기일을 열고 이 대표 측 변호인이 지난달 30일 제출한 재배당 요청을 받아들이기 어렵다고 밝혔다.재판부는\\xa0“현재 공판 진행 경과 상 재배당을 받아들이지 못하는 상황은 아니지만, 불공정한 재판할 우려가 있다며 변호인이 제출한 재배당 요청은 법률 상 근거가 없다”며\\xa0“반대로 당사자, 쟁점이 동일하거나 피고인이 같을 때 한쪽 재판부에 배당한다는 대법원 예규가 있다”고 설명했다.이어\\xa0“재판부 입장에선 명확한 실무례나 법률 문헌이 없는 상황에서 재배당 요청을 받아들이면 자칫 또 다른 헌법 상 재판 독립이라는 가치가 저해될 위험이 있다”며\\xa0“종전 판단(이 전 부지사 1심 유죄)에 매이는 상황 없이 헌법과 형사소송법이 정한 바에 따라 실체적 진실 발견을 위한 심리를 할 것”이라고 말했다.이 대표 측 변호인들은 이 전 부지사의 특가법상 뇌물, 외국환거래법 위반 등 혐의 1심에서 징역 9년 6개월을 선고한 재판부가 이 대표 형사 재판을 해선 안 된다는 입장을 고수했다. 이 대표 측 변호인인 김종보 변호사는\\xa0“우리 사회가 정치적, 극단적으로 갈라져 있고 이 대표의 경우 열혈 지지파와 반대파가 나뉘어 음모론이 난무하는 상황”이라며\\xa0“혹여 사법부 신뢰를 저해할까 염려되고 재판부 신상을 공격하는 상황이 분명히 나올 것이라 살펴달라”고 했다.재배당 요청 의견서를 낸 이 대표 측 이장형 변호사도\\xa0“현 재판부는 이 전 부지사의 외국환거래법 위반 1심을 판결해 본의 아니게 수사기록을 사전 검토하고 이재명 피고인을 대면하게 된다”며 “확증 편향과 인지적 오류에 빠질 수 있기 때문에 사전 지식 없는 다른 재판부에 의해 백지 상태에서 심리해야 공정한 재판으로 보일 수 있다”고 주장했다.이에 대해 검찰은 통상적인 공범 사건에서 보기 어려운 특혜 요구라고 맞받았다. 검찰은\\xa0“형사소송법 상 기피 사유는 불공정한 재판을 할 사정이 있어야 하는데, 이 사건은 그러한 사유가 없고 기피 목적으로 재배당을 요청해 재판을 지연하고자 하는 것으로 이해된다”고 입장을 밝혔다.이 대표 측 변호인의 재배당 요청은 국정감사 이슈로도 부각됐다. 지난 7일 국회 법제사법위원회의 대법원 국정감사에서 천대엽 법원행정처장은\\xa0“법관 등의 사무분담 및 사건배당에 관한 예규상 이 대표가 재배당을 요청한 사유에 해당하는것이 없다고 보인다”고 답했다.국정감사 첫 날인 지난 7일 오전 국회 법제사법위원회에서 천대엽 법원행정처장이 업무보고를 하고 있다. 강정현 기자법사위 국민의힘 간사 유상범 의원의\\xa0“‘이화영에게 유죄 선고를 내린 신진우 부장판사가 이재명 유죄 심증을 갖고 심리한다면 공정한 재판을 기대할 수 없다’는 게 민주당의 주장인데, 지금까지 그 밖의 부득이한 사유에 이런 주장을 가지고 인정한 전례가 있느냐”는 질문에 대한 답변이었다.이에 대해 법사위 박지원(민주당) 의원은\\xa0“2014년 8월부터 올해 8월까지 10년간 재판부 기피 신청은 7505건인데, 인용한 것은 5건(0.06%)밖에 안 된다”며\\xa0“정당한 피고인 권리로 재판부 기피 신청을 했다고 하면 보장해줘야 한다”고 말했다.손성배 기자 son.sungbae@joongang.co.kr', 'category': 'society', 'source_created_at': '2024-10-08T12:45:13+09:00', 'press_id': 1, 'press_name': '중앙일보'}\n"
     ]
    },
    {
     "name": "stderr",
     "output_type": "stream",
     "text": [
      "INFO:root:page_category: 사회\n",
      "INFO:root:category: 사회\n",
      "INFO:root:Article saved to ./joongang/society/2024-10-08-2\\source-2024-10-08-2.json\n",
      "DEBUG:root:Scraping article: https://www.joongang.co.kr/article/25282829\n",
      "DEBUG:urllib3.connectionpool:Starting new HTTPS connection (1): www.joongang.co.kr:443\n",
      "DEBUG:urllib3.connectionpool:https://www.joongang.co.kr:443 \"GET /article/25282829 HTTP/11\" 200 None\n"
     ]
    },
    {
     "name": "stdout",
     "output_type": "stream",
     "text": [
      "{'title': '\"얼마나 지옥 같은지\"…성시경·박서준도 \\'왕따 피해\\' 고백', 'source_url': 'https://www.joongang.co.kr/article/25282825', 'content': '사진 유튜브 캡처가수 성시경과 배우 박서준이 학창 시절 왕따로 고통받았던 경험이 있다고 밝혔다.성시경은 지난 7일 자신의 유튜브 채널에 \\'처음 만난 서준이한테 반해버렸습니다\\'라는 제목의 영상을 올렸다.이 영상에서 성시경은 \"요즘 왕따 논란이 많지 않으냐\"며 \"처음 얘기하는데 1학년 때부터 4학년 때까지 진짜 지옥이었다\"고 말했다.그는 \"\\'끝나고 남아라\\'고 하는데 난 누굴 때리는 성격도 아니고 싸움도 싫었다\"며 \"지금 생각하면 누구를 때린 것보다 나은 것 같다\"고 했다.그러면서 \"(학교폭력이) 얼마나 지옥 같은지 정확히 기억하고 있다\"며 \"애들이 참 순수한데 순수한 만큼 너무 못됐다\"고 덧붙였다.박서준도 따돌림 피해를 털어놨다. \\xa0성시경은 박서준에게 \"너는 허우대도 멀쩡하고 키도 컸을 텐데 친구들 사이에서 왕따 같은 건 없지 않았냐\"고 묻자 박서준은 \"어렸을 때 왕따도 좀 당했다\"며 \"중학교 때도 자연스럽게 조용한 부류 중 한 명이었다\"고 말했다.또 \"어렸을 때는 진짜 소심하고 낯가림도 엄청 심했다. 쑥스러워서 식당에서 주문도 못 했다\"며 \"그런 성격이 너무 싫었던 건 중학교 3학년 때였다. 어디 가서 말도 못하고 저 자신이 너무 바보 같았다\"고 했다.박서준은 \"결국에는 자존감과 자신감의 문제인 것 같다\"며 \"그때는 당연히 내가 \\'난 별거 아니니까\\'라며 자신감도 많이 떨어진 아이였는데, 연기를 시작하면서 자신감도 생기고 얘기도 조금 할 수 있게 됐다\"고 말했다.김은빈 기자 kim.eunbin@joongang.co.kr', 'category': 'society', 'source_created_at': '2024-10-08T13:25:05+09:00', 'press_id': 1, 'press_name': '중앙일보'}\n"
     ]
    },
    {
     "name": "stderr",
     "output_type": "stream",
     "text": [
      "INFO:root:page_category: 사회\n",
      "INFO:root:category: 사회\n",
      "INFO:root:Article saved to ./joongang/society/2024-10-08-3\\source-2024-10-08-3.json\n",
      "DEBUG:root:Scraping article: https://www.joongang.co.kr/article/25282832\n",
      "DEBUG:urllib3.connectionpool:Starting new HTTPS connection (1): www.joongang.co.kr:443\n",
      "DEBUG:urllib3.connectionpool:https://www.joongang.co.kr:443 \"GET /article/25282832 HTTP/11\" 200 None\n"
     ]
    },
    {
     "name": "stdout",
     "output_type": "stream",
     "text": [
      "{'title': '\"여자도 군대가면 전우애로 출산율 오를 것\" 논란 부른 발언', 'source_url': 'https://www.joongang.co.kr/article/25282829', 'content': \"김형철 한국군사문제연구원장이 유튜브에 출연했다. 사진 유튜브 '팬앤드마이크TV' 캡처국방부 산하 한국군사문제연구원(KIMA)의 김형철 원장이\\xa0‘여성이 군대에 가면 전우애가 생겨 혼인율과 출산율이 올라갈 것’이라는 취지의 발언으로 구설에 올랐다.8일 한국군사문제연구원 등에 따르면 김형철 한국군사문제연구원장은 지난달 23일 유튜브 채널 ‘팬앤드마이크TV’에 나와\\xa0“군대에 상관없이 역발상을 해봤다”며 “여성이 군에 가야 하는 상황이 됐다”라고 가정했다. 이어 “생활관은 대학교 기숙사처럼 남녀가 같이 있을 것 아니냐. 자연스럽게 거기서 좋아하는 커플이 생길 것”이라고 말했다.이날 방송은 저출산에 따른 병역자원 급감을 문제로 짚었다. 올해 47만 명 선인 군 병력이 2038년쯤이면 40만 명대가 붕괴한다는 것이다. 문제가 된 발언은 여성 징병제가 필요한지를 따져보는 과정에서 나왔다. 일부 군 전문가는 인구 절벽에 따른 대안으로 여성 징병제를 제시한다.김 원장은 “일생을 같이할 수 있는 전우애가 생겨서 오히려 결혼도 많아지고 그다음에 아기도 많이 낳지 않을까. 그걸 잘 유도해야 한다”라며\\xa0“템플스테이에서도 만남이 이뤄지는데 (만남) 기회를 자꾸만 제공하는 측면에서도 좋고, 유사시엔 전투력으로 활용된다”라고 주장했다. 다만 그는 여성 징병제 도입과 관련해선 “사회적 합의가 이뤄져야 하고, 관련 연구가 선행돼야 한다”고 설명했다.김 원장의 이른바 ‘전우애 발언’이 알려진 뒤 야당에서는 “군대를 출산의 도구로 삼으려 하는 건 매우 부적절한 인사(박선원 더불어민주당 의원)”라는 비판이 나왔다.한국군사문제연구원은 국방부 산하 비영리 공익 재단법인이다. 국방·군사에 관련 제반 분야를 연구·분석해 국방 정책 등에 기여한다는 목적을 가지고\\xa01994년 설립됐다. 예비역 공군 중장 출신인 김 원장은 국방부 장관 임명으로 2022년 11월 12대 원장에 취임했다. 김 원장은 지난 7일 SBS에 “남녀 간 만남의 장이 필요하다는 취지에서 가볍게 한 말”이라며 “부적절했다면 사과하겠다”고 밝혔다.채혜선 기자 chae.hyeseon@joongang.co.kr\", 'category': 'society', 'source_created_at': '2024-10-08T13:34:01+09:00', 'press_id': 1, 'press_name': '중앙일보'}\n"
     ]
    },
    {
     "name": "stderr",
     "output_type": "stream",
     "text": [
      "INFO:root:page_category: 사회\n",
      "INFO:root:category: 사회\n",
      "INFO:root:Article saved to ./joongang/society/2024-10-08-4\\source-2024-10-08-4.json\n"
     ]
    },
    {
     "name": "stdout",
     "output_type": "stream",
     "text": [
      "{'title': '철도의 최신 트렌드는 ‘친환경’...수소와 전기 경합 중 [강갑생의 바퀴와 날개]', 'source_url': 'https://www.joongang.co.kr/article/25282832', 'content': \"독일 베를린에서 열린 '2024 이노트랜스'의 야외전시장. 사진 이노트랜스“이전까지 ‘속도’가 화두였다면 최근엔 ‘친환경’이 대세입니다. ”지난달 25일 독일 베를린의 메쎄 베를린 전시장에서 열린 ‘2024 이노트랜스(Inno Trans)’에서 만난 현대로템의 최열준 전장시스템개발센터 실장은 철도산업의 최신 흐름을 이렇게 설명했다.시속 300㎞대를 넘어 400~500㎞대를 다투던 시대가 지나고 이제는 저탄소(CO2), 연료 절감, 수소 및 전기열차 개발 같은 환경친화적 철도를 추구하는 게 세계 철도의 트렌드라는 얘기다.격년으로 이노트랜스가 열리는 독일 베를린의 메쎄 베를린 전시장. 사진 이노트랜스9월 24일부터 27일까지 나흘간 열린 이노트랜스는 이러한 변화를 여실히 보여줬다. 세계 최대 규모의 철도운송기술 무역박람회로 2년마다 베를린에서 열리는 이노트랜스에선 주요 철도 관련 기업들이 최근 상용화했거나 개발 중인 열차와 첨단 기술 등을 소개한다.올해는 규모가 더 커져서 프랑스, 스위스, 일본, 중국, 한국, 모로코 등 59개국에서 2940개 업체가 ▶철도 기술 ▶철도 인프라 ▶대중교통 ▶인테리어 ▶터널 건설 등 5개 부문에 참가해 최신 제품과 서비스를 선보였다.메쎄 베를린은 16만㎡에 달하는 대규모 실내 전시공간과 넓은 야외 전시장을 구비하고 있다. 주최 측에 따르면 관람객도 133개국에서 약 17만명이 다녀갔다. 이 중 상당수는 일반 관람객이 아닌 업계 관계자들이라고 한다.슈타들러의 한 량짜리 수소열차. 강갑생 기자이번 이노트랜스의 주요 주제는 지속가능성과 전기화였다. 디지털화와 인공지능(AI)도 비중 있는 주제였지만 역시나 친환경이 우선되는 모양새였다. 세계적인 열차제작사들 역시 이러한 흐름을 놓치지 않았다.스위스의 슈타들러는 시속 120㎞대의 한 량짜리 수소열차(RS ZERO HEMU)를 선보였다. 비교적 멀지 않은 도시 사이를 연결하면서 이산화탄소는 하나도 배출하지 않는 친환경 모델이었다. 슈타들러는 국내에선 생소하지만, 유럽 등지에서는 상당히 탄탄한 열차제작사로 알려져 있다.보슬로의 수소기관차. 강갑생 기자독일의 보슬로는 수소기관차를 내놓았다. 전차선이 가설돼있는 전철화 구간에서는 기관차 위에 설치된 팬터그래프를 통해 전기를 공급받으면서 달리고, 비 전철화 구간에서는 차량에 탑재된 수소배터리를 활용해 운행하는 하이브리드 구조다.주로 화물열차를 끄는 기관차에 전기공급을 위한 팬터그래프를 설치한 모습은 우리나라에선 찾아볼 수 없다. 국내에서는 비 전철화 구간은 디젤기관차가 다니는데 배기가스 배출이 문제로 지적되곤 한다.히타치의 친환경 고속열차. 강갑생 기자일본의 히타치도 유럽 시장을 겨냥한 친환경 고속열차를 선보였다. 재료의 97.1%가 재활용이 가능하고, 지구온난화 지수(GWP)를 50%나 낮출 수 있다는 점을 강조하고 있다.중국의 대형 열차 제작사인 중국중차(CRRC) 역시 수소열차를 전시했다. 이산화탄소를 전혀 배출하지 않고, 비 전철화 구간에서도 무리 없이 달릴 정도로 대용량 수소배터리를 탑재했다고 한다.중국 CRRC의 수소열차 CINOVA H2. 강갑생 기자우리나라의 KTX 1기 모델을 납품한 바 있는 프랑스의 알스톰도 저탄소와 재활용 관련 홍보에 열을 올렸다. 알스톰의 앙리 푸파르 라파르지 최고경영자는 주최 측이 배포한 보도자료를 통해 “기후 변화, 급속한 도시화, 변화하는 기술 환경 등이 우리가 직면한 도전과제”고 말했다.열차뿐 아니라 열차 제작에 들어가는 전장품을 만드는 ABB(스위스)와 미쓰비시(일본) 같은 기업들 역시 에너지 절약을 위해 크기와 무게를 줄이고, 연료 효율성을 높이는 데 주력하고 있다는 점을 주로 홍보했다.이노트랜스 전시장에 마련된 알스톰 부스. 강갑생 기자국내 기업들도 이런 흐름에 뒤지지 않았다. 현대로템은 최고속도가 시속 70㎞인 수소전기트램을 내놓았다. 2021년 7월에 개발을 시작해 올해 3월 완료한 차량으로 수소를 원료로 구동하며, 한 번에 300명가량 수송이 가능하다.현대로템의 정훈 핵심기술개발실장은 “이번에 개발한 수소전기트램은 경제성, 친환경성, 편리성 등을 두루 갖춘 친환경 모빌리티”라며 “기존의 일반적인 트램과 달리, 트램 내에 탑재된 수소연료전지가 생산한 전기에너지를 활용해 움직인다”고 소개했다.최근 대전시와 2028년 중반까지 34량을 납품키로 계약을 맺었으며, 대전도시철도 2호선에 투입될 계획이다. 또 울산의 도시철도 1호선에도 공급이 유력하다고 한다. 중소 열차제작사인 우진산전은 노후차량을 개조해 재활용하는 프로젝트에 주안점을 뒀다.현대로템이 전시한 수소전기트램. 강갑생 기자현대로템은 한발 더 나아가 수소생태계 구축에 매진하겠다는 비전도 밝혔다. 사실 친환경을 화두로 하는 세계 철도시장도 아직 수소와 전기 중 어느 쪽이 대세라고 말하기는 이르다는 평가다. 주요 제작사들이 두 분야 모두 발을 걸치고 있기 때문이다.이런 상황에서 현대로템은 모그룹인 현대차그룹의 기조에 맞춰 수소에 승부수를 걸기로 한 것이다. 앞서 현대차그룹은 지난 1월에 열린 CES 2024에서 ‘수소 에너지로의 대전환을 통한 수소 생태계 구축’에 대한 미래비전을 발표한 바 있다.이용배 현대로템 사장은 “이번 이노트랜스의 주제는 친환경 열차라 해도 과언이 아닐 정도로 글로벌 철도 업계들은 미래 에너지원인 수소의 잠재력에 주목하고 있다”며 “현대로템 역시 수소전기트램을 필두로 현대차그룹과의 지속적인 기술 협업을 통해 차세대 수소 모빌리티 시장에서 ‘퍼스트무버’로서 리더십을 확보할 수 있도록 노력할 것”이라고 말했다.이노트랜스 전시장의 현대로템 부스. 강갑생 기자하지만 수소에너지 분야는 공급과 충전망 확충이 쉽지 않은 장벽이다. 실제로 국내에선 수소자동차의 가장 큰 단점이 충전소 부족이라는 지적이 나온다. 충전소 하나를 짓고 유지하는 비용만 수십억원에 달할 정도로 부담이기 때문이다.이러한 현실적 어려움을 극복해내야만 수소에너지로의 대전환이 비로소 가능할 거란 관측이다. 그렇게 되면 우리 기술로 만든 수소열차가 국내를 넘어 미주와 유럽, 아시아 등으로 진출할 길도 열릴 수 있을 것 같다.강갑생 교통전문기자 kkskk@joongang.co.kr\", 'category': 'society', 'source_created_at': '2024-10-08T14:06:33+09:00', 'press_id': 1, 'press_name': '중앙일보'}\n"
     ]
    },
    {
     "name": "stderr",
     "output_type": "stream",
     "text": [
      "INFO:root:category (base_url): 스포츠 (https://www.joongang.co.kr/sports)\n",
      "DEBUG:urllib3.connectionpool:Starting new HTTPS connection (1): www.joongang.co.kr:443\n",
      "DEBUG:urllib3.connectionpool:https://www.joongang.co.kr:443 \"GET /sports HTTP/11\" 200 None\n",
      "DEBUG:root:Scraping article: https://www.joongang.co.kr/article/25282306\n",
      "DEBUG:urllib3.connectionpool:Starting new HTTPS connection (1): www.joongang.co.kr:443\n",
      "DEBUG:urllib3.connectionpool:https://www.joongang.co.kr:443 \"GET /article/25282306 HTTP/11\" 200 None\n",
      "INFO:root:page_category: 스포츠\n",
      "INFO:root:category: 스포츠\n",
      "INFO:root:https://www.joongang.co.kr/article/25282306 은 오늘 오전 8시 이전 기사이므로 생략합니다.\n",
      "DEBUG:root:Scraping article: https://www.joongang.co.kr/article/25282330\n",
      "DEBUG:urllib3.connectionpool:Starting new HTTPS connection (1): www.joongang.co.kr:443\n",
      "DEBUG:urllib3.connectionpool:https://www.joongang.co.kr:443 \"GET /article/25282330 HTTP/11\" 200 None\n",
      "INFO:root:page_category: 스포츠\n",
      "INFO:root:category: 스포츠\n",
      "INFO:root:https://www.joongang.co.kr/article/25282330 은 오늘 오전 8시 이전 기사이므로 생략합니다.\n",
      "DEBUG:root:Scraping article: https://www.joongang.co.kr/article/25282333\n",
      "DEBUG:urllib3.connectionpool:Starting new HTTPS connection (1): www.joongang.co.kr:443\n",
      "DEBUG:urllib3.connectionpool:https://www.joongang.co.kr:443 \"GET /article/25282333 HTTP/11\" 200 None\n",
      "INFO:root:page_category: 스포츠\n",
      "INFO:root:category: 스포츠\n",
      "INFO:root:https://www.joongang.co.kr/article/25282333 은 오늘 오전 8시 이전 기사이므로 생략합니다.\n",
      "DEBUG:root:Scraping article: https://www.joongang.co.kr/article/25282344\n",
      "DEBUG:urllib3.connectionpool:Starting new HTTPS connection (1): www.joongang.co.kr:443\n",
      "DEBUG:urllib3.connectionpool:https://www.joongang.co.kr:443 \"GET /article/25282344 HTTP/11\" 200 None\n",
      "INFO:root:page_category: 스포츠\n",
      "INFO:root:category: 스포츠\n",
      "INFO:root:https://www.joongang.co.kr/article/25282344 은 오늘 오전 8시 이전 기사이므로 생략합니다.\n",
      "DEBUG:root:Scraping article: https://www.joongang.co.kr/article/25282349\n",
      "DEBUG:urllib3.connectionpool:Starting new HTTPS connection (1): www.joongang.co.kr:443\n",
      "DEBUG:urllib3.connectionpool:https://www.joongang.co.kr:443 \"GET /article/25282349 HTTP/11\" 200 None\n",
      "INFO:root:page_category: 스포츠\n",
      "INFO:root:category: 스포츠\n",
      "INFO:root:https://www.joongang.co.kr/article/25282349 은 오늘 오전 8시 이전 기사이므로 생략합니다.\n",
      "DEBUG:root:Scraping article: https://www.joongang.co.kr/article/25282351\n",
      "DEBUG:urllib3.connectionpool:Starting new HTTPS connection (1): www.joongang.co.kr:443\n",
      "DEBUG:urllib3.connectionpool:https://www.joongang.co.kr:443 \"GET /article/25282351 HTTP/11\" 200 None\n",
      "INFO:root:page_category: 스포츠\n",
      "INFO:root:category: 스포츠\n",
      "INFO:root:https://www.joongang.co.kr/article/25282351 은 오늘 오전 8시 이전 기사이므로 생략합니다.\n",
      "DEBUG:root:Scraping article: https://www.joongang.co.kr/article/25282373\n",
      "DEBUG:urllib3.connectionpool:Starting new HTTPS connection (1): www.joongang.co.kr:443\n",
      "DEBUG:urllib3.connectionpool:https://www.joongang.co.kr:443 \"GET /article/25282373 HTTP/11\" 200 None\n",
      "INFO:root:page_category: 스포츠\n",
      "INFO:root:category: 스포츠\n",
      "INFO:root:https://www.joongang.co.kr/article/25282373 은 오늘 오전 8시 이전 기사이므로 생략합니다.\n",
      "DEBUG:root:Scraping article: https://www.joongang.co.kr/article/25282395\n",
      "DEBUG:urllib3.connectionpool:Starting new HTTPS connection (1): www.joongang.co.kr:443\n",
      "DEBUG:urllib3.connectionpool:https://www.joongang.co.kr:443 \"GET /article/25282395 HTTP/11\" 200 None\n",
      "INFO:root:page_category: 스포츠\n",
      "INFO:root:category: 스포츠\n",
      "INFO:root:https://www.joongang.co.kr/article/25282395 은 오늘 오전 8시 이전 기사이므로 생략합니다.\n",
      "DEBUG:root:Scraping article: https://www.joongang.co.kr/article/25282399\n",
      "DEBUG:urllib3.connectionpool:Starting new HTTPS connection (1): www.joongang.co.kr:443\n",
      "DEBUG:urllib3.connectionpool:https://www.joongang.co.kr:443 \"GET /article/25282399 HTTP/11\" 200 None\n",
      "INFO:root:page_category: 스포츠\n",
      "INFO:root:category: 스포츠\n",
      "INFO:root:https://www.joongang.co.kr/article/25282399 은 오늘 오전 8시 이전 기사이므로 생략합니다.\n",
      "DEBUG:root:Scraping article: https://www.joongang.co.kr/article/25282400\n",
      "DEBUG:urllib3.connectionpool:Starting new HTTPS connection (1): www.joongang.co.kr:443\n",
      "DEBUG:urllib3.connectionpool:https://www.joongang.co.kr:443 \"GET /article/25282400 HTTP/11\" 200 None\n",
      "INFO:root:page_category: 스포츠\n",
      "INFO:root:category: 스포츠\n",
      "INFO:root:https://www.joongang.co.kr/article/25282400 은 오늘 오전 8시 이전 기사이므로 생략합니다.\n",
      "DEBUG:root:Scraping article: https://www.joongang.co.kr/article/25282404\n",
      "DEBUG:urllib3.connectionpool:Starting new HTTPS connection (1): www.joongang.co.kr:443\n",
      "DEBUG:urllib3.connectionpool:https://www.joongang.co.kr:443 \"GET /article/25282404 HTTP/11\" 200 None\n",
      "INFO:root:page_category: 스포츠\n",
      "INFO:root:category: 스포츠\n",
      "INFO:root:https://www.joongang.co.kr/article/25282404 은 오늘 오전 8시 이전 기사이므로 생략합니다.\n",
      "DEBUG:root:Scraping article: https://www.joongang.co.kr/article/25282406\n",
      "DEBUG:urllib3.connectionpool:Starting new HTTPS connection (1): www.joongang.co.kr:443\n",
      "DEBUG:urllib3.connectionpool:https://www.joongang.co.kr:443 \"GET /article/25282406 HTTP/11\" 200 None\n",
      "INFO:root:page_category: 스포츠\n",
      "INFO:root:category: 스포츠\n",
      "INFO:root:https://www.joongang.co.kr/article/25282406 은 오늘 오전 8시 이전 기사이므로 생략합니다.\n",
      "DEBUG:root:Scraping article: https://www.joongang.co.kr/article/25282451\n",
      "DEBUG:urllib3.connectionpool:Starting new HTTPS connection (1): www.joongang.co.kr:443\n",
      "DEBUG:urllib3.connectionpool:https://www.joongang.co.kr:443 \"GET /article/25282451 HTTP/11\" 200 None\n",
      "INFO:root:page_category: 스포츠\n",
      "INFO:root:category: 스포츠\n",
      "INFO:root:https://www.joongang.co.kr/article/25282451 은 오늘 오전 8시 이전 기사이므로 생략합니다.\n",
      "DEBUG:root:Scraping article: https://www.joongang.co.kr/article/25282475\n",
      "DEBUG:urllib3.connectionpool:Starting new HTTPS connection (1): www.joongang.co.kr:443\n",
      "DEBUG:urllib3.connectionpool:https://www.joongang.co.kr:443 \"GET /article/25282475 HTTP/11\" 200 None\n",
      "INFO:root:page_category: 스포츠\n",
      "INFO:root:category: 스포츠\n",
      "INFO:root:https://www.joongang.co.kr/article/25282475 은 오늘 오전 8시 이전 기사이므로 생략합니다.\n",
      "DEBUG:root:Scraping article: https://www.joongang.co.kr/article/25282611\n",
      "DEBUG:urllib3.connectionpool:Starting new HTTPS connection (1): www.joongang.co.kr:443\n",
      "DEBUG:urllib3.connectionpool:https://www.joongang.co.kr:443 \"GET /article/25282611 HTTP/11\" 200 None\n",
      "INFO:root:page_category: 스포츠\n",
      "INFO:root:category: 스포츠\n",
      "INFO:root:https://www.joongang.co.kr/article/25282611 은 오늘 오전 8시 이전 기사이므로 생략합니다.\n",
      "DEBUG:root:Scraping article: https://www.joongang.co.kr/article/25282676\n",
      "DEBUG:urllib3.connectionpool:Starting new HTTPS connection (1): www.joongang.co.kr:443\n",
      "DEBUG:urllib3.connectionpool:https://www.joongang.co.kr:443 \"GET /article/25282676 HTTP/11\" 200 None\n",
      "INFO:root:page_category: 스포츠\n",
      "INFO:root:category: 스포츠\n",
      "INFO:root:https://www.joongang.co.kr/article/25282676 은 오늘 오전 8시 이전 기사이므로 생략합니다.\n",
      "DEBUG:root:Scraping article: https://www.joongang.co.kr/article/25282682\n",
      "DEBUG:urllib3.connectionpool:Starting new HTTPS connection (1): www.joongang.co.kr:443\n",
      "DEBUG:urllib3.connectionpool:https://www.joongang.co.kr:443 \"GET /article/25282682 HTTP/11\" 200 None\n",
      "INFO:root:page_category: 스포츠\n",
      "INFO:root:category: 스포츠\n",
      "INFO:root:https://www.joongang.co.kr/article/25282682 은 오늘 오전 8시 이전 기사이므로 생략합니다.\n",
      "DEBUG:root:Scraping article: https://www.joongang.co.kr/article/25282677\n",
      "DEBUG:urllib3.connectionpool:Starting new HTTPS connection (1): www.joongang.co.kr:443\n",
      "DEBUG:urllib3.connectionpool:https://www.joongang.co.kr:443 \"GET /article/25282677 HTTP/11\" 200 None\n",
      "INFO:root:page_category: 스포츠\n",
      "INFO:root:category: 스포츠\n",
      "INFO:root:https://www.joongang.co.kr/article/25282677 은 오늘 오전 8시 이전 기사이므로 생략합니다.\n",
      "DEBUG:root:Scraping article: https://www.joongang.co.kr/article/25282683\n",
      "DEBUG:urllib3.connectionpool:Starting new HTTPS connection (1): www.joongang.co.kr:443\n",
      "DEBUG:urllib3.connectionpool:https://www.joongang.co.kr:443 \"GET /article/25282683 HTTP/11\" 200 None\n",
      "INFO:root:page_category: 스포츠\n",
      "INFO:root:category: 스포츠\n",
      "INFO:root:https://www.joongang.co.kr/article/25282683 은 오늘 오전 8시 이전 기사이므로 생략합니다.\n",
      "DEBUG:root:Scraping article: https://www.joongang.co.kr/article/25282776\n",
      "DEBUG:urllib3.connectionpool:Starting new HTTPS connection (1): www.joongang.co.kr:443\n",
      "DEBUG:urllib3.connectionpool:https://www.joongang.co.kr:443 \"GET /article/25282776 HTTP/11\" 200 None\n",
      "INFO:root:page_category: 스포츠\n",
      "INFO:root:category: 스포츠\n",
      "INFO:root:Article saved to ./joongang/sports/2024-10-08-1\\source-2024-10-08-1.json\n",
      "DEBUG:root:Scraping article: https://www.joongang.co.kr/article/25282795\n",
      "DEBUG:urllib3.connectionpool:Starting new HTTPS connection (1): www.joongang.co.kr:443\n",
      "DEBUG:urllib3.connectionpool:https://www.joongang.co.kr:443 \"GET /article/25282795 HTTP/11\" 200 None\n"
     ]
    },
    {
     "name": "stdout",
     "output_type": "stream",
     "text": [
      "{'title': 'FA 고민하는 김하성… PS 불발 아쉬움, 대박 계약으로 풀까', 'source_url': 'https://www.joongang.co.kr/article/25282776', 'content': '샌디에이고 파드리스를 떠나 FA 시장으로 나설 것이 유력한 김하성. AP=연합뉴스포스트시즌에 나서지 못한 아쉬움을 대박 계약으로 풀까. 김하성(29)이 특급 에이전트 스캇 보라스와 손잡고\\xa0자유계약선수(FA)에 나설 듯하다.샌디에이고는 LA 다저스와 내셔널리그 디비전시리즈에서 대결 중이다. 하지만 김하성은 지난 8월 입은 어깨 부상 때문에 엔트리에 들지 못했다. 김하성과 샌디에이고는 이대로 작별할 듯하다. FA를 선언할 가능성이 높기 때문이다.김하성은 2021년 샌디에이고 파드리스와 \\'4+1년\\' 계약을 맺었다. 보장금액은 2800만 달러(약 377억원), 최대 3900만 달러(525억원)였다. 올해로 4년 계약은 끝난다. 1년 연장 구단과 선수가 내년 연봉 800만 달러(108억원)에 합의해야 가능하다. 장기 계약자가 많은 샌디에이고로선 김하성의 연봉을 올려줄 여유가 없다.김하성은 지난 4년 동안 큰 활약을 펼쳤다. 특히 메이저리그(MLB)에 적응을 마친 지난 시즌엔 타율 0.260, 17홈런 38도루를 기록했다. 올해는 부상으로 시즌을 일찍 마쳤지만, 타율 0.233, 11홈런, OPS(장타율+출루율) 0.700의 준수한 성적을 냈다.특히 수비는 MLB 최정상급이다. 2022년 골드글러브 유격수 부문 후보에 올랐고, 지난해엔 유틸리티 부문 수상까지 했다. 유격수, 3루수, 2루수를 모두 소화할 수 있다는 점도 매력적이다. 무엇보다 올해 FA 시장엔 특급 유격수가 없다. 윌리 아다메스(밀워키 브루어스)과 김하성이 \\'탑2\\'로 꼽힌다. 1억 달러(1345억원) 이상의 대형 계약도 가능하다는 예상이 많다. 다만 김하성은 손상된 왼쪽 어깨 와순을 봉합하는 수술을 받을 예정이다. 몸값에 영향을 끼칠 수 있는 요인이다.샌디에이고 파드리스를 떠나 FA 시장으로 나설 것이 유력한 김하성. AP=연합뉴스김하성은 최근 에이전시를\\xa0보라스 코퍼레이션으로 바꿨다. 보라스는 과거 박찬호, 추신수, 류현진의 대형 계약을 이끌어낸 바 있다. 구단에는 \\'악마\\', 선수들에겐 \\'천사\\'라는 엇갈린 평가를 받는다. 올해는 이정후와 샌프란시스코 자이언츠와 6년 1억1300만 달러(1520억원) 계약을 성사시켰다.최근 보라스의 협상 전략이 잘 통하지 않는다는 점은 변수다. 지난 시즌 보라스는 주요 고객들의 장기 계약에 실패했다. \\'버티기 전술\\'을 펼쳤지만, 구단들이 외면했다. 2억 달러 계약이 유력했던 블레이크 스넬(샌프란시스코 자이언츠)은 6200만달러(2년 834억원)에 머물렀다. 애리조나 다이아몬드백스와 1년 계약을 맺은 조던 몽고메리는 \"보라스가 협상을 망쳤다\"며 결별했다.김효경 기자 kaypubb@joongang.co.kr', 'category': 'sports', 'source_created_at': '2024-10-08T09:32:30+09:00', 'press_id': 1, 'press_name': '중앙일보'}\n"
     ]
    },
    {
     "name": "stderr",
     "output_type": "stream",
     "text": [
      "INFO:root:page_category: 스포츠\n",
      "INFO:root:category: 스포츠\n",
      "INFO:root:Article saved to ./joongang/sports/2024-10-08-2\\source-2024-10-08-2.json\n",
      "DEBUG:root:Scraping article: https://www.joongang.co.kr/article/25282798\n",
      "DEBUG:urllib3.connectionpool:Starting new HTTPS connection (1): www.joongang.co.kr:443\n",
      "DEBUG:urllib3.connectionpool:https://www.joongang.co.kr:443 \"GET /article/25282798 HTTP/11\" 200 None\n"
     ]
    },
    {
     "name": "stdout",
     "output_type": "stream",
     "text": [
      "{'title': '여자 축구대표팀 새 사령탑에 신상우 김천 상무 코치 낙점', 'source_url': 'https://www.joongang.co.kr/article/25282795', 'content': '여자 축구대표팀 감독으로 낙점된 신상우 김천 코치. 사진 김천 상무여자 축구대표팀 새 사령탑으로 신상우 프로축구 K리그1 김천상무 코치가 낙점됐다.8일 최영일 대한축구협회 부회장에 따르면 신상우 코치가 여자 대표팀 감독으로 선임됐다. 이사회도 통과했고, 공식 발표 시점을 고민하는 단계다. 일본과 평가전이 오는 26일 열릴 예정이라서 빠르게 선임 절차를 마치고, 코치진과 선수단을 구성해야 하는 상황이다.\\xa0여자 대표팀 감독은 지난 6월 콜린 벨 감독과 계약을 종료한 이후 공석이다.한국 정서에 맞고 유소년 축구부터 다 챙길 수 있는 국내 지도자를 염두에 뒀던\\xa0축구협회는 신 감독을 두고 약 한 달간 기술 철학과 (여자축구의) 방향성 등을 철저하게 검증하는 선임 절차를 거쳤다. 올 시즌 김천이 K리그1에서 좋은 성적을 낸 것도 가산점이 됐다. 김천은 현재 울산 HD에 이어 리그 2위를 달리며 우승을 노리고 있다.2022년부터 김천에서 코치로 일한 신 감독은 여자축구 전문가다.\\xa02015년 여자 실업축구 WK리그 보은상무 수석 코치를 지낸 후 2017년에는 이천 대교 지휘봉을 잡았다.\\xa0WK리그 명문 구단이었던 대교가 2017시즌을 끝으로 해체되자, 2018년부터는 창녕WFC로 둥지를 옮겨 초대 감독으로서 팀을 이끌었다.피주영 기자 akapj@joongang.co.kr', 'category': 'sports', 'source_created_at': '2024-10-08T11:17:17+09:00', 'press_id': 1, 'press_name': '중앙일보'}\n"
     ]
    },
    {
     "name": "stderr",
     "output_type": "stream",
     "text": [
      "INFO:root:page_category: 스포츠\n",
      "INFO:root:category: 스포츠\n",
      "INFO:root:Article saved to ./joongang/sports/2024-10-08-3\\source-2024-10-08-3.json\n",
      "DEBUG:root:Scraping article: https://www.joongang.co.kr/article/25282831\n",
      "DEBUG:urllib3.connectionpool:Starting new HTTPS connection (1): www.joongang.co.kr:443\n",
      "DEBUG:urllib3.connectionpool:https://www.joongang.co.kr:443 \"GET /article/25282831 HTTP/11\" 200 None\n"
     ]
    },
    {
     "name": "stdout",
     "output_type": "stream",
     "text": [
      "{'title': '황희찬에 \"재키 챈\" 조롱한 선수, 인종차별로 \\'10경기 출전정지\\'', 'source_url': 'https://www.joongang.co.kr/article/25282798', 'content': '올 시즌을 앞두고 연습경기 중 인종차별적 발언을 들은 황희찬. AFP=연합뉴스축구대표팀 공격수 황희찬(울버햄프턴)에게 연습 경기 중 인종차별적 발언을 한 마르코 쿠르토(체세나)가 국제축구연맹(FIFA)으로부터 10경기 출전 정지 징계를 받았다.7일(현지시간) 영국 스포츠 매체 스카이스포츠에 따르면 쿠르토는 코모 1907(이탈리아)에서 뛰던 지난 7월 울버햄프턴(잉글랜드)과의 프리 시즌 연습 경기 후반 23분 황희찬을 향해 인종차별적 발언을 했다는 혐의가 인정돼 FIFA가 징계를 확정했다. FIFA는 \"쿠르토가 차별적인 발언을 한 데 책임이 인정돼 10경기 출전 정지 징계를 내린다\"고 밝혔다. 그러면서 \"이 가운데 절반인 5경기에 대해서는 2년간 출전 정지 조치의 집행이 유예된다\"고 설명했다.사건이 일어난 시점에 코모 구단은 쿠르토가 동료 수비수에게 \\'무시해, 황희찬은 스스로를 재키 챈(홍콩 스타 성룡)이라 생각한다\\'고 말한 걸로 파악했다고 밝혔다. 이 경기 당시\\xa0울버햄프턴에서 뛴 다니엘 포덴세(알샤바브)가 동료 황희찬을 향한 인종차별적 발언에 분노해 쿠르토에게 주먹을 날린 뒤 퇴장을 당했다.\\xa0게리 오닐 울버햄프턴 감독은 황희찬에게 \"계속 경기를 뛰어도 괜찮겠냐\"고 물었다. 황희찬은 경기를 끝까지 소화했다.경기 후 코모는 황희찬이 울버햄프턴 동료들에게 \\'차니\\'라고 불리는 걸 듣고 쿠르토가 이 같은 발언을 했을 거라고 해명했다.\\xa0쿠르토는 황희찬을 향한 인종차별적 발언에 따른 논란이 불거지자 문제의 연습 경기가 열린 후 1주 만에 코모를 떠나 이탈리아 2부 리그 팀인 체세나로 임대 이적했다. 울버햄프턴의 축구 분야 최고 책임자 맷 와일드는 \"이런 징계는 축구에서 인종차별이 허용되면 안 된다는 분명한 메시지를 전달한다\"며 \"울버햄프턴은 구성원 모두가 존중받고 소속감을 느낄 수 있는 환경을 꾸리도록 최선을 다할 것\"이라고 밝혔다.피주영 기자 akapj@joongang.co.kr', 'category': 'sports', 'source_created_at': '2024-10-08T11:26:46+09:00', 'press_id': 1, 'press_name': '중앙일보'}\n"
     ]
    },
    {
     "name": "stderr",
     "output_type": "stream",
     "text": [
      "INFO:root:page_category: 스포츠\n",
      "INFO:root:category: 스포츠\n",
      "INFO:root:Article saved to ./joongang/sports/2024-10-08-4\\source-2024-10-08-4.json\n"
     ]
    },
    {
     "name": "stdout",
     "output_type": "stream",
     "text": [
      "{'title': '히딩크도 페예노르트 에이스 황인범 칭찬 \"그라운드서 리더처럼 행동\"', 'source_url': 'https://www.joongang.co.kr/article/25282831', 'content': '히딩크의 칭찬을 받은 황인범. AFP=연합뉴스한국 축구대표팀을 이끌고 2002 한일월드컵에서 4강 신화를 일궜던 명장 거스 히딩크(네덜란드) 감독이 자국 리그에서 맹활약하는 황인범(페예노르트)의 실력을 높이 평가했다.히딩크 감독은 지난 6일(현지시간) 네덜란드 스포츠 방송 스튜디오 풋발에 출연해 \"황인범을 잘 알지 못하지만, 유럽에서 경험이 많은 선수고, 리더처럼 행동하는 모습이 긍정적\"이라고 칭찬했다.\\xa0특히 히딩크 감독은 그라운드에서 황인범의 적극적인 모습에 높은 점수를 줬다. 그는\\xa0\"나는 한국 사람들과 일해봤다. 대부분 매우 얌전한 성격이지만 황인범이 동료들에게 몇 차례 손으로 지시하는 걸 봤다\"고 설명했다.\\'중원 사령관\\' 황인범은 지난 6일 트벤테와의 2024~25시즌 네덜란드 에레디비시 8라운드 홈 경기에서 결승 골을 터뜨리며 팀의 2-1 승리를 이끌었다. 페예노르트는 개막 7경기 무패(3승 4무)로 리그 5위를 달렸다. 황인범은 페예노르트가 1-0으로 앞선 전반 43분 왼발 중거리슛으로 골을 터뜨렸다. 시즌 1호 골이자 페예노르트 데뷔골이었다. 그는 이 경기 최우수선수(MOM)에도 선정됐다.황인범은 지난달 3일 세르비아 츠르베나즈베즈다에서 네덜란드 페예노르트로 이적했다. 이미 밴쿠버(미국), 루빈 카잔(러시아), 올림피아코스(그리스), 즈베즈다 등 다양한 리그를 경험한 그는 페예노르트 이적과 동시에 주전 자리를 꿰찼다. 주 무기인 날카로운 패스로 빼어난 활약을 펼친 끝에 구단 선정 ‘9월의 선수’로 뽑히는 등 이적하자마자 팀의 에이스로 자리 잡았다.황인범은 지난 7일 스포츠 매체 ESPN으로부터 8라운드에서 최고의 활약을 보여준 선수로도 선정됐다. ESPN 네덜란드판은 \"황인범이 이렇게 짧은 기간에 존재감을 드러낸 건 매우 인상적인 일\"이라고 호평했다. 황인범은 6라운드 때도 이 매체가 뽑은 라운드 베스트 11에 오른 바 있다. 황인범은 현재 홍명보 감독이 이끄는 한국 축구대표팀에 합류했다. 그는 10일 오후 11시 요르단 암만국제경기장에서 요르단과의 2026 북중미월드컵 아시아 3차 예선 3차전 원정경기에서 홍명보호의 중원을 이끌 예정이다.피주영 기자 akapj@joongang.co.kr', 'category': 'sports', 'source_created_at': '2024-10-08T14:05:17+09:00', 'press_id': 1, 'press_name': '중앙일보'}\n"
     ]
    }
   ],
   "source": [
    "import requests\n",
    "from bs4 import BeautifulSoup\n",
    "import pandas as pd\n",
    "import time\n",
    "import logging\n",
    "import os\n",
    "import re\n",
    "from datetime import datetime\n",
    "from urllib.parse import urlparse\n",
    "\n",
    "logging.basicConfig(level='DEBUG')\n",
    "\n",
    "header = {'User-Agent': ('Mozilla/5.0 (Windows NT 10.0; Win64; x64) AppleWebKit/537.36 '\n",
    "                         '(KHTML, like Gecko) Chrome/104.0.0.0 Safari/537.36'),}\n",
    "\n",
    "output_dir = './joongang'\n",
    "if not os.path.exists(output_dir):\n",
    "    os.makedirs(output_dir)\n",
    "\n",
    "categories = {\n",
    "    '정치': 'https://www.joongang.co.kr/politics',\n",
    "    '경제': 'https://www.joongang.co.kr/money',\n",
    "    '국제': 'https://www.joongang.co.kr/world',\n",
    "    '사회_사건': 'https://www.joongang.co.kr/society/accident', # 앞 분기 기준\n",
    "    '경제_과학': 'https://www.joongang.co.kr/money/science', # 앞 분기 기준\n",
    "    '사회': 'https://www.joongang.co.kr/society',\n",
    "    '스포츠': 'https://www.joongang.co.kr/sports',\n",
    "}\n",
    "\n",
    "\n",
    "result_categories = {\n",
    "    '정치': 'politics',\n",
    "    '경제': 'economy',\n",
    "    '국제': 'world',\n",
    "    '사회_사건': 'accident',\n",
    "    '경제_과학': 'science',\n",
    "    '사회': 'society',\n",
    "    '스포츠': 'sports',\n",
    "}\n",
    "\n",
    "# 현재 날짜의 오전 8시 (시간대는 +09:00 기준)\n",
    "today = datetime.now().replace(hour=8, minute=0, second=0, microsecond=0, tzinfo=datetime.now().astimezone().tzinfo)\n",
    "\n",
    "def scrap_article(article_url, category):\n",
    "    response = requests.get(article_url, headers=header)\n",
    "    soup = BeautifulSoup(response.text, 'html.parser')\n",
    "\n",
    "    try:\n",
    "\n",
    "        page_category = soup.find('a', {'class': 'title'}).get_text(strip=True)\n",
    "        logging.info(f\"page_category: {page_category}\")\n",
    "        \n",
    "        logging.info(f\"category: {category}\")\n",
    "\n",
    "        category_parts = category.split('_')\n",
    "        \n",
    "        # 카테고리가 아닌 글은 패스\n",
    "        if page_category not in category_parts:\n",
    "            logging.info(f\"{article_url} 는 해당 카테고리가 아니어서 생략합니다. \")\n",
    "            return None\n",
    "    except AttributeError:\n",
    "        logging.error(f\"{article_url} 는 찾을 수 없습니다.\")\n",
    "        return None\n",
    "\n",
    "    # 헤드라인 스크랩\n",
    "    try:\n",
    "        title = soup.find('h1', {'class': 'headline'}).get_text(strip=True)\n",
    "    except AttributeError:\n",
    "        title = 'N/A'\n",
    "\n",
    "    # 생성일 스크랩\n",
    "    try:\n",
    "        date = soup.find('p', {'class': 'date'})\n",
    "        time = date.find('time').get('datetime')\n",
    "    except AttributeError:\n",
    "        time = 'N/A'\n",
    "\n",
    "    # 본문 스크랩\n",
    "    try:\n",
    "        content = soup.find('div', {'class': 'article_body'}).get_text(strip=True)\n",
    "    except AttributeError:\n",
    "        content = 'N/A'\n",
    "\n",
    "    result_category = result_categories.get(category, 'unknown')\n",
    "\n",
    "    return {'title': title, 'source_url': article_url, 'content': content, 'category': result_category, 'source_created_at': time, 'press_id': 1, 'press_name': '중앙일보'}\n",
    "\n",
    "# 파일 생성\n",
    "def save_article_as_json(article_data, date, file_idx):\n",
    "    category = article_data.get('category')\n",
    "    file_name = date + \"-\" + str(file_idx) + '.json'\n",
    "    result_dir = output_dir + \"/\" + category + \"/\" + date + \"-\" + str(file_idx)\n",
    "    if not os.path.exists(result_dir):\n",
    "        os.makedirs(result_dir)\n",
    "\n",
    "    file_path = os.path.join(result_dir, 'source-' + file_name)\n",
    "    \n",
    "    # 단일 dataframe 생성\n",
    "    single_article_df = pd.DataFrame([article_data])\n",
    "    \n",
    "    # json으로 변환\n",
    "    single_article_df.to_json(file_path, orient='records', lines=True, force_ascii=False)\n",
    "    logging.info(f\"Article saved to {file_path}\")\n",
    "\n",
    "def check_for_new_articles(base_url, category):\n",
    "    response = requests.get(base_url, headers=header)\n",
    "    soup = BeautifulSoup(response.text, 'html.parser')\n",
    "\n",
    "    article_count = 0\n",
    "    cards = soup.find_all('li', class_='card')\n",
    "    cards.reverse()\n",
    "    for card in cards:\n",
    "        if article_count >= 4:\n",
    "            break\n",
    "\n",
    "        link_tag = card.find('a', href=True)\n",
    "        if link_tag and 'href' in link_tag.attrs:\n",
    "            article_link = link_tag['href']\n",
    "        else:\n",
    "            logging.warning(\"article_link is None or missing 'href'.\")\n",
    "            continue\n",
    "    \n",
    "        logging.debug(f\"Scraping article: {article_link}\")\n",
    "\n",
    "        result = scrap_article(article_link, category)\n",
    "\n",
    "        if result is None:\n",
    "            continue\n",
    "\n",
    "        if result.get('category') not in ['accident', 'science']:\n",
    "            # 'source_created_at'를 datetime 객체로 변환\n",
    "            article_time = datetime.strptime(result.get('source_created_at'), '%Y-%m-%dT%H:%M:%S%z')\n",
    "            # 오늘 오전 8시 이후가 아니면 continue\n",
    "            if article_time < today:\n",
    "                logging.info(f\"{article_link} 은 오늘 오전 8시 이전 기사이므로 생략합니다.\")\n",
    "                continue\n",
    "\n",
    "        print(result)\n",
    "        article_count += 1\n",
    "        date = re.match(r'^[^T]+', result.get('source_created_at')).group()\n",
    "        save_article_as_json(result, date, article_count)\n",
    "\n",
    "def scrap_all_categories():\n",
    "    \n",
    "    for category, base_url in categories.items():\n",
    "        logging.info(f\"category (base_url): {category} ({base_url})\")\n",
    "        check_for_new_articles(base_url, category)\n",
    "        time.sleep(2)\n",
    "\n",
    "scrap_all_categories()"
   ]
  },
  {
   "cell_type": "markdown",
   "metadata": {},
   "source": [
    "## 한국경제"
   ]
  },
  {
   "cell_type": "code",
   "execution_count": 5,
   "metadata": {},
   "outputs": [
    {
     "name": "stderr",
     "output_type": "stream",
     "text": [
      "INFO:root:category (base_url): 경제 (https://www.hankyung.com/economy)\n",
      "DEBUG:urllib3.connectionpool:Starting new HTTPS connection (1): www.hankyung.com:443\n",
      "DEBUG:urllib3.connectionpool:https://www.hankyung.com:443 \"GET /economy HTTP/11\" 200 None\n"
     ]
    },
    {
     "name": "stdout",
     "output_type": "stream",
     "text": [
      "Status Code: 200\n",
      "Location (Redirect URL): None\n"
     ]
    },
    {
     "name": "stderr",
     "output_type": "stream",
     "text": [
      "INFO:root:category (base_url): 정치 (https://www.hankyung.com/politics)\n",
      "DEBUG:urllib3.connectionpool:Starting new HTTPS connection (1): www.hankyung.com:443\n",
      "DEBUG:urllib3.connectionpool:https://www.hankyung.com:443 \"GET /politics HTTP/11\" 200 None\n"
     ]
    },
    {
     "name": "stdout",
     "output_type": "stream",
     "text": [
      "Status Code: 200\n",
      "Location (Redirect URL): None\n"
     ]
    }
   ],
   "source": [
    "import requests\n",
    "from bs4 import BeautifulSoup\n",
    "import pandas as pd\n",
    "import time\n",
    "import logging\n",
    "from urllib.parse import urlparse\n",
    "\n",
    "logging.basicConfig(level='DEBUG')\n",
    "\n",
    "header = {'User-Agent': ('Mozilla/5.0 (Windows NT 10.0; Win64; x64) AppleWebKit/537.36 '\n",
    "                         '(KHTML, like Gecko) Chrome/104.0.0.0 Safari/537.36'),}\n",
    "\n",
    "categories = {\n",
    "    '경제': 'https://www.hankyung.com/economy',\n",
    "    '정치': 'https://www.hankyung.com/politics'\n",
    "}\n",
    "\n",
    "\n",
    "def scrap_article(article_url, category):\n",
    "    response = requests.get(article_url, headers=header)\n",
    "    soup = BeautifulSoup(response.text, 'html.parser')\n",
    "\n",
    "    try:\n",
    "      \n",
    "        # 해당 페이지 카테고리\n",
    "        page_category = soup.find('a', {'class': 'title'}).get_text(strip=True)\n",
    "        logging.info(f\"page_category: {page_category}\")\n",
    "        \n",
    "        # 찾고있는 카테고리\n",
    "        logging.info(f\"category: {category}\")\n",
    "\n",
    "        category = category.split('_')\n",
    "        \n",
    "        # 페이지 카테고리 != 찾고있는 카테고리 -> 스킵\n",
    "        if page_category not in category:\n",
    "            logging.info(f\"{article_url} 는 해당 카테고리가 아니어서 생략합니다. \")\n",
    "            return None\n",
    "        \n",
    "    except AttributeError:\n",
    "        # 유효하지 않은 url 스킵\n",
    "        logging.error(f\"{article_url} 는 찾을 수 없습니다.\")\n",
    "        return None\n",
    "\n",
    "    # 헤드라인 스크랩\n",
    "    try:\n",
    "        headline = soup.find('h3', {'class': 'next-fit'}).get_text(strip=True)\n",
    "    except AttributeError:\n",
    "        headline = 'N/A'\n",
    "\n",
    "    # 생성일 스크랩\n",
    "    try:\n",
    "        date = soup.find('span', {'class': 'txt-date'})\n",
    "        time = date.find('time').get('datetime')\n",
    "    except AttributeError:\n",
    "        time = 'N/A'\n",
    "\n",
    "    # 본문 스크랩\n",
    "    try:\n",
    "        content = soup.find('p', {'class': 'lead'}).get_text(strip=True)\n",
    "    except AttributeError:\n",
    "        content = 'N/A'\n",
    "\n",
    "    \n",
    "    return {'title': headline, 'time': time, 'content': content}\n",
    "\n",
    "\n",
    "def check_for_new_articles(base_url, category):\n",
    "    \n",
    "    # 결과 받아오기\n",
    "    response = requests.get(base_url, headers=header, allow_redirects=False)\n",
    "    print(f\"Status Code: {response.status_code}\")\n",
    "    print(f\"Location (Redirect URL): {response.headers.get('Location')}\")\n",
    "    \n",
    "    # 받은 결과를 BeautifulSoup로 전달\n",
    "    soup = BeautifulSoup(response.text, 'html.parser')\n",
    "\n",
    "    # 현재 가져온 기사 갯수 초기화\n",
    "    article_count = 0\n",
    "    \n",
    "    # 해당 태그와 일치하는 내용 가져오기\n",
    "    articles = soup.find_all('h3', class_='news-fit')\n",
    "    \n",
    "    # 최신 기사를 가져오기 위하 정렬 수행\n",
    "    articles.reverse()\n",
    "    \n",
    "    # 가져온 card를 탐색\n",
    "    for article in articles:\n",
    "        \n",
    "        # 기사를 3개 추출한 경우 종료\n",
    "        if article_count >= 3:\n",
    "            break\n",
    "\n",
    "        # 기사 url 추출\n",
    "        link_tag = article.find('a', href=True)\n",
    "        if link_tag and 'href' in link_tag.attrs:\n",
    "            article_link = link_tag['href']\n",
    "        else:\n",
    "            logging.warning(\"article_link is None or missing 'href'.\")\n",
    "            continue\n",
    "    \n",
    "        logging.debug(f\"Scraping article: {article_link}\")\n",
    "\n",
    "        # 기사 추출\n",
    "        result = scrap_article(article_link, category)\n",
    "\n",
    "        # 추출된 기사가 있는 경우에만 다음 로직을 수행\n",
    "        if result:\n",
    "\n",
    "            print(result)\n",
    "            # 카운팅\n",
    "            article_count += 1\n",
    "    \n",
    "\n",
    "def scrap_all_categories():\n",
    "    \n",
    "    for category, base_url in categories.items():\n",
    "        logging.info(f\"category (base_url): {category} ({base_url})\")\n",
    "        check_for_new_articles(base_url, category)\n",
    "        time.sleep(2)\n",
    "\n",
    "scrap_all_categories()"
   ]
  }
 ],
 "metadata": {
  "kernelspec": {
   "display_name": "Python 3",
   "language": "python",
   "name": "python3"
  },
  "language_info": {
   "codemirror_mode": {
    "name": "ipython",
    "version": 3
   },
   "file_extension": ".py",
   "mimetype": "text/x-python",
   "name": "python",
   "nbconvert_exporter": "python",
   "pygments_lexer": "ipython3",
   "version": "3.11.9"
  }
 },
 "nbformat": 4,
 "nbformat_minor": 2
}
